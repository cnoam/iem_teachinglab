{
 "cells": [
  {
   "attachments": {},
   "cell_type": "markdown",
   "metadata": {
    "application/vnd.databricks.v1+cell": {
     "cellMetadata": {
      "byteLimit": 2048000,
      "rowLimit": 10000
     },
     "inputWidgets": {},
     "nuid": "01807ea7-1080-4665-872a-8b4a8bcab008",
     "showTitle": false,
     "title": ""
    }
   },
   "source": [
    "# Mount an Azure Blob Container as a directory in the linux file system (in the Worker node)\n",
    "This has to be done once - the mounting is remembered between cluster restarts.\n",
    "\n",
    "The mount point is in a distributed file system called DBUTILS -- a product of Databricks.\n",
    "\n",
    "See the documentation at  https://docs.databricks.com/files/index.html  to understand the difference between this mount point and using the local storage of a cluster\n",
    "\n",
    "This file is part of https://github.com/cnoam/iem_teachinglab.git in 'databricks' folder"
   ]
  },
  {
   "cell_type": "code",
   "execution_count": null,
   "metadata": {
    "application/vnd.databricks.v1+cell": {
     "cellMetadata": {
      "byteLimit": 2048000,
      "rowLimit": 10000
     },
     "inputWidgets": {},
     "nuid": "c581d14c-4d24-4ae8-9a72-54da711cc4ac",
     "showTitle": false,
     "title": ""
    }
   },
   "outputs": [
    {
     "name": "stdout",
     "output_type": "stream",
     "text": [
      "/mnt/ddscoursedatastorage/dds-students is already mounted\n"
     ]
    }
   ],
   "source": [
    "storage_account = \"ddscoursedatastorage\"  \n",
    "container = \"dds-students\"  \n",
    "\n",
    "# Generate an \"Access key\" for the storage account. \n",
    "# Once used, ROTATE the key in the portal, making it void\n",
    "secret = \"base64 access key ==\"\n",
    "mount_point   = \"/mnt/{storage_account}/{container}\".format(storage_account = storage_account, container = container)  \n",
    "\n",
    "if mount_point not in [m.mountPoint for m in dbutils.fs.mounts()]:  \n",
    "                dbutils.fs.mount(  \n",
    "                   source        = \"wasbs://{container}@{storage_account}.blob.core.windows.net/\".format(container = container, storage_account = storage_account),  \n",
    "                   mount_point   = mount_point,  \n",
    "                   extra_configs = {\"fs.azure.account.key.{storage_account}.blob.core.windows.net\".format(storage_account = storage_account) : secret}  \n",
    "                 )  \n",
    "else:\n",
    "    print(f\"{mount_point} is already mounted\")\n",
    "  \n",
    "\n"
   ]
  },
  {
   "cell_type": "code",
   "execution_count": null,
   "metadata": {
    "application/vnd.databricks.v1+cell": {
     "cellMetadata": {
      "byteLimit": 2048000,
      "rowLimit": 10000
     },
     "inputWidgets": {},
     "nuid": "cc3f5c30-c47d-413b-8d1b-9a815e5581fe",
     "showTitle": false,
     "title": ""
    }
   },
   "outputs": [
    {
     "name": "stdout",
     "output_type": "stream",
     "text": [
      "Out[2]: [FileInfo(path='dbfs:/mnt/ddscoursedatastorage/dds-students/readme.md', name='readme.md', size=59, modificationTime=1684250570000),\n",
      " FileInfo(path='dbfs:/mnt/ddscoursedatastorage/dds-students/test.csv', name='test.csv', size=21, modificationTime=1684252823000)]"
     ]
    }
   ],
   "source": [
    "dbutils.fs.ls(\"/mnt/ddscoursedatastorage/dds-students\") "
   ]
  },
  {
   "cell_type": "code",
   "execution_count": null,
   "metadata": {
    "application/vnd.databricks.v1+cell": {
     "cellMetadata": {
      "byteLimit": 2048000,
      "rowLimit": 10000
     },
     "inputWidgets": {},
     "nuid": "12bf4cd2-149f-4ce7-9f8a-730fdd354644",
     "showTitle": false,
     "title": ""
    }
   },
   "outputs": [
    {
     "name": "stdout",
     "output_type": "stream",
     "text": [
      "calling open() will fail!\n"
     ]
    }
   ],
   "source": [
    "try: open(\"dbfs:/mnt/ddscoursedatastorage/dds-students/readme.md\", \"r\")\n",
    "except: print(\"calling open() will fail!\")"
   ]
  },
  {
   "cell_type": "code",
   "execution_count": null,
   "metadata": {
    "application/vnd.databricks.v1+cell": {
     "cellMetadata": {
      "byteLimit": 2048000,
      "rowLimit": 10000
     },
     "inputWidgets": {},
     "nuid": "2dc4401e-4313-493d-9e3c-c9246be7ac72",
     "showTitle": false,
     "title": ""
    }
   },
   "outputs": [
    {
     "name": "stdout",
     "output_type": "stream",
     "text": [
      "Out[5]: [FileInfo(path='dbfs:/mnt/ddscoursedatastorage/fwm-stb-data/demographic/SintecMedia.rpt_demodata.date_2015-12-31.2016-01-01.pd.gz', name='SintecMedia.rpt_demodata.date_2015-12-31.2016-01-01.pd.gz', size=9227110, modificationTime=1677512271000)]"
     ]
    }
   ],
   "source": [
    "dbutils.fs.ls(\"/mnt/ddscoursedatastorage/fwm-stb-data/demographic\") "
   ]
  },
  {
   "cell_type": "code",
   "execution_count": null,
   "metadata": {
    "application/vnd.databricks.v1+cell": {
     "cellMetadata": {
      "byteLimit": 2048000,
      "rowLimit": 10000
     },
     "inputWidgets": {},
     "nuid": "ff8295fb-1a52-49b7-899f-afae88c50f02",
     "showTitle": false,
     "title": ""
    }
   },
   "outputs": [
    {
     "name": "stdout",
     "output_type": "stream",
     "text": [
      "Out[6]: [MountInfo(mountPoint='/databricks-datasets', source='databricks-datasets', encryptionType=''),\n",
      " MountInfo(mountPoint='/mnt/ddscoursedatastorage/dds-students', source='wasbs://dds-students@ddscoursedatastorage.blob.core.windows.net/', encryptionType=''),\n",
      " MountInfo(mountPoint='/databricks/mlflow-tracking', source='databricks/mlflow-tracking', encryptionType=''),\n",
      " MountInfo(mountPoint='/databricks-results', source='databricks-results', encryptionType=''),\n",
      " MountInfo(mountPoint='/databricks/mlflow-registry', source='databricks/mlflow-registry', encryptionType=''),\n",
      " MountInfo(mountPoint='/mnt/ddscoursedatastorage/fwm-stb-data', source='wasbs://fwm-stb-data@ddscoursedatastorage.blob.core.windows.net/', encryptionType=''),\n",
      " MountInfo(mountPoint='/', source='DatabricksRoot', encryptionType='')]"
     ]
    }
   ],
   "source": [
    "# list the mount points\n",
    "dbutils.fs.mounts()\n",
    "#dbutils.fs.unmount('/mnt/ddscoursedatastorage/fwm-stb-data/')"
   ]
  },
  {
   "cell_type": "code",
   "execution_count": null,
   "metadata": {
    "application/vnd.databricks.v1+cell": {
     "cellMetadata": {
      "byteLimit": 2048000,
      "rowLimit": 10000
     },
     "inputWidgets": {},
     "nuid": "b792681c-99a8-4d20-8b91-93e4bd5a6ac1",
     "showTitle": false,
     "title": ""
    }
   },
   "outputs": [
    {
     "data": {
      "text/html": [
       "<style scoped>\n",
       "  .table-result-container {\n",
       "    max-height: 300px;\n",
       "    overflow: auto;\n",
       "  }\n",
       "  table, th, td {\n",
       "    border: 1px solid black;\n",
       "    border-collapse: collapse;\n",
       "  }\n",
       "  th, td {\n",
       "    padding: 5px;\n",
       "  }\n",
       "  th {\n",
       "    text-align: left;\n",
       "  }\n",
       "</style><div class='table-result-container'><table class='table-result'><thead style='background-color: white'><tr><th>path</th><th>name</th><th>size</th><th>modificationTime</th></tr></thead><tbody><tr><td>dbfs:/mnt/ddscoursedatastorage/fwm-stb-data/refxml/.listing</td><td>.listing</td><td>41729</td><td>1677512270000</td></tr><tr><td>dbfs:/mnt/ddscoursedatastorage/fwm-stb-data/refxml/SintecMedia.rpt_refxml.date_2015-01-01.2016-11-21.xml.gz</td><td>SintecMedia.rpt_refxml.date_2015-01-01.2016-11-21.xml.gz</td><td>5465767</td><td>1677512265000</td></tr><tr><td>dbfs:/mnt/ddscoursedatastorage/fwm-stb-data/refxml/SintecMedia.rpt_refxml.date_2015-01-02.2016-11-21.xml.gz</td><td>SintecMedia.rpt_refxml.date_2015-01-02.2016-11-21.xml.gz</td><td>5465767</td><td>1677512266000</td></tr><tr><td>dbfs:/mnt/ddscoursedatastorage/fwm-stb-data/refxml/SintecMedia.rpt_refxml.date_2015-01-03.2016-11-21.xml.gz</td><td>SintecMedia.rpt_refxml.date_2015-01-03.2016-11-21.xml.gz</td><td>5465767</td><td>1677512264000</td></tr><tr><td>dbfs:/mnt/ddscoursedatastorage/fwm-stb-data/refxml/SintecMedia.rpt_refxml.date_2015-01-04.2016-11-21.xml.gz</td><td>SintecMedia.rpt_refxml.date_2015-01-04.2016-11-21.xml.gz</td><td>5465767</td><td>1677512260000</td></tr><tr><td>dbfs:/mnt/ddscoursedatastorage/fwm-stb-data/refxml/SintecMedia.rpt_refxml.date_2015-01-05.2016-11-21.xml.gz</td><td>SintecMedia.rpt_refxml.date_2015-01-05.2016-11-21.xml.gz</td><td>5465767</td><td>1677512253000</td></tr><tr><td>dbfs:/mnt/ddscoursedatastorage/fwm-stb-data/refxml/SintecMedia.rpt_refxml.date_2015-01-06.2016-11-21.xml.gz</td><td>SintecMedia.rpt_refxml.date_2015-01-06.2016-11-21.xml.gz</td><td>5465767</td><td>1677512260000</td></tr><tr><td>dbfs:/mnt/ddscoursedatastorage/fwm-stb-data/refxml/SintecMedia.rpt_refxml.date_2015-01-07.2016-11-21.xml.gz</td><td>SintecMedia.rpt_refxml.date_2015-01-07.2016-11-21.xml.gz</td><td>5465767</td><td>1677512266000</td></tr><tr><td>dbfs:/mnt/ddscoursedatastorage/fwm-stb-data/refxml/SintecMedia.rpt_refxml.date_2015-01-08.2016-11-21.xml.gz</td><td>SintecMedia.rpt_refxml.date_2015-01-08.2016-11-21.xml.gz</td><td>5465767</td><td>1677512264000</td></tr><tr><td>dbfs:/mnt/ddscoursedatastorage/fwm-stb-data/refxml/SintecMedia.rpt_refxml.date_2015-01-09.2016-11-21.xml.gz</td><td>SintecMedia.rpt_refxml.date_2015-01-09.2016-11-21.xml.gz</td><td>5465767</td><td>1677512260000</td></tr><tr><td>dbfs:/mnt/ddscoursedatastorage/fwm-stb-data/refxml/SintecMedia.rpt_refxml.date_2015-01-10.2016-11-21.xml.gz</td><td>SintecMedia.rpt_refxml.date_2015-01-10.2016-11-21.xml.gz</td><td>5465767</td><td>1677512260000</td></tr><tr><td>dbfs:/mnt/ddscoursedatastorage/fwm-stb-data/refxml/SintecMedia.rpt_refxml.date_2015-01-11.2016-11-21.xml.gz</td><td>SintecMedia.rpt_refxml.date_2015-01-11.2016-11-21.xml.gz</td><td>5465767</td><td>1677512270000</td></tr><tr><td>dbfs:/mnt/ddscoursedatastorage/fwm-stb-data/refxml/SintecMedia.rpt_refxml.date_2015-01-12.2016-11-21.xml.gz</td><td>SintecMedia.rpt_refxml.date_2015-01-12.2016-11-21.xml.gz</td><td>5465767</td><td>1677512268000</td></tr><tr><td>dbfs:/mnt/ddscoursedatastorage/fwm-stb-data/refxml/SintecMedia.rpt_refxml.date_2015-01-13.2016-11-21.xml.gz</td><td>SintecMedia.rpt_refxml.date_2015-01-13.2016-11-21.xml.gz</td><td>5496249</td><td>1677512257000</td></tr><tr><td>dbfs:/mnt/ddscoursedatastorage/fwm-stb-data/refxml/SintecMedia.rpt_refxml.date_2015-01-14.2016-11-21.xml.gz</td><td>SintecMedia.rpt_refxml.date_2015-01-14.2016-11-21.xml.gz</td><td>5496249</td><td>1677512267000</td></tr><tr><td>dbfs:/mnt/ddscoursedatastorage/fwm-stb-data/refxml/SintecMedia.rpt_refxml.date_2015-01-15.2016-11-21.xml.gz</td><td>SintecMedia.rpt_refxml.date_2015-01-15.2016-11-21.xml.gz</td><td>5496249</td><td>1677512266000</td></tr><tr><td>dbfs:/mnt/ddscoursedatastorage/fwm-stb-data/refxml/SintecMedia.rpt_refxml.date_2015-01-16.2016-11-21.xml.gz</td><td>SintecMedia.rpt_refxml.date_2015-01-16.2016-11-21.xml.gz</td><td>5496249</td><td>1677512242000</td></tr><tr><td>dbfs:/mnt/ddscoursedatastorage/fwm-stb-data/refxml/SintecMedia.rpt_refxml.date_2015-01-17.2016-11-21.xml.gz</td><td>SintecMedia.rpt_refxml.date_2015-01-17.2016-11-21.xml.gz</td><td>5496249</td><td>1677512271000</td></tr><tr><td>dbfs:/mnt/ddscoursedatastorage/fwm-stb-data/refxml/SintecMedia.rpt_refxml.date_2015-01-18.2016-11-22.xml.gz</td><td>SintecMedia.rpt_refxml.date_2015-01-18.2016-11-22.xml.gz</td><td>5496249</td><td>1677512270000</td></tr><tr><td>dbfs:/mnt/ddscoursedatastorage/fwm-stb-data/refxml/SintecMedia.rpt_refxml.date_2015-01-19.2016-11-22.xml.gz</td><td>SintecMedia.rpt_refxml.date_2015-01-19.2016-11-22.xml.gz</td><td>5496249</td><td>1677512260000</td></tr><tr><td>dbfs:/mnt/ddscoursedatastorage/fwm-stb-data/refxml/SintecMedia.rpt_refxml.date_2015-01-20.2016-11-22.xml.gz</td><td>SintecMedia.rpt_refxml.date_2015-01-20.2016-11-22.xml.gz</td><td>5496249</td><td>1677512270000</td></tr><tr><td>dbfs:/mnt/ddscoursedatastorage/fwm-stb-data/refxml/SintecMedia.rpt_refxml.date_2015-01-21.2016-11-22.xml.gz</td><td>SintecMedia.rpt_refxml.date_2015-01-21.2016-11-22.xml.gz</td><td>5496249</td><td>1677512256000</td></tr><tr><td>dbfs:/mnt/ddscoursedatastorage/fwm-stb-data/refxml/SintecMedia.rpt_refxml.date_2015-01-22.2016-11-22.xml.gz</td><td>SintecMedia.rpt_refxml.date_2015-01-22.2016-11-22.xml.gz</td><td>5496249</td><td>1677512244000</td></tr><tr><td>dbfs:/mnt/ddscoursedatastorage/fwm-stb-data/refxml/SintecMedia.rpt_refxml.date_2015-01-23.2016-11-22.xml.gz</td><td>SintecMedia.rpt_refxml.date_2015-01-23.2016-11-22.xml.gz</td><td>5496249</td><td>1677512259000</td></tr><tr><td>dbfs:/mnt/ddscoursedatastorage/fwm-stb-data/refxml/SintecMedia.rpt_refxml.date_2015-01-24.2016-11-22.xml.gz</td><td>SintecMedia.rpt_refxml.date_2015-01-24.2016-11-22.xml.gz</td><td>5496249</td><td>1677512249000</td></tr><tr><td>dbfs:/mnt/ddscoursedatastorage/fwm-stb-data/refxml/SintecMedia.rpt_refxml.date_2015-01-25.2016-11-22.xml.gz</td><td>SintecMedia.rpt_refxml.date_2015-01-25.2016-11-22.xml.gz</td><td>5496249</td><td>1677512243000</td></tr><tr><td>dbfs:/mnt/ddscoursedatastorage/fwm-stb-data/refxml/SintecMedia.rpt_refxml.date_2015-01-26.2016-11-22.xml.gz</td><td>SintecMedia.rpt_refxml.date_2015-01-26.2016-11-22.xml.gz</td><td>5496249</td><td>1677512269000</td></tr><tr><td>dbfs:/mnt/ddscoursedatastorage/fwm-stb-data/refxml/SintecMedia.rpt_refxml.date_2015-01-27.2016-11-22.xml.gz</td><td>SintecMedia.rpt_refxml.date_2015-01-27.2016-11-22.xml.gz</td><td>5496249</td><td>1677512268000</td></tr><tr><td>dbfs:/mnt/ddscoursedatastorage/fwm-stb-data/refxml/SintecMedia.rpt_refxml.date_2015-01-28.2016-11-22.xml.gz</td><td>SintecMedia.rpt_refxml.date_2015-01-28.2016-11-22.xml.gz</td><td>5496249</td><td>1677512258000</td></tr><tr><td>dbfs:/mnt/ddscoursedatastorage/fwm-stb-data/refxml/SintecMedia.rpt_refxml.date_2015-01-29.2016-11-22.xml.gz</td><td>SintecMedia.rpt_refxml.date_2015-01-29.2016-11-22.xml.gz</td><td>5496249</td><td>1677512263000</td></tr><tr><td>dbfs:/mnt/ddscoursedatastorage/fwm-stb-data/refxml/SintecMedia.rpt_refxml.date_2015-01-30.2016-11-22.xml.gz</td><td>SintecMedia.rpt_refxml.date_2015-01-30.2016-11-22.xml.gz</td><td>5496249</td><td>1677512251000</td></tr><tr><td>dbfs:/mnt/ddscoursedatastorage/fwm-stb-data/refxml/SintecMedia.rpt_refxml.date_2015-01-31.2016-11-22.xml.gz</td><td>SintecMedia.rpt_refxml.date_2015-01-31.2016-11-22.xml.gz</td><td>5496249</td><td>1677512251000</td></tr><tr><td>dbfs:/mnt/ddscoursedatastorage/fwm-stb-data/refxml/SintecMedia.rpt_refxml.date_2015-02-01.2016-11-24.xml.gz</td><td>SintecMedia.rpt_refxml.date_2015-02-01.2016-11-24.xml.gz</td><td>5496249</td><td>1677512259000</td></tr><tr><td>dbfs:/mnt/ddscoursedatastorage/fwm-stb-data/refxml/SintecMedia.rpt_refxml.date_2015-02-02.2016-11-24.xml.gz</td><td>SintecMedia.rpt_refxml.date_2015-02-02.2016-11-24.xml.gz</td><td>5496249</td><td>1677512271000</td></tr><tr><td>dbfs:/mnt/ddscoursedatastorage/fwm-stb-data/refxml/SintecMedia.rpt_refxml.date_2015-02-03.2016-11-24.xml.gz</td><td>SintecMedia.rpt_refxml.date_2015-02-03.2016-11-24.xml.gz</td><td>5496249</td><td>1677512271000</td></tr><tr><td>dbfs:/mnt/ddscoursedatastorage/fwm-stb-data/refxml/SintecMedia.rpt_refxml.date_2015-02-04.2016-11-24.xml.gz</td><td>SintecMedia.rpt_refxml.date_2015-02-04.2016-11-24.xml.gz</td><td>5507705</td><td>1677512264000</td></tr><tr><td>dbfs:/mnt/ddscoursedatastorage/fwm-stb-data/refxml/SintecMedia.rpt_refxml.date_2015-02-05.2016-11-24.xml.gz</td><td>SintecMedia.rpt_refxml.date_2015-02-05.2016-11-24.xml.gz</td><td>5507705</td><td>1677512257000</td></tr><tr><td>dbfs:/mnt/ddscoursedatastorage/fwm-stb-data/refxml/SintecMedia.rpt_refxml.date_2015-02-06.2016-11-24.xml.gz</td><td>SintecMedia.rpt_refxml.date_2015-02-06.2016-11-24.xml.gz</td><td>5507705</td><td>1677512262000</td></tr><tr><td>dbfs:/mnt/ddscoursedatastorage/fwm-stb-data/refxml/SintecMedia.rpt_refxml.date_2015-02-07.2016-11-24.xml.gz</td><td>SintecMedia.rpt_refxml.date_2015-02-07.2016-11-24.xml.gz</td><td>5507705</td><td>1677512271000</td></tr><tr><td>dbfs:/mnt/ddscoursedatastorage/fwm-stb-data/refxml/SintecMedia.rpt_refxml.date_2015-02-08.2016-11-24.xml.gz</td><td>SintecMedia.rpt_refxml.date_2015-02-08.2016-11-24.xml.gz</td><td>5507705</td><td>1677512264000</td></tr><tr><td>dbfs:/mnt/ddscoursedatastorage/fwm-stb-data/refxml/SintecMedia.rpt_refxml.date_2015-02-09.2016-11-24.xml.gz</td><td>SintecMedia.rpt_refxml.date_2015-02-09.2016-11-24.xml.gz</td><td>5507705</td><td>1677512266000</td></tr><tr><td>dbfs:/mnt/ddscoursedatastorage/fwm-stb-data/refxml/SintecMedia.rpt_refxml.date_2015-02-10.2016-11-24.xml.gz</td><td>SintecMedia.rpt_refxml.date_2015-02-10.2016-11-24.xml.gz</td><td>5507705</td><td>1677512261000</td></tr><tr><td>dbfs:/mnt/ddscoursedatastorage/fwm-stb-data/refxml/SintecMedia.rpt_refxml.date_2015-02-11.2016-11-24.xml.gz</td><td>SintecMedia.rpt_refxml.date_2015-02-11.2016-11-24.xml.gz</td><td>5507705</td><td>1677512243000</td></tr><tr><td>dbfs:/mnt/ddscoursedatastorage/fwm-stb-data/refxml/SintecMedia.rpt_refxml.date_2015-02-12.2016-11-24.xml.gz</td><td>SintecMedia.rpt_refxml.date_2015-02-12.2016-11-24.xml.gz</td><td>5507705</td><td>1677512259000</td></tr><tr><td>dbfs:/mnt/ddscoursedatastorage/fwm-stb-data/refxml/SintecMedia.rpt_refxml.date_2015-02-13.2016-11-24.xml.gz</td><td>SintecMedia.rpt_refxml.date_2015-02-13.2016-11-24.xml.gz</td><td>5696056</td><td>1677512256000</td></tr><tr><td>dbfs:/mnt/ddscoursedatastorage/fwm-stb-data/refxml/SintecMedia.rpt_refxml.date_2015-02-14.2016-11-24.xml.gz</td><td>SintecMedia.rpt_refxml.date_2015-02-14.2016-11-24.xml.gz</td><td>5696056</td><td>1677512265000</td></tr><tr><td>dbfs:/mnt/ddscoursedatastorage/fwm-stb-data/refxml/SintecMedia.rpt_refxml.date_2015-02-15.2016-11-24.xml.gz</td><td>SintecMedia.rpt_refxml.date_2015-02-15.2016-11-24.xml.gz</td><td>5696056</td><td>1677512254000</td></tr><tr><td>dbfs:/mnt/ddscoursedatastorage/fwm-stb-data/refxml/SintecMedia.rpt_refxml.date_2015-02-16.2016-11-24.xml.gz</td><td>SintecMedia.rpt_refxml.date_2015-02-16.2016-11-24.xml.gz</td><td>5696056</td><td>1677512264000</td></tr><tr><td>dbfs:/mnt/ddscoursedatastorage/fwm-stb-data/refxml/SintecMedia.rpt_refxml.date_2015-02-17.2016-11-24.xml.gz</td><td>SintecMedia.rpt_refxml.date_2015-02-17.2016-11-24.xml.gz</td><td>5696056</td><td>1677512267000</td></tr><tr><td>dbfs:/mnt/ddscoursedatastorage/fwm-stb-data/refxml/SintecMedia.rpt_refxml.date_2015-02-18.2016-11-24.xml.gz</td><td>SintecMedia.rpt_refxml.date_2015-02-18.2016-11-24.xml.gz</td><td>5099327</td><td>1677512271000</td></tr><tr><td>dbfs:/mnt/ddscoursedatastorage/fwm-stb-data/refxml/SintecMedia.rpt_refxml.date_2015-02-19.2016-11-24.xml.gz</td><td>SintecMedia.rpt_refxml.date_2015-02-19.2016-11-24.xml.gz</td><td>5099327</td><td>1677512267000</td></tr><tr><td>dbfs:/mnt/ddscoursedatastorage/fwm-stb-data/refxml/SintecMedia.rpt_refxml.date_2015-02-20.2016-11-24.xml.gz</td><td>SintecMedia.rpt_refxml.date_2015-02-20.2016-11-24.xml.gz</td><td>5102556</td><td>1677512271000</td></tr><tr><td>dbfs:/mnt/ddscoursedatastorage/fwm-stb-data/refxml/SintecMedia.rpt_refxml.date_2015-02-21.2016-11-24.xml.gz</td><td>SintecMedia.rpt_refxml.date_2015-02-21.2016-11-24.xml.gz</td><td>5102870</td><td>1677512266000</td></tr><tr><td>dbfs:/mnt/ddscoursedatastorage/fwm-stb-data/refxml/SintecMedia.rpt_refxml.date_2015-02-22.2016-11-24.xml.gz</td><td>SintecMedia.rpt_refxml.date_2015-02-22.2016-11-24.xml.gz</td><td>5102903</td><td>1677512259000</td></tr><tr><td>dbfs:/mnt/ddscoursedatastorage/fwm-stb-data/refxml/SintecMedia.rpt_refxml.date_2015-02-23.2016-11-24.xml.gz</td><td>SintecMedia.rpt_refxml.date_2015-02-23.2016-11-24.xml.gz</td><td>5103194</td><td>1677512256000</td></tr><tr><td>dbfs:/mnt/ddscoursedatastorage/fwm-stb-data/refxml/SintecMedia.rpt_refxml.date_2015-02-24.2016-11-24.xml.gz</td><td>SintecMedia.rpt_refxml.date_2015-02-24.2016-11-24.xml.gz</td><td>5103335</td><td>1677512269000</td></tr><tr><td>dbfs:/mnt/ddscoursedatastorage/fwm-stb-data/refxml/SintecMedia.rpt_refxml.date_2015-02-25.2016-11-24.xml.gz</td><td>SintecMedia.rpt_refxml.date_2015-02-25.2016-11-24.xml.gz</td><td>5178287</td><td>1677512248000</td></tr><tr><td>dbfs:/mnt/ddscoursedatastorage/fwm-stb-data/refxml/SintecMedia.rpt_refxml.date_2015-02-26.2016-11-24.xml.gz</td><td>SintecMedia.rpt_refxml.date_2015-02-26.2016-11-24.xml.gz</td><td>5178374</td><td>1677512264000</td></tr><tr><td>dbfs:/mnt/ddscoursedatastorage/fwm-stb-data/refxml/SintecMedia.rpt_refxml.date_2015-02-27.2016-11-24.xml.gz</td><td>SintecMedia.rpt_refxml.date_2015-02-27.2016-11-24.xml.gz</td><td>5178273</td><td>1677512257000</td></tr><tr><td>dbfs:/mnt/ddscoursedatastorage/fwm-stb-data/refxml/SintecMedia.rpt_refxml.date_2015-02-28.2016-11-24.xml.gz</td><td>SintecMedia.rpt_refxml.date_2015-02-28.2016-11-24.xml.gz</td><td>5178654</td><td>1677512263000</td></tr><tr><td>dbfs:/mnt/ddscoursedatastorage/fwm-stb-data/refxml/SintecMedia.rpt_refxml.date_2015-03-01.2016-11-25.xml.gz</td><td>SintecMedia.rpt_refxml.date_2015-03-01.2016-11-25.xml.gz</td><td>5178738</td><td>1677512269000</td></tr><tr><td>dbfs:/mnt/ddscoursedatastorage/fwm-stb-data/refxml/SintecMedia.rpt_refxml.date_2015-03-02.2016-11-25.xml.gz</td><td>SintecMedia.rpt_refxml.date_2015-03-02.2016-11-25.xml.gz</td><td>5179735</td><td>1677512268000</td></tr><tr><td>dbfs:/mnt/ddscoursedatastorage/fwm-stb-data/refxml/SintecMedia.rpt_refxml.date_2015-03-03.2016-11-25.xml.gz</td><td>SintecMedia.rpt_refxml.date_2015-03-03.2016-11-25.xml.gz</td><td>5179999</td><td>1677512248000</td></tr><tr><td>dbfs:/mnt/ddscoursedatastorage/fwm-stb-data/refxml/SintecMedia.rpt_refxml.date_2015-03-04.2016-11-25.xml.gz</td><td>SintecMedia.rpt_refxml.date_2015-03-04.2016-11-25.xml.gz</td><td>5180023</td><td>1677512271000</td></tr><tr><td>dbfs:/mnt/ddscoursedatastorage/fwm-stb-data/refxml/SintecMedia.rpt_refxml.date_2015-03-05.2016-11-25.xml.gz</td><td>SintecMedia.rpt_refxml.date_2015-03-05.2016-11-25.xml.gz</td><td>5179895</td><td>1677512266000</td></tr><tr><td>dbfs:/mnt/ddscoursedatastorage/fwm-stb-data/refxml/SintecMedia.rpt_refxml.date_2015-03-06.2016-11-25.xml.gz</td><td>SintecMedia.rpt_refxml.date_2015-03-06.2016-11-25.xml.gz</td><td>5180493</td><td>1677512269000</td></tr><tr><td>dbfs:/mnt/ddscoursedatastorage/fwm-stb-data/refxml/SintecMedia.rpt_refxml.date_2015-03-07.2016-11-25.xml.gz</td><td>SintecMedia.rpt_refxml.date_2015-03-07.2016-11-25.xml.gz</td><td>5180708</td><td>1677512234000</td></tr><tr><td>dbfs:/mnt/ddscoursedatastorage/fwm-stb-data/refxml/SintecMedia.rpt_refxml.date_2015-03-08.2016-11-25.xml.gz</td><td>SintecMedia.rpt_refxml.date_2015-03-08.2016-11-25.xml.gz</td><td>5180937</td><td>1677512269000</td></tr><tr><td>dbfs:/mnt/ddscoursedatastorage/fwm-stb-data/refxml/SintecMedia.rpt_refxml.date_2015-03-09.2016-11-25.xml.gz</td><td>SintecMedia.rpt_refxml.date_2015-03-09.2016-11-25.xml.gz</td><td>5182419</td><td>1677512263000</td></tr><tr><td>dbfs:/mnt/ddscoursedatastorage/fwm-stb-data/refxml/SintecMedia.rpt_refxml.date_2015-03-10.2016-11-25.xml.gz</td><td>SintecMedia.rpt_refxml.date_2015-03-10.2016-11-25.xml.gz</td><td>5182580</td><td>1677512252000</td></tr><tr><td>dbfs:/mnt/ddscoursedatastorage/fwm-stb-data/refxml/SintecMedia.rpt_refxml.date_2015-03-11.2016-11-25.xml.gz</td><td>SintecMedia.rpt_refxml.date_2015-03-11.2016-11-25.xml.gz</td><td>5182623</td><td>1677512268000</td></tr><tr><td>dbfs:/mnt/ddscoursedatastorage/fwm-stb-data/refxml/SintecMedia.rpt_refxml.date_2015-03-12.2016-11-25.xml.gz</td><td>SintecMedia.rpt_refxml.date_2015-03-12.2016-11-25.xml.gz</td><td>5282333</td><td>1677512261000</td></tr><tr><td>dbfs:/mnt/ddscoursedatastorage/fwm-stb-data/refxml/SintecMedia.rpt_refxml.date_2015-03-13.2016-11-25.xml.gz</td><td>SintecMedia.rpt_refxml.date_2015-03-13.2016-11-25.xml.gz</td><td>5256949</td><td>1677512271000</td></tr><tr><td>dbfs:/mnt/ddscoursedatastorage/fwm-stb-data/refxml/SintecMedia.rpt_refxml.date_2015-03-14.2016-11-25.xml.gz</td><td>SintecMedia.rpt_refxml.date_2015-03-14.2016-11-25.xml.gz</td><td>5257416</td><td>1677512257000</td></tr><tr><td>dbfs:/mnt/ddscoursedatastorage/fwm-stb-data/refxml/SintecMedia.rpt_refxml.date_2015-03-15.2016-11-25.xml.gz</td><td>SintecMedia.rpt_refxml.date_2015-03-15.2016-11-25.xml.gz</td><td>5257507</td><td>1677512234000</td></tr><tr><td>dbfs:/mnt/ddscoursedatastorage/fwm-stb-data/refxml/SintecMedia.rpt_refxml.date_2015-03-16.2016-11-25.xml.gz</td><td>SintecMedia.rpt_refxml.date_2015-03-16.2016-11-25.xml.gz</td><td>5258507</td><td>1677512268000</td></tr><tr><td>dbfs:/mnt/ddscoursedatastorage/fwm-stb-data/refxml/SintecMedia.rpt_refxml.date_2015-03-17.2016-11-25.xml.gz</td><td>SintecMedia.rpt_refxml.date_2015-03-17.2016-11-25.xml.gz</td><td>5258551</td><td>1677512267000</td></tr><tr><td>dbfs:/mnt/ddscoursedatastorage/fwm-stb-data/refxml/SintecMedia.rpt_refxml.date_2015-03-18.2016-11-25.xml.gz</td><td>SintecMedia.rpt_refxml.date_2015-03-18.2016-11-25.xml.gz</td><td>5258765</td><td>1677512269000</td></tr><tr><td>dbfs:/mnt/ddscoursedatastorage/fwm-stb-data/refxml/SintecMedia.rpt_refxml.date_2015-03-19.2016-11-25.xml.gz</td><td>SintecMedia.rpt_refxml.date_2015-03-19.2016-11-25.xml.gz</td><td>5259911</td><td>1677512263000</td></tr><tr><td>dbfs:/mnt/ddscoursedatastorage/fwm-stb-data/refxml/SintecMedia.rpt_refxml.date_2015-03-20.2016-11-25.xml.gz</td><td>SintecMedia.rpt_refxml.date_2015-03-20.2016-11-25.xml.gz</td><td>5259997</td><td>1677512258000</td></tr><tr><td>dbfs:/mnt/ddscoursedatastorage/fwm-stb-data/refxml/SintecMedia.rpt_refxml.date_2015-03-21.2016-11-25.xml.gz</td><td>SintecMedia.rpt_refxml.date_2015-03-21.2016-11-25.xml.gz</td><td>5260193</td><td>1677512258000</td></tr><tr><td>dbfs:/mnt/ddscoursedatastorage/fwm-stb-data/refxml/SintecMedia.rpt_refxml.date_2015-03-22.2016-11-25.xml.gz</td><td>SintecMedia.rpt_refxml.date_2015-03-22.2016-11-25.xml.gz</td><td>5260492</td><td>1677512260000</td></tr><tr><td>dbfs:/mnt/ddscoursedatastorage/fwm-stb-data/refxml/SintecMedia.rpt_refxml.date_2015-03-23.2016-11-25.xml.gz</td><td>SintecMedia.rpt_refxml.date_2015-03-23.2016-11-25.xml.gz</td><td>5261418</td><td>1677512271000</td></tr><tr><td>dbfs:/mnt/ddscoursedatastorage/fwm-stb-data/refxml/SintecMedia.rpt_refxml.date_2015-03-24.2016-11-25.xml.gz</td><td>SintecMedia.rpt_refxml.date_2015-03-24.2016-11-25.xml.gz</td><td>5196686</td><td>1677512236000</td></tr><tr><td>dbfs:/mnt/ddscoursedatastorage/fwm-stb-data/refxml/SintecMedia.rpt_refxml.date_2015-03-25.2016-11-25.xml.gz</td><td>SintecMedia.rpt_refxml.date_2015-03-25.2016-11-25.xml.gz</td><td>5262016</td><td>1677512252000</td></tr><tr><td>dbfs:/mnt/ddscoursedatastorage/fwm-stb-data/refxml/SintecMedia.rpt_refxml.date_2015-03-26.2016-11-25.xml.gz</td><td>SintecMedia.rpt_refxml.date_2015-03-26.2016-11-25.xml.gz</td><td>5262490</td><td>1677512267000</td></tr><tr><td>dbfs:/mnt/ddscoursedatastorage/fwm-stb-data/refxml/SintecMedia.rpt_refxml.date_2015-03-27.2016-11-25.xml.gz</td><td>SintecMedia.rpt_refxml.date_2015-03-27.2016-11-25.xml.gz</td><td>5262959</td><td>1677512262000</td></tr><tr><td>dbfs:/mnt/ddscoursedatastorage/fwm-stb-data/refxml/SintecMedia.rpt_refxml.date_2015-03-28.2016-11-25.xml.gz</td><td>SintecMedia.rpt_refxml.date_2015-03-28.2016-11-25.xml.gz</td><td>5263719</td><td>1677512254000</td></tr><tr><td>dbfs:/mnt/ddscoursedatastorage/fwm-stb-data/refxml/SintecMedia.rpt_refxml.date_2015-03-29.2016-11-25.xml.gz</td><td>SintecMedia.rpt_refxml.date_2015-03-29.2016-11-25.xml.gz</td><td>5263988</td><td>1677512260000</td></tr><tr><td>dbfs:/mnt/ddscoursedatastorage/fwm-stb-data/refxml/SintecMedia.rpt_refxml.date_2015-03-30.2016-11-25.xml.gz</td><td>SintecMedia.rpt_refxml.date_2015-03-30.2016-11-25.xml.gz</td><td>5262457</td><td>1677512255000</td></tr><tr><td>dbfs:/mnt/ddscoursedatastorage/fwm-stb-data/refxml/SintecMedia.rpt_refxml.date_2015-03-31.2016-11-25.xml.gz</td><td>SintecMedia.rpt_refxml.date_2015-03-31.2016-11-25.xml.gz</td><td>5262606</td><td>1677512271000</td></tr><tr><td>dbfs:/mnt/ddscoursedatastorage/fwm-stb-data/refxml/SintecMedia.rpt_refxml.date_2015-04-01.2016-11-25.xml.gz</td><td>SintecMedia.rpt_refxml.date_2015-04-01.2016-11-25.xml.gz</td><td>5262996</td><td>1677512264000</td></tr><tr><td>dbfs:/mnt/ddscoursedatastorage/fwm-stb-data/refxml/SintecMedia.rpt_refxml.date_2015-04-02.2016-11-25.xml.gz</td><td>SintecMedia.rpt_refxml.date_2015-04-02.2016-11-25.xml.gz</td><td>5263696</td><td>1677512250000</td></tr><tr><td>dbfs:/mnt/ddscoursedatastorage/fwm-stb-data/refxml/SintecMedia.rpt_refxml.date_2015-04-03.2016-11-25.xml.gz</td><td>SintecMedia.rpt_refxml.date_2015-04-03.2016-11-25.xml.gz</td><td>5264161</td><td>1677512268000</td></tr><tr><td>dbfs:/mnt/ddscoursedatastorage/fwm-stb-data/refxml/SintecMedia.rpt_refxml.date_2015-04-04.2016-11-25.xml.gz</td><td>SintecMedia.rpt_refxml.date_2015-04-04.2016-11-25.xml.gz</td><td>5264383</td><td>1677512267000</td></tr><tr><td>dbfs:/mnt/ddscoursedatastorage/fwm-stb-data/refxml/SintecMedia.rpt_refxml.date_2015-04-05.2016-11-25.xml.gz</td><td>SintecMedia.rpt_refxml.date_2015-04-05.2016-11-25.xml.gz</td><td>5264361</td><td>1677512243000</td></tr><tr><td>dbfs:/mnt/ddscoursedatastorage/fwm-stb-data/refxml/SintecMedia.rpt_refxml.date_2015-04-06.2016-11-25.xml.gz</td><td>SintecMedia.rpt_refxml.date_2015-04-06.2016-11-25.xml.gz</td><td>5269473</td><td>1677512255000</td></tr><tr><td>dbfs:/mnt/ddscoursedatastorage/fwm-stb-data/refxml/SintecMedia.rpt_refxml.date_2015-04-07.2016-11-25.xml.gz</td><td>SintecMedia.rpt_refxml.date_2015-04-07.2016-11-25.xml.gz</td><td>5269728</td><td>1677512261000</td></tr><tr><td>dbfs:/mnt/ddscoursedatastorage/fwm-stb-data/refxml/SintecMedia.rpt_refxml.date_2015-04-08.2016-11-25.xml.gz</td><td>SintecMedia.rpt_refxml.date_2015-04-08.2016-11-25.xml.gz</td><td>5270725</td><td>1677512247000</td></tr><tr><td>dbfs:/mnt/ddscoursedatastorage/fwm-stb-data/refxml/SintecMedia.rpt_refxml.date_2015-04-09.2016-11-25.xml.gz</td><td>SintecMedia.rpt_refxml.date_2015-04-09.2016-11-25.xml.gz</td><td>5271107</td><td>1677512267000</td></tr><tr><td>dbfs:/mnt/ddscoursedatastorage/fwm-stb-data/refxml/SintecMedia.rpt_refxml.date_2015-04-10.2016-11-25.xml.gz</td><td>SintecMedia.rpt_refxml.date_2015-04-10.2016-11-25.xml.gz</td><td>5271424</td><td>1677512250000</td></tr><tr><td>dbfs:/mnt/ddscoursedatastorage/fwm-stb-data/refxml/SintecMedia.rpt_refxml.date_2015-04-11.2016-11-25.xml.gz</td><td>SintecMedia.rpt_refxml.date_2015-04-11.2016-11-25.xml.gz</td><td>5271564</td><td>1677512254000</td></tr><tr><td>dbfs:/mnt/ddscoursedatastorage/fwm-stb-data/refxml/SintecMedia.rpt_refxml.date_2015-04-12.2016-11-25.xml.gz</td><td>SintecMedia.rpt_refxml.date_2015-04-12.2016-11-25.xml.gz</td><td>5271480</td><td>1677512269000</td></tr><tr><td>dbfs:/mnt/ddscoursedatastorage/fwm-stb-data/refxml/SintecMedia.rpt_refxml.date_2015-04-13.2016-11-25.xml.gz</td><td>SintecMedia.rpt_refxml.date_2015-04-13.2016-11-25.xml.gz</td><td>5272923</td><td>1677512265000</td></tr><tr><td>dbfs:/mnt/ddscoursedatastorage/fwm-stb-data/refxml/SintecMedia.rpt_refxml.date_2015-04-14.2016-11-25.xml.gz</td><td>SintecMedia.rpt_refxml.date_2015-04-14.2016-11-25.xml.gz</td><td>5269464</td><td>1677512249000</td></tr><tr><td>dbfs:/mnt/ddscoursedatastorage/fwm-stb-data/refxml/SintecMedia.rpt_refxml.date_2015-04-15.2016-11-25.xml.gz</td><td>SintecMedia.rpt_refxml.date_2015-04-15.2016-11-25.xml.gz</td><td>5273804</td><td>1677512240000</td></tr><tr><td>dbfs:/mnt/ddscoursedatastorage/fwm-stb-data/refxml/SintecMedia.rpt_refxml.date_2015-04-16.2016-11-25.xml.gz</td><td>SintecMedia.rpt_refxml.date_2015-04-16.2016-11-25.xml.gz</td><td>5285593</td><td>1677512264000</td></tr><tr><td>dbfs:/mnt/ddscoursedatastorage/fwm-stb-data/refxml/SintecMedia.rpt_refxml.date_2015-04-17.2016-11-25.xml.gz</td><td>SintecMedia.rpt_refxml.date_2015-04-17.2016-11-25.xml.gz</td><td>5286056</td><td>1677512258000</td></tr><tr><td>dbfs:/mnt/ddscoursedatastorage/fwm-stb-data/refxml/SintecMedia.rpt_refxml.date_2015-04-18.2016-11-25.xml.gz</td><td>SintecMedia.rpt_refxml.date_2015-04-18.2016-11-25.xml.gz</td><td>5286449</td><td>1677512250000</td></tr><tr><td>dbfs:/mnt/ddscoursedatastorage/fwm-stb-data/refxml/SintecMedia.rpt_refxml.date_2015-04-19.2016-11-25.xml.gz</td><td>SintecMedia.rpt_refxml.date_2015-04-19.2016-11-25.xml.gz</td><td>5286616</td><td>1677512267000</td></tr><tr><td>dbfs:/mnt/ddscoursedatastorage/fwm-stb-data/refxml/SintecMedia.rpt_refxml.date_2015-04-20.2016-11-25.xml.gz</td><td>SintecMedia.rpt_refxml.date_2015-04-20.2016-11-25.xml.gz</td><td>5289224</td><td>1677512271000</td></tr><tr><td>dbfs:/mnt/ddscoursedatastorage/fwm-stb-data/refxml/SintecMedia.rpt_refxml.date_2015-04-21.2016-11-25.xml.gz</td><td>SintecMedia.rpt_refxml.date_2015-04-21.2016-11-25.xml.gz</td><td>5289393</td><td>1677512262000</td></tr><tr><td>dbfs:/mnt/ddscoursedatastorage/fwm-stb-data/refxml/SintecMedia.rpt_refxml.date_2015-04-22.2016-11-25.xml.gz</td><td>SintecMedia.rpt_refxml.date_2015-04-22.2016-11-25.xml.gz</td><td>5289758</td><td>1677512267000</td></tr><tr><td>dbfs:/mnt/ddscoursedatastorage/fwm-stb-data/refxml/SintecMedia.rpt_refxml.date_2015-04-23.2016-11-25.xml.gz</td><td>SintecMedia.rpt_refxml.date_2015-04-23.2016-11-25.xml.gz</td><td>5290448</td><td>1677512271000</td></tr><tr><td>dbfs:/mnt/ddscoursedatastorage/fwm-stb-data/refxml/SintecMedia.rpt_refxml.date_2015-04-24.2016-11-25.xml.gz</td><td>SintecMedia.rpt_refxml.date_2015-04-24.2016-11-25.xml.gz</td><td>5290728</td><td>1677512257000</td></tr><tr><td>dbfs:/mnt/ddscoursedatastorage/fwm-stb-data/refxml/SintecMedia.rpt_refxml.date_2015-04-25.2016-11-25.xml.gz</td><td>SintecMedia.rpt_refxml.date_2015-04-25.2016-11-25.xml.gz</td><td>5290996</td><td>1677512267000</td></tr><tr><td>dbfs:/mnt/ddscoursedatastorage/fwm-stb-data/refxml/SintecMedia.rpt_refxml.date_2015-04-26.2016-11-25.xml.gz</td><td>SintecMedia.rpt_refxml.date_2015-04-26.2016-11-25.xml.gz</td><td>5291145</td><td>1677512262000</td></tr><tr><td>dbfs:/mnt/ddscoursedatastorage/fwm-stb-data/refxml/SintecMedia.rpt_refxml.date_2015-04-27.2016-11-25.xml.gz</td><td>SintecMedia.rpt_refxml.date_2015-04-27.2016-11-25.xml.gz</td><td>5292358</td><td>1677512271000</td></tr><tr><td>dbfs:/mnt/ddscoursedatastorage/fwm-stb-data/refxml/SintecMedia.rpt_refxml.date_2015-04-28.2016-11-25.xml.gz</td><td>SintecMedia.rpt_refxml.date_2015-04-28.2016-11-25.xml.gz</td><td>5293683</td><td>1677512258000</td></tr><tr><td>dbfs:/mnt/ddscoursedatastorage/fwm-stb-data/refxml/SintecMedia.rpt_refxml.date_2015-04-29.2016-11-25.xml.gz</td><td>SintecMedia.rpt_refxml.date_2015-04-29.2016-11-25.xml.gz</td><td>5293908</td><td>1677512270000</td></tr><tr><td>dbfs:/mnt/ddscoursedatastorage/fwm-stb-data/refxml/SintecMedia.rpt_refxml.date_2015-04-30.2016-11-25.xml.gz</td><td>SintecMedia.rpt_refxml.date_2015-04-30.2016-11-25.xml.gz</td><td>5294522</td><td>1677512253000</td></tr><tr><td>dbfs:/mnt/ddscoursedatastorage/fwm-stb-data/refxml/SintecMedia.rpt_refxml.date_2015-05-01.2016-11-25.xml.gz</td><td>SintecMedia.rpt_refxml.date_2015-05-01.2016-11-25.xml.gz</td><td>5295020</td><td>1677512266000</td></tr><tr><td>dbfs:/mnt/ddscoursedatastorage/fwm-stb-data/refxml/SintecMedia.rpt_refxml.date_2015-05-02.2016-11-25.xml.gz</td><td>SintecMedia.rpt_refxml.date_2015-05-02.2016-11-25.xml.gz</td><td>5295273</td><td>1677512263000</td></tr><tr><td>dbfs:/mnt/ddscoursedatastorage/fwm-stb-data/refxml/SintecMedia.rpt_refxml.date_2015-05-03.2016-11-26.xml.gz</td><td>SintecMedia.rpt_refxml.date_2015-05-03.2016-11-26.xml.gz</td><td>5295662</td><td>1677512264000</td></tr><tr><td>dbfs:/mnt/ddscoursedatastorage/fwm-stb-data/refxml/SintecMedia.rpt_refxml.date_2015-05-04.2016-11-26.xml.gz</td><td>SintecMedia.rpt_refxml.date_2015-05-04.2016-11-26.xml.gz</td><td>5298414</td><td>1677512255000</td></tr><tr><td>dbfs:/mnt/ddscoursedatastorage/fwm-stb-data/refxml/SintecMedia.rpt_refxml.date_2015-05-05.2016-11-26.xml.gz</td><td>SintecMedia.rpt_refxml.date_2015-05-05.2016-11-26.xml.gz</td><td>5299566</td><td>1677512264000</td></tr><tr><td>dbfs:/mnt/ddscoursedatastorage/fwm-stb-data/refxml/SintecMedia.rpt_refxml.date_2015-05-06.2016-11-26.xml.gz</td><td>SintecMedia.rpt_refxml.date_2015-05-06.2016-11-26.xml.gz</td><td>5300075</td><td>1677512253000</td></tr><tr><td>dbfs:/mnt/ddscoursedatastorage/fwm-stb-data/refxml/SintecMedia.rpt_refxml.date_2015-05-07.2016-11-26.xml.gz</td><td>SintecMedia.rpt_refxml.date_2015-05-07.2016-11-26.xml.gz</td><td>5300236</td><td>1677512261000</td></tr><tr><td>dbfs:/mnt/ddscoursedatastorage/fwm-stb-data/refxml/SintecMedia.rpt_refxml.date_2015-05-08.2016-11-26.xml.gz</td><td>SintecMedia.rpt_refxml.date_2015-05-08.2016-11-26.xml.gz</td><td>5362249</td><td>1677512259000</td></tr><tr><td>dbfs:/mnt/ddscoursedatastorage/fwm-stb-data/refxml/SintecMedia.rpt_refxml.date_2015-05-09.2016-11-26.xml.gz</td><td>SintecMedia.rpt_refxml.date_2015-05-09.2016-11-26.xml.gz</td><td>5362522</td><td>1677512271000</td></tr><tr><td>dbfs:/mnt/ddscoursedatastorage/fwm-stb-data/refxml/SintecMedia.rpt_refxml.date_2015-05-10.2016-11-26.xml.gz</td><td>SintecMedia.rpt_refxml.date_2015-05-10.2016-11-26.xml.gz</td><td>5362551</td><td>1677512262000</td></tr><tr><td>dbfs:/mnt/ddscoursedatastorage/fwm-stb-data/refxml/SintecMedia.rpt_refxml.date_2015-05-11.2016-11-26.xml.gz</td><td>SintecMedia.rpt_refxml.date_2015-05-11.2016-11-26.xml.gz</td><td>5364977</td><td>1677512261000</td></tr><tr><td>dbfs:/mnt/ddscoursedatastorage/fwm-stb-data/refxml/SintecMedia.rpt_refxml.date_2015-05-12.2016-11-26.xml.gz</td><td>SintecMedia.rpt_refxml.date_2015-05-12.2016-11-26.xml.gz</td><td>5365264</td><td>1677512268000</td></tr><tr><td>dbfs:/mnt/ddscoursedatastorage/fwm-stb-data/refxml/SintecMedia.rpt_refxml.date_2015-05-13.2016-11-26.xml.gz</td><td>SintecMedia.rpt_refxml.date_2015-05-13.2016-11-26.xml.gz</td><td>5348950</td><td>1677512259000</td></tr><tr><td>dbfs:/mnt/ddscoursedatastorage/fwm-stb-data/refxml/SintecMedia.rpt_refxml.date_2015-05-14.2016-11-26.xml.gz</td><td>SintecMedia.rpt_refxml.date_2015-05-14.2016-11-26.xml.gz</td><td>5347921</td><td>1677512257000</td></tr><tr><td>dbfs:/mnt/ddscoursedatastorage/fwm-stb-data/refxml/SintecMedia.rpt_refxml.date_2015-05-15.2016-11-26.xml.gz</td><td>SintecMedia.rpt_refxml.date_2015-05-15.2016-11-26.xml.gz</td><td>5348397</td><td>1677512264000</td></tr><tr><td>dbfs:/mnt/ddscoursedatastorage/fwm-stb-data/refxml/SintecMedia.rpt_refxml.date_2015-05-16.2016-11-26.xml.gz</td><td>SintecMedia.rpt_refxml.date_2015-05-16.2016-11-26.xml.gz</td><td>5348867</td><td>1677512270000</td></tr><tr><td>dbfs:/mnt/ddscoursedatastorage/fwm-stb-data/refxml/SintecMedia.rpt_refxml.date_2015-05-17.2016-11-26.xml.gz</td><td>SintecMedia.rpt_refxml.date_2015-05-17.2016-11-26.xml.gz</td><td>5349055</td><td>1677512253000</td></tr><tr><td>dbfs:/mnt/ddscoursedatastorage/fwm-stb-data/refxml/SintecMedia.rpt_refxml.date_2015-05-18.2016-11-26.xml.gz</td><td>SintecMedia.rpt_refxml.date_2015-05-18.2016-11-26.xml.gz</td><td>5351291</td><td>1677512271000</td></tr><tr><td>dbfs:/mnt/ddscoursedatastorage/fwm-stb-data/refxml/SintecMedia.rpt_refxml.date_2015-05-19.2016-11-26.xml.gz</td><td>SintecMedia.rpt_refxml.date_2015-05-19.2016-11-26.xml.gz</td><td>5351391</td><td>1677512260000</td></tr><tr><td>dbfs:/mnt/ddscoursedatastorage/fwm-stb-data/refxml/SintecMedia.rpt_refxml.date_2015-05-20.2016-11-26.xml.gz</td><td>SintecMedia.rpt_refxml.date_2015-05-20.2016-11-26.xml.gz</td><td>5351684</td><td>1677512264000</td></tr><tr><td>dbfs:/mnt/ddscoursedatastorage/fwm-stb-data/refxml/SintecMedia.rpt_refxml.date_2015-05-21.2016-11-26.xml.gz</td><td>SintecMedia.rpt_refxml.date_2015-05-21.2016-11-26.xml.gz</td><td>5352321</td><td>1677512256000</td></tr><tr><td>dbfs:/mnt/ddscoursedatastorage/fwm-stb-data/refxml/SintecMedia.rpt_refxml.date_2015-05-22.2016-11-26.xml.gz</td><td>SintecMedia.rpt_refxml.date_2015-05-22.2016-11-26.xml.gz</td><td>5352374</td><td>1677512270000</td></tr><tr><td>dbfs:/mnt/ddscoursedatastorage/fwm-stb-data/refxml/SintecMedia.rpt_refxml.date_2015-05-23.2016-11-26.xml.gz</td><td>SintecMedia.rpt_refxml.date_2015-05-23.2016-11-26.xml.gz</td><td>5352525</td><td>1677512267000</td></tr><tr><td>dbfs:/mnt/ddscoursedatastorage/fwm-stb-data/refxml/SintecMedia.rpt_refxml.date_2015-05-24.2016-11-26.xml.gz</td><td>SintecMedia.rpt_refxml.date_2015-05-24.2016-11-26.xml.gz</td><td>5352502</td><td>1677512268000</td></tr><tr><td>dbfs:/mnt/ddscoursedatastorage/fwm-stb-data/refxml/SintecMedia.rpt_refxml.date_2015-05-25.2016-11-26.xml.gz</td><td>SintecMedia.rpt_refxml.date_2015-05-25.2016-11-26.xml.gz</td><td>5354090</td><td>1677512250000</td></tr><tr><td>dbfs:/mnt/ddscoursedatastorage/fwm-stb-data/refxml/SintecMedia.rpt_refxml.date_2015-05-26.2016-11-26.xml.gz</td><td>SintecMedia.rpt_refxml.date_2015-05-26.2016-11-26.xml.gz</td><td>5354958</td><td>1677512258000</td></tr><tr><td>dbfs:/mnt/ddscoursedatastorage/fwm-stb-data/refxml/SintecMedia.rpt_refxml.date_2015-05-27.2016-11-26.xml.gz</td><td>SintecMedia.rpt_refxml.date_2015-05-27.2016-11-26.xml.gz</td><td>5355776</td><td>1677512258000</td></tr><tr><td>dbfs:/mnt/ddscoursedatastorage/fwm-stb-data/refxml/SintecMedia.rpt_refxml.date_2015-05-28.2016-11-26.xml.gz</td><td>SintecMedia.rpt_refxml.date_2015-05-28.2016-11-26.xml.gz</td><td>5356011</td><td>1677512259000</td></tr><tr><td>dbfs:/mnt/ddscoursedatastorage/fwm-stb-data/refxml/SintecMedia.rpt_refxml.date_2015-05-29.2016-11-26.xml.gz</td><td>SintecMedia.rpt_refxml.date_2015-05-29.2016-11-26.xml.gz</td><td>5355506</td><td>1677512265000</td></tr><tr><td>dbfs:/mnt/ddscoursedatastorage/fwm-stb-data/refxml/SintecMedia.rpt_refxml.date_2015-05-30.2016-11-26.xml.gz</td><td>SintecMedia.rpt_refxml.date_2015-05-30.2016-11-26.xml.gz</td><td>5355607</td><td>1677512262000</td></tr><tr><td>dbfs:/mnt/ddscoursedatastorage/fwm-stb-data/refxml/SintecMedia.rpt_refxml.date_2015-05-31.2016-11-26.xml.gz</td><td>SintecMedia.rpt_refxml.date_2015-05-31.2016-11-26.xml.gz</td><td>5355867</td><td>1677512263000</td></tr><tr><td>dbfs:/mnt/ddscoursedatastorage/fwm-stb-data/refxml/SintecMedia.rpt_refxml.date_2015-06-01.2016-11-26.xml.gz</td><td>SintecMedia.rpt_refxml.date_2015-06-01.2016-11-26.xml.gz</td><td>5356803</td><td>1677512262000</td></tr><tr><td>dbfs:/mnt/ddscoursedatastorage/fwm-stb-data/refxml/SintecMedia.rpt_refxml.date_2015-06-02.2016-11-26.xml.gz</td><td>SintecMedia.rpt_refxml.date_2015-06-02.2016-11-26.xml.gz</td><td>5357593</td><td>1677512262000</td></tr><tr><td>dbfs:/mnt/ddscoursedatastorage/fwm-stb-data/refxml/SintecMedia.rpt_refxml.date_2015-06-03.2016-11-26.xml.gz</td><td>SintecMedia.rpt_refxml.date_2015-06-03.2016-11-26.xml.gz</td><td>5357952</td><td>1677512266000</td></tr><tr><td>dbfs:/mnt/ddscoursedatastorage/fwm-stb-data/refxml/SintecMedia.rpt_refxml.date_2015-06-04.2016-11-26.xml.gz</td><td>SintecMedia.rpt_refxml.date_2015-06-04.2016-11-26.xml.gz</td><td>5358577</td><td>1677512269000</td></tr><tr><td>dbfs:/mnt/ddscoursedatastorage/fwm-stb-data/refxml/SintecMedia.rpt_refxml.date_2015-06-05.2016-11-26.xml.gz</td><td>SintecMedia.rpt_refxml.date_2015-06-05.2016-11-26.xml.gz</td><td>5358715</td><td>1677512266000</td></tr><tr><td>dbfs:/mnt/ddscoursedatastorage/fwm-stb-data/refxml/SintecMedia.rpt_refxml.date_2015-06-06.2016-11-26.xml.gz</td><td>SintecMedia.rpt_refxml.date_2015-06-06.2016-11-26.xml.gz</td><td>5358748</td><td>1677512263000</td></tr><tr><td>dbfs:/mnt/ddscoursedatastorage/fwm-stb-data/refxml/SintecMedia.rpt_refxml.date_2015-06-07.2016-11-26.xml.gz</td><td>SintecMedia.rpt_refxml.date_2015-06-07.2016-11-26.xml.gz</td><td>5358231</td><td>1677512270000</td></tr><tr><td>dbfs:/mnt/ddscoursedatastorage/fwm-stb-data/refxml/SintecMedia.rpt_refxml.date_2015-06-08.2016-11-26.xml.gz</td><td>SintecMedia.rpt_refxml.date_2015-06-08.2016-11-26.xml.gz</td><td>5359927</td><td>1677512258000</td></tr><tr><td>dbfs:/mnt/ddscoursedatastorage/fwm-stb-data/refxml/SintecMedia.rpt_refxml.date_2015-06-09.2016-11-26.xml.gz</td><td>SintecMedia.rpt_refxml.date_2015-06-09.2016-11-26.xml.gz</td><td>5360243</td><td>1677512264000</td></tr><tr><td>dbfs:/mnt/ddscoursedatastorage/fwm-stb-data/refxml/SintecMedia.rpt_refxml.date_2015-06-10.2016-11-26.xml.gz</td><td>SintecMedia.rpt_refxml.date_2015-06-10.2016-11-26.xml.gz</td><td>5360756</td><td>1677512259000</td></tr><tr><td>dbfs:/mnt/ddscoursedatastorage/fwm-stb-data/refxml/SintecMedia.rpt_refxml.date_2015-06-11.2016-11-26.xml.gz</td><td>SintecMedia.rpt_refxml.date_2015-06-11.2016-11-26.xml.gz</td><td>5360667</td><td>1677512264000</td></tr><tr><td>dbfs:/mnt/ddscoursedatastorage/fwm-stb-data/refxml/SintecMedia.rpt_refxml.date_2015-06-12.2016-11-26.xml.gz</td><td>SintecMedia.rpt_refxml.date_2015-06-12.2016-11-26.xml.gz</td><td>5361134</td><td>1677512246000</td></tr><tr><td>dbfs:/mnt/ddscoursedatastorage/fwm-stb-data/refxml/SintecMedia.rpt_refxml.date_2015-06-13.2016-11-26.xml.gz</td><td>SintecMedia.rpt_refxml.date_2015-06-13.2016-11-26.xml.gz</td><td>5361238</td><td>1677512268000</td></tr><tr><td>dbfs:/mnt/ddscoursedatastorage/fwm-stb-data/refxml/SintecMedia.rpt_refxml.date_2015-06-14.2016-11-26.xml.gz</td><td>SintecMedia.rpt_refxml.date_2015-06-14.2016-11-26.xml.gz</td><td>5361078</td><td>1677512258000</td></tr><tr><td>dbfs:/mnt/ddscoursedatastorage/fwm-stb-data/refxml/SintecMedia.rpt_refxml.date_2015-06-15.2016-11-26.xml.gz</td><td>SintecMedia.rpt_refxml.date_2015-06-15.2016-11-26.xml.gz</td><td>5362357</td><td>1677512265000</td></tr><tr><td>dbfs:/mnt/ddscoursedatastorage/fwm-stb-data/refxml/SintecMedia.rpt_refxml.date_2015-06-16.2016-11-26.xml.gz</td><td>SintecMedia.rpt_refxml.date_2015-06-16.2016-11-26.xml.gz</td><td>5363115</td><td>1677512242000</td></tr><tr><td>dbfs:/mnt/ddscoursedatastorage/fwm-stb-data/refxml/SintecMedia.rpt_refxml.date_2015-06-17.2016-11-26.xml.gz</td><td>SintecMedia.rpt_refxml.date_2015-06-17.2016-11-26.xml.gz</td><td>5363184</td><td>1677512251000</td></tr><tr><td>dbfs:/mnt/ddscoursedatastorage/fwm-stb-data/refxml/SintecMedia.rpt_refxml.date_2015-06-18.2016-11-26.xml.gz</td><td>SintecMedia.rpt_refxml.date_2015-06-18.2016-11-26.xml.gz</td><td>5363442</td><td>1677512266000</td></tr><tr><td>dbfs:/mnt/ddscoursedatastorage/fwm-stb-data/refxml/SintecMedia.rpt_refxml.date_2015-06-19.2016-11-26.xml.gz</td><td>SintecMedia.rpt_refxml.date_2015-06-19.2016-11-26.xml.gz</td><td>5363582</td><td>1677512266000</td></tr><tr><td>dbfs:/mnt/ddscoursedatastorage/fwm-stb-data/refxml/SintecMedia.rpt_refxml.date_2015-06-20.2016-11-26.xml.gz</td><td>SintecMedia.rpt_refxml.date_2015-06-20.2016-11-26.xml.gz</td><td>5363670</td><td>1677512263000</td></tr><tr><td>dbfs:/mnt/ddscoursedatastorage/fwm-stb-data/refxml/SintecMedia.rpt_refxml.date_2015-06-21.2016-11-26.xml.gz</td><td>SintecMedia.rpt_refxml.date_2015-06-21.2016-11-26.xml.gz</td><td>5363812</td><td>1677512248000</td></tr><tr><td>dbfs:/mnt/ddscoursedatastorage/fwm-stb-data/refxml/SintecMedia.rpt_refxml.date_2015-06-22.2016-11-26.xml.gz</td><td>SintecMedia.rpt_refxml.date_2015-06-22.2016-11-26.xml.gz</td><td>5364872</td><td>1677512261000</td></tr><tr><td>dbfs:/mnt/ddscoursedatastorage/fwm-stb-data/refxml/SintecMedia.rpt_refxml.date_2015-06-23.2016-11-26.xml.gz</td><td>SintecMedia.rpt_refxml.date_2015-06-23.2016-11-26.xml.gz</td><td>5365930</td><td>1677512262000</td></tr><tr><td>dbfs:/mnt/ddscoursedatastorage/fwm-stb-data/refxml/SintecMedia.rpt_refxml.date_2015-06-24.2016-11-26.xml.gz</td><td>SintecMedia.rpt_refxml.date_2015-06-24.2016-11-26.xml.gz</td><td>5365905</td><td>1677512256000</td></tr><tr><td>dbfs:/mnt/ddscoursedatastorage/fwm-stb-data/refxml/SintecMedia.rpt_refxml.date_2015-06-25.2016-11-26.xml.gz</td><td>SintecMedia.rpt_refxml.date_2015-06-25.2016-11-26.xml.gz</td><td>5367314</td><td>1677512267000</td></tr><tr><td>dbfs:/mnt/ddscoursedatastorage/fwm-stb-data/refxml/SintecMedia.rpt_refxml.date_2015-06-26.2016-11-26.xml.gz</td><td>SintecMedia.rpt_refxml.date_2015-06-26.2016-11-26.xml.gz</td><td>5367566</td><td>1677512250000</td></tr><tr><td>dbfs:/mnt/ddscoursedatastorage/fwm-stb-data/refxml/SintecMedia.rpt_refxml.date_2015-06-27.2016-11-26.xml.gz</td><td>SintecMedia.rpt_refxml.date_2015-06-27.2016-11-26.xml.gz</td><td>5367715</td><td>1677512257000</td></tr><tr><td>dbfs:/mnt/ddscoursedatastorage/fwm-stb-data/refxml/SintecMedia.rpt_refxml.date_2015-06-28.2016-11-26.xml.gz</td><td>SintecMedia.rpt_refxml.date_2015-06-28.2016-11-26.xml.gz</td><td>5367697</td><td>1677512268000</td></tr><tr><td>dbfs:/mnt/ddscoursedatastorage/fwm-stb-data/refxml/SintecMedia.rpt_refxml.date_2015-06-29.2016-11-26.xml.gz</td><td>SintecMedia.rpt_refxml.date_2015-06-29.2016-11-26.xml.gz</td><td>5369306</td><td>1677512259000</td></tr><tr><td>dbfs:/mnt/ddscoursedatastorage/fwm-stb-data/refxml/SintecMedia.rpt_refxml.date_2015-06-30.2016-11-26.xml.gz</td><td>SintecMedia.rpt_refxml.date_2015-06-30.2016-11-26.xml.gz</td><td>5369246</td><td>1677512263000</td></tr><tr><td>dbfs:/mnt/ddscoursedatastorage/fwm-stb-data/refxml/SintecMedia.rpt_refxml.date_2015-07-01.2016-11-26.xml.gz</td><td>SintecMedia.rpt_refxml.date_2015-07-01.2016-11-26.xml.gz</td><td>5369833</td><td>1677512254000</td></tr><tr><td>dbfs:/mnt/ddscoursedatastorage/fwm-stb-data/refxml/SintecMedia.rpt_refxml.date_2015-07-02.2016-11-26.xml.gz</td><td>SintecMedia.rpt_refxml.date_2015-07-02.2016-11-26.xml.gz</td><td>5369821</td><td>1677512264000</td></tr><tr><td>dbfs:/mnt/ddscoursedatastorage/fwm-stb-data/refxml/SintecMedia.rpt_refxml.date_2015-07-03.2016-11-26.xml.gz</td><td>SintecMedia.rpt_refxml.date_2015-07-03.2016-11-26.xml.gz</td><td>5369934</td><td>1677512265000</td></tr><tr><td>dbfs:/mnt/ddscoursedatastorage/fwm-stb-data/refxml/SintecMedia.rpt_refxml.date_2015-07-04.2016-11-26.xml.gz</td><td>SintecMedia.rpt_refxml.date_2015-07-04.2016-11-26.xml.gz</td><td>5369868</td><td>1677512269000</td></tr><tr><td>dbfs:/mnt/ddscoursedatastorage/fwm-stb-data/refxml/SintecMedia.rpt_refxml.date_2015-07-05.2016-11-27.xml.gz</td><td>SintecMedia.rpt_refxml.date_2015-07-05.2016-11-27.xml.gz</td><td>5370034</td><td>1677512257000</td></tr><tr><td>dbfs:/mnt/ddscoursedatastorage/fwm-stb-data/refxml/SintecMedia.rpt_refxml.date_2015-07-06.2016-11-27.xml.gz</td><td>SintecMedia.rpt_refxml.date_2015-07-06.2016-11-27.xml.gz</td><td>5371753</td><td>1677512266000</td></tr><tr><td>dbfs:/mnt/ddscoursedatastorage/fwm-stb-data/refxml/SintecMedia.rpt_refxml.date_2015-07-07.2016-11-27.xml.gz</td><td>SintecMedia.rpt_refxml.date_2015-07-07.2016-11-27.xml.gz</td><td>5371733</td><td>1677512267000</td></tr><tr><td>dbfs:/mnt/ddscoursedatastorage/fwm-stb-data/refxml/SintecMedia.rpt_refxml.date_2015-07-08.2016-11-27.xml.gz</td><td>SintecMedia.rpt_refxml.date_2015-07-08.2016-11-27.xml.gz</td><td>5371625</td><td>1677512257000</td></tr><tr><td>dbfs:/mnt/ddscoursedatastorage/fwm-stb-data/refxml/SintecMedia.rpt_refxml.date_2015-07-09.2016-11-27.xml.gz</td><td>SintecMedia.rpt_refxml.date_2015-07-09.2016-11-27.xml.gz</td><td>5372088</td><td>1677512260000</td></tr><tr><td>dbfs:/mnt/ddscoursedatastorage/fwm-stb-data/refxml/SintecMedia.rpt_refxml.date_2015-07-10.2016-11-27.xml.gz</td><td>SintecMedia.rpt_refxml.date_2015-07-10.2016-11-27.xml.gz</td><td>5372442</td><td>1677512245000</td></tr><tr><td>dbfs:/mnt/ddscoursedatastorage/fwm-stb-data/refxml/SintecMedia.rpt_refxml.date_2015-07-11.2016-11-27.xml.gz</td><td>SintecMedia.rpt_refxml.date_2015-07-11.2016-11-27.xml.gz</td><td>5372455</td><td>1677512263000</td></tr><tr><td>dbfs:/mnt/ddscoursedatastorage/fwm-stb-data/refxml/SintecMedia.rpt_refxml.date_2015-07-12.2016-11-27.xml.gz</td><td>SintecMedia.rpt_refxml.date_2015-07-12.2016-11-27.xml.gz</td><td>5291392</td><td>1677512257000</td></tr><tr><td>dbfs:/mnt/ddscoursedatastorage/fwm-stb-data/refxml/SintecMedia.rpt_refxml.date_2015-07-13.2016-11-27.xml.gz</td><td>SintecMedia.rpt_refxml.date_2015-07-13.2016-11-27.xml.gz</td><td>5374501</td><td>1677512250000</td></tr><tr><td>dbfs:/mnt/ddscoursedatastorage/fwm-stb-data/refxml/SintecMedia.rpt_refxml.date_2015-07-14.2016-11-27.xml.gz</td><td>SintecMedia.rpt_refxml.date_2015-07-14.2016-11-27.xml.gz</td><td>5374502</td><td>1677512265000</td></tr><tr><td>dbfs:/mnt/ddscoursedatastorage/fwm-stb-data/refxml/SintecMedia.rpt_refxml.date_2015-07-15.2016-11-27.xml.gz</td><td>SintecMedia.rpt_refxml.date_2015-07-15.2016-11-27.xml.gz</td><td>5374024</td><td>1677512247000</td></tr><tr><td>dbfs:/mnt/ddscoursedatastorage/fwm-stb-data/refxml/SintecMedia.rpt_refxml.date_2015-07-16.2016-11-27.xml.gz</td><td>SintecMedia.rpt_refxml.date_2015-07-16.2016-11-27.xml.gz</td><td>5374400</td><td>1677512260000</td></tr><tr><td>dbfs:/mnt/ddscoursedatastorage/fwm-stb-data/refxml/SintecMedia.rpt_refxml.date_2015-07-17.2016-11-27.xml.gz</td><td>SintecMedia.rpt_refxml.date_2015-07-17.2016-11-27.xml.gz</td><td>5374615</td><td>1677512252000</td></tr><tr><td>dbfs:/mnt/ddscoursedatastorage/fwm-stb-data/refxml/SintecMedia.rpt_refxml.date_2015-07-18.2016-11-27.xml.gz</td><td>SintecMedia.rpt_refxml.date_2015-07-18.2016-11-27.xml.gz</td><td>5374685</td><td>1677512249000</td></tr><tr><td>dbfs:/mnt/ddscoursedatastorage/fwm-stb-data/refxml/SintecMedia.rpt_refxml.date_2015-07-19.2016-11-27.xml.gz</td><td>SintecMedia.rpt_refxml.date_2015-07-19.2016-11-27.xml.gz</td><td>5375172</td><td>1677512252000</td></tr><tr><td>dbfs:/mnt/ddscoursedatastorage/fwm-stb-data/refxml/SintecMedia.rpt_refxml.date_2015-07-20.2016-11-27.xml.gz</td><td>SintecMedia.rpt_refxml.date_2015-07-20.2016-11-27.xml.gz</td><td>5375925</td><td>1677512257000</td></tr><tr><td>dbfs:/mnt/ddscoursedatastorage/fwm-stb-data/refxml/SintecMedia.rpt_refxml.date_2015-07-21.2016-11-27.xml.gz</td><td>SintecMedia.rpt_refxml.date_2015-07-21.2016-11-27.xml.gz</td><td>5376066</td><td>1677512266000</td></tr><tr><td>dbfs:/mnt/ddscoursedatastorage/fwm-stb-data/refxml/SintecMedia.rpt_refxml.date_2015-07-22.2016-11-27.xml.gz</td><td>SintecMedia.rpt_refxml.date_2015-07-22.2016-11-27.xml.gz</td><td>5376499</td><td>1677512267000</td></tr><tr><td>dbfs:/mnt/ddscoursedatastorage/fwm-stb-data/refxml/SintecMedia.rpt_refxml.date_2015-07-23.2016-11-27.xml.gz</td><td>SintecMedia.rpt_refxml.date_2015-07-23.2016-11-27.xml.gz</td><td>5376833</td><td>1677512267000</td></tr><tr><td>dbfs:/mnt/ddscoursedatastorage/fwm-stb-data/refxml/SintecMedia.rpt_refxml.date_2015-07-24.2016-11-27.xml.gz</td><td>SintecMedia.rpt_refxml.date_2015-07-24.2016-11-27.xml.gz</td><td>5376898</td><td>1677512264000</td></tr><tr><td>dbfs:/mnt/ddscoursedatastorage/fwm-stb-data/refxml/SintecMedia.rpt_refxml.date_2015-07-25.2016-11-27.xml.gz</td><td>SintecMedia.rpt_refxml.date_2015-07-25.2016-11-27.xml.gz</td><td>5377151</td><td>1677512260000</td></tr><tr><td>dbfs:/mnt/ddscoursedatastorage/fwm-stb-data/refxml/SintecMedia.rpt_refxml.date_2015-07-26.2016-11-27.xml.gz</td><td>SintecMedia.rpt_refxml.date_2015-07-26.2016-11-27.xml.gz</td><td>5377224</td><td>1677512271000</td></tr><tr><td>dbfs:/mnt/ddscoursedatastorage/fwm-stb-data/refxml/SintecMedia.rpt_refxml.date_2015-07-27.2016-11-27.xml.gz</td><td>SintecMedia.rpt_refxml.date_2015-07-27.2016-11-27.xml.gz</td><td>5378813</td><td>1677512262000</td></tr><tr><td>dbfs:/mnt/ddscoursedatastorage/fwm-stb-data/refxml/SintecMedia.rpt_refxml.date_2015-07-28.2016-11-27.xml.gz</td><td>SintecMedia.rpt_refxml.date_2015-07-28.2016-11-27.xml.gz</td><td>5378944</td><td>1677512264000</td></tr><tr><td>dbfs:/mnt/ddscoursedatastorage/fwm-stb-data/refxml/SintecMedia.rpt_refxml.date_2015-07-29.2016-11-27.xml.gz</td><td>SintecMedia.rpt_refxml.date_2015-07-29.2016-11-27.xml.gz</td><td>5377983</td><td>1677512260000</td></tr><tr><td>dbfs:/mnt/ddscoursedatastorage/fwm-stb-data/refxml/SintecMedia.rpt_refxml.date_2015-07-30.2016-11-27.xml.gz</td><td>SintecMedia.rpt_refxml.date_2015-07-30.2016-11-27.xml.gz</td><td>5378850</td><td>1677512259000</td></tr><tr><td>dbfs:/mnt/ddscoursedatastorage/fwm-stb-data/refxml/SintecMedia.rpt_refxml.date_2015-07-31.2016-11-27.xml.gz</td><td>SintecMedia.rpt_refxml.date_2015-07-31.2016-11-27.xml.gz</td><td>5379161</td><td>1677512264000</td></tr><tr><td>dbfs:/mnt/ddscoursedatastorage/fwm-stb-data/refxml/SintecMedia.rpt_refxml.date_2015-08-01.2016-11-27.xml.gz</td><td>SintecMedia.rpt_refxml.date_2015-08-01.2016-11-27.xml.gz</td><td>5379714</td><td>1677512271000</td></tr><tr><td>dbfs:/mnt/ddscoursedatastorage/fwm-stb-data/refxml/SintecMedia.rpt_refxml.date_2015-08-02.2016-11-27.xml.gz</td><td>SintecMedia.rpt_refxml.date_2015-08-02.2016-11-27.xml.gz</td><td>5379901</td><td>1677512259000</td></tr><tr><td>dbfs:/mnt/ddscoursedatastorage/fwm-stb-data/refxml/SintecMedia.rpt_refxml.date_2015-08-03.2016-11-27.xml.gz</td><td>SintecMedia.rpt_refxml.date_2015-08-03.2016-11-27.xml.gz</td><td>5380785</td><td>1677512248000</td></tr><tr><td>dbfs:/mnt/ddscoursedatastorage/fwm-stb-data/refxml/SintecMedia.rpt_refxml.date_2015-08-04.2016-11-27.xml.gz</td><td>SintecMedia.rpt_refxml.date_2015-08-04.2016-11-27.xml.gz</td><td>5381021</td><td>1677512254000</td></tr><tr><td>dbfs:/mnt/ddscoursedatastorage/fwm-stb-data/refxml/SintecMedia.rpt_refxml.date_2015-08-05.2016-11-27.xml.gz</td><td>SintecMedia.rpt_refxml.date_2015-08-05.2016-11-27.xml.gz</td><td>5381312</td><td>1677512267000</td></tr><tr><td>dbfs:/mnt/ddscoursedatastorage/fwm-stb-data/refxml/SintecMedia.rpt_refxml.date_2015-08-06.2016-11-27.xml.gz</td><td>SintecMedia.rpt_refxml.date_2015-08-06.2016-11-27.xml.gz</td><td>5340799</td><td>1677512266000</td></tr><tr><td>dbfs:/mnt/ddscoursedatastorage/fwm-stb-data/refxml/SintecMedia.rpt_refxml.date_2015-08-07.2016-11-27.xml.gz</td><td>SintecMedia.rpt_refxml.date_2015-08-07.2016-11-27.xml.gz</td><td>5341070</td><td>1677512270000</td></tr><tr><td>dbfs:/mnt/ddscoursedatastorage/fwm-stb-data/refxml/SintecMedia.rpt_refxml.date_2015-08-08.2016-11-27.xml.gz</td><td>SintecMedia.rpt_refxml.date_2015-08-08.2016-11-27.xml.gz</td><td>5213794</td><td>1677512259000</td></tr><tr><td>dbfs:/mnt/ddscoursedatastorage/fwm-stb-data/refxml/SintecMedia.rpt_refxml.date_2015-08-09.2016-11-27.xml.gz</td><td>SintecMedia.rpt_refxml.date_2015-08-09.2016-11-27.xml.gz</td><td>5341159</td><td>1677512267000</td></tr><tr><td>dbfs:/mnt/ddscoursedatastorage/fwm-stb-data/refxml/SintecMedia.rpt_refxml.date_2015-08-10.2016-11-27.xml.gz</td><td>SintecMedia.rpt_refxml.date_2015-08-10.2016-11-27.xml.gz</td><td>5343206</td><td>1677512251000</td></tr><tr><td>dbfs:/mnt/ddscoursedatastorage/fwm-stb-data/refxml/SintecMedia.rpt_refxml.date_2015-08-11.2016-11-27.xml.gz</td><td>SintecMedia.rpt_refxml.date_2015-08-11.2016-11-27.xml.gz</td><td>5343243</td><td>1677512256000</td></tr><tr><td>dbfs:/mnt/ddscoursedatastorage/fwm-stb-data/refxml/SintecMedia.rpt_refxml.date_2015-08-12.2016-11-27.xml.gz</td><td>SintecMedia.rpt_refxml.date_2015-08-12.2016-11-27.xml.gz</td><td>5344009</td><td>1677512270000</td></tr><tr><td>dbfs:/mnt/ddscoursedatastorage/fwm-stb-data/refxml/SintecMedia.rpt_refxml.date_2015-08-13.2016-11-27.xml.gz</td><td>SintecMedia.rpt_refxml.date_2015-08-13.2016-11-27.xml.gz</td><td>5343921</td><td>1677512255000</td></tr><tr><td>dbfs:/mnt/ddscoursedatastorage/fwm-stb-data/refxml/SintecMedia.rpt_refxml.date_2015-08-14.2016-11-27.xml.gz</td><td>SintecMedia.rpt_refxml.date_2015-08-14.2016-11-27.xml.gz</td><td>5343858</td><td>1677512266000</td></tr><tr><td>dbfs:/mnt/ddscoursedatastorage/fwm-stb-data/refxml/SintecMedia.rpt_refxml.date_2015-08-15.2016-11-27.xml.gz</td><td>SintecMedia.rpt_refxml.date_2015-08-15.2016-11-27.xml.gz</td><td>5343972</td><td>1677512257000</td></tr><tr><td>dbfs:/mnt/ddscoursedatastorage/fwm-stb-data/refxml/SintecMedia.rpt_refxml.date_2015-08-16.2016-11-27.xml.gz</td><td>SintecMedia.rpt_refxml.date_2015-08-16.2016-11-27.xml.gz</td><td>5343940</td><td>1677512266000</td></tr><tr><td>dbfs:/mnt/ddscoursedatastorage/fwm-stb-data/refxml/SintecMedia.rpt_refxml.date_2015-08-17.2016-11-27.xml.gz</td><td>SintecMedia.rpt_refxml.date_2015-08-17.2016-11-27.xml.gz</td><td>5345101</td><td>1677512260000</td></tr><tr><td>dbfs:/mnt/ddscoursedatastorage/fwm-stb-data/refxml/SintecMedia.rpt_refxml.date_2015-08-18.2016-11-27.xml.gz</td><td>SintecMedia.rpt_refxml.date_2015-08-18.2016-11-27.xml.gz</td><td>5346467</td><td>1677512264000</td></tr><tr><td>dbfs:/mnt/ddscoursedatastorage/fwm-stb-data/refxml/SintecMedia.rpt_refxml.date_2015-08-19.2016-11-27.xml.gz</td><td>SintecMedia.rpt_refxml.date_2015-08-19.2016-11-27.xml.gz</td><td>5346605</td><td>1677512259000</td></tr><tr><td>dbfs:/mnt/ddscoursedatastorage/fwm-stb-data/refxml/SintecMedia.rpt_refxml.date_2015-08-20.2016-11-27.xml.gz</td><td>SintecMedia.rpt_refxml.date_2015-08-20.2016-11-27.xml.gz</td><td>5347265</td><td>1677512260000</td></tr><tr><td>dbfs:/mnt/ddscoursedatastorage/fwm-stb-data/refxml/SintecMedia.rpt_refxml.date_2015-08-21.2016-11-27.xml.gz</td><td>SintecMedia.rpt_refxml.date_2015-08-21.2016-11-27.xml.gz</td><td>5347420</td><td>1677512261000</td></tr><tr><td>dbfs:/mnt/ddscoursedatastorage/fwm-stb-data/refxml/SintecMedia.rpt_refxml.date_2015-08-22.2016-11-27.xml.gz</td><td>SintecMedia.rpt_refxml.date_2015-08-22.2016-11-27.xml.gz</td><td>5347603</td><td>1677512266000</td></tr><tr><td>dbfs:/mnt/ddscoursedatastorage/fwm-stb-data/refxml/SintecMedia.rpt_refxml.date_2015-08-23.2016-11-27.xml.gz</td><td>SintecMedia.rpt_refxml.date_2015-08-23.2016-11-27.xml.gz</td><td>5347475</td><td>1677512257000</td></tr><tr><td>dbfs:/mnt/ddscoursedatastorage/fwm-stb-data/refxml/SintecMedia.rpt_refxml.date_2015-08-24.2016-11-27.xml.gz</td><td>SintecMedia.rpt_refxml.date_2015-08-24.2016-11-27.xml.gz</td><td>5348169</td><td>1677512253000</td></tr><tr><td>dbfs:/mnt/ddscoursedatastorage/fwm-stb-data/refxml/SintecMedia.rpt_refxml.date_2015-08-25.2016-11-27.xml.gz</td><td>SintecMedia.rpt_refxml.date_2015-08-25.2016-11-27.xml.gz</td><td>5348311</td><td>1677512249000</td></tr><tr><td>dbfs:/mnt/ddscoursedatastorage/fwm-stb-data/refxml/SintecMedia.rpt_refxml.date_2015-08-26.2016-11-27.xml.gz</td><td>SintecMedia.rpt_refxml.date_2015-08-26.2016-11-27.xml.gz</td><td>5349508</td><td>1677512271000</td></tr><tr><td>dbfs:/mnt/ddscoursedatastorage/fwm-stb-data/refxml/SintecMedia.rpt_refxml.date_2015-08-27.2016-11-27.xml.gz</td><td>SintecMedia.rpt_refxml.date_2015-08-27.2016-11-27.xml.gz</td><td>5349924</td><td>1677512254000</td></tr><tr><td>dbfs:/mnt/ddscoursedatastorage/fwm-stb-data/refxml/SintecMedia.rpt_refxml.date_2015-08-28.2016-11-27.xml.gz</td><td>SintecMedia.rpt_refxml.date_2015-08-28.2016-11-27.xml.gz</td><td>5350273</td><td>1677512258000</td></tr><tr><td>dbfs:/mnt/ddscoursedatastorage/fwm-stb-data/refxml/SintecMedia.rpt_refxml.date_2015-08-29.2016-11-27.xml.gz</td><td>SintecMedia.rpt_refxml.date_2015-08-29.2016-11-27.xml.gz</td><td>5350293</td><td>1677512264000</td></tr><tr><td>dbfs:/mnt/ddscoursedatastorage/fwm-stb-data/refxml/SintecMedia.rpt_refxml.date_2015-08-30.2016-11-27.xml.gz</td><td>SintecMedia.rpt_refxml.date_2015-08-30.2016-11-27.xml.gz</td><td>5350466</td><td>1677512267000</td></tr><tr><td>dbfs:/mnt/ddscoursedatastorage/fwm-stb-data/refxml/SintecMedia.rpt_refxml.date_2015-08-31.2016-11-27.xml.gz</td><td>SintecMedia.rpt_refxml.date_2015-08-31.2016-11-27.xml.gz</td><td>5392402</td><td>1677512267000</td></tr><tr><td>dbfs:/mnt/ddscoursedatastorage/fwm-stb-data/refxml/SintecMedia.rpt_refxml.date_2015-09-01.2016-11-27.xml.gz</td><td>SintecMedia.rpt_refxml.date_2015-09-01.2016-11-27.xml.gz</td><td>5392734</td><td>1677512267000</td></tr><tr><td>dbfs:/mnt/ddscoursedatastorage/fwm-stb-data/refxml/SintecMedia.rpt_refxml.date_2015-09-02.2016-11-27.xml.gz</td><td>SintecMedia.rpt_refxml.date_2015-09-02.2016-11-27.xml.gz</td><td>5393508</td><td>1677512271000</td></tr><tr><td>dbfs:/mnt/ddscoursedatastorage/fwm-stb-data/refxml/SintecMedia.rpt_refxml.date_2015-09-03.2016-11-27.xml.gz</td><td>SintecMedia.rpt_refxml.date_2015-09-03.2016-11-27.xml.gz</td><td>5393692</td><td>1677512262000</td></tr><tr><td>dbfs:/mnt/ddscoursedatastorage/fwm-stb-data/refxml/SintecMedia.rpt_refxml.date_2015-09-04.2016-11-27.xml.gz</td><td>SintecMedia.rpt_refxml.date_2015-09-04.2016-11-27.xml.gz</td><td>5393724</td><td>1677512251000</td></tr><tr><td>dbfs:/mnt/ddscoursedatastorage/fwm-stb-data/refxml/SintecMedia.rpt_refxml.date_2015-09-05.2016-11-27.xml.gz</td><td>SintecMedia.rpt_refxml.date_2015-09-05.2016-11-27.xml.gz</td><td>5393828</td><td>1677512254000</td></tr><tr><td>dbfs:/mnt/ddscoursedatastorage/fwm-stb-data/refxml/SintecMedia.rpt_refxml.date_2015-09-06.2016-11-28.xml.gz</td><td>SintecMedia.rpt_refxml.date_2015-09-06.2016-11-28.xml.gz</td><td>5393853</td><td>1677512267000</td></tr><tr><td>dbfs:/mnt/ddscoursedatastorage/fwm-stb-data/refxml/SintecMedia.rpt_refxml.date_2015-09-07.2016-11-28.xml.gz</td><td>SintecMedia.rpt_refxml.date_2015-09-07.2016-11-28.xml.gz</td><td>5394407</td><td>1677512271000</td></tr><tr><td>dbfs:/mnt/ddscoursedatastorage/fwm-stb-data/refxml/SintecMedia.rpt_refxml.date_2015-09-08.2016-11-28.xml.gz</td><td>SintecMedia.rpt_refxml.date_2015-09-08.2016-11-28.xml.gz</td><td>5395920</td><td>1677512256000</td></tr><tr><td>dbfs:/mnt/ddscoursedatastorage/fwm-stb-data/refxml/SintecMedia.rpt_refxml.date_2015-09-09.2016-11-28.xml.gz</td><td>SintecMedia.rpt_refxml.date_2015-09-09.2016-11-28.xml.gz</td><td>5396275</td><td>1677512265000</td></tr><tr><td>dbfs:/mnt/ddscoursedatastorage/fwm-stb-data/refxml/SintecMedia.rpt_refxml.date_2015-09-10.2016-11-28.xml.gz</td><td>SintecMedia.rpt_refxml.date_2015-09-10.2016-11-28.xml.gz</td><td>5396351</td><td>1677512253000</td></tr><tr><td>dbfs:/mnt/ddscoursedatastorage/fwm-stb-data/refxml/SintecMedia.rpt_refxml.date_2015-09-11.2016-11-28.xml.gz</td><td>SintecMedia.rpt_refxml.date_2015-09-11.2016-11-28.xml.gz</td><td>5396492</td><td>1677512265000</td></tr><tr><td>dbfs:/mnt/ddscoursedatastorage/fwm-stb-data/refxml/SintecMedia.rpt_refxml.date_2015-09-12.2016-11-28.xml.gz</td><td>SintecMedia.rpt_refxml.date_2015-09-12.2016-11-28.xml.gz</td><td>5397024</td><td>1677512264000</td></tr><tr><td>dbfs:/mnt/ddscoursedatastorage/fwm-stb-data/refxml/SintecMedia.rpt_refxml.date_2015-09-13.2016-11-28.xml.gz</td><td>SintecMedia.rpt_refxml.date_2015-09-13.2016-11-28.xml.gz</td><td>5396917</td><td>1677512268000</td></tr><tr><td>dbfs:/mnt/ddscoursedatastorage/fwm-stb-data/refxml/SintecMedia.rpt_refxml.date_2015-09-14.2016-11-28.xml.gz</td><td>SintecMedia.rpt_refxml.date_2015-09-14.2016-11-28.xml.gz</td><td>5396917</td><td>1677512259000</td></tr><tr><td>dbfs:/mnt/ddscoursedatastorage/fwm-stb-data/refxml/SintecMedia.rpt_refxml.date_2015-09-15.2016-11-28.xml.gz</td><td>SintecMedia.rpt_refxml.date_2015-09-15.2016-11-28.xml.gz</td><td>5396917</td><td>1677512265000</td></tr><tr><td>dbfs:/mnt/ddscoursedatastorage/fwm-stb-data/refxml/SintecMedia.rpt_refxml.date_2015-09-16.2016-11-28.xml.gz</td><td>SintecMedia.rpt_refxml.date_2015-09-16.2016-11-28.xml.gz</td><td>5396917</td><td>1677512245000</td></tr><tr><td>dbfs:/mnt/ddscoursedatastorage/fwm-stb-data/refxml/SintecMedia.rpt_refxml.date_2015-09-17.2016-11-28.xml.gz</td><td>SintecMedia.rpt_refxml.date_2015-09-17.2016-11-28.xml.gz</td><td>5396917</td><td>1677512264000</td></tr><tr><td>dbfs:/mnt/ddscoursedatastorage/fwm-stb-data/refxml/SintecMedia.rpt_refxml.date_2015-09-18.2016-11-28.xml.gz</td><td>SintecMedia.rpt_refxml.date_2015-09-18.2016-11-28.xml.gz</td><td>5396917</td><td>1677512249000</td></tr><tr><td>dbfs:/mnt/ddscoursedatastorage/fwm-stb-data/refxml/SintecMedia.rpt_refxml.date_2015-09-19.2016-11-28.xml.gz</td><td>SintecMedia.rpt_refxml.date_2015-09-19.2016-11-28.xml.gz</td><td>5396917</td><td>1677512270000</td></tr><tr><td>dbfs:/mnt/ddscoursedatastorage/fwm-stb-data/refxml/SintecMedia.rpt_refxml.date_2015-09-20.2016-11-28.xml.gz</td><td>SintecMedia.rpt_refxml.date_2015-09-20.2016-11-28.xml.gz</td><td>5396917</td><td>1677512264000</td></tr><tr><td>dbfs:/mnt/ddscoursedatastorage/fwm-stb-data/refxml/SintecMedia.rpt_refxml.date_2015-09-21.2016-11-28.xml.gz</td><td>SintecMedia.rpt_refxml.date_2015-09-21.2016-11-28.xml.gz</td><td>5396917</td><td>1677512253000</td></tr><tr><td>dbfs:/mnt/ddscoursedatastorage/fwm-stb-data/refxml/SintecMedia.rpt_refxml.date_2015-09-22.2016-11-28.xml.gz</td><td>SintecMedia.rpt_refxml.date_2015-09-22.2016-11-28.xml.gz</td><td>5401585</td><td>1677512265000</td></tr><tr><td>dbfs:/mnt/ddscoursedatastorage/fwm-stb-data/refxml/SintecMedia.rpt_refxml.date_2015-09-23.2016-11-28.xml.gz</td><td>SintecMedia.rpt_refxml.date_2015-09-23.2016-11-28.xml.gz</td><td>5401705</td><td>1677512265000</td></tr><tr><td>dbfs:/mnt/ddscoursedatastorage/fwm-stb-data/refxml/SintecMedia.rpt_refxml.date_2015-09-24.2016-11-28.xml.gz</td><td>SintecMedia.rpt_refxml.date_2015-09-24.2016-11-28.xml.gz</td><td>5402738</td><td>1677512267000</td></tr><tr><td>dbfs:/mnt/ddscoursedatastorage/fwm-stb-data/refxml/SintecMedia.rpt_refxml.date_2015-09-25.2016-11-28.xml.gz</td><td>SintecMedia.rpt_refxml.date_2015-09-25.2016-11-28.xml.gz</td><td>5403054</td><td>1677512267000</td></tr><tr><td>dbfs:/mnt/ddscoursedatastorage/fwm-stb-data/refxml/SintecMedia.rpt_refxml.date_2015-09-26.2016-11-28.xml.gz</td><td>SintecMedia.rpt_refxml.date_2015-09-26.2016-11-28.xml.gz</td><td>5403397</td><td>1677512264000</td></tr><tr><td>dbfs:/mnt/ddscoursedatastorage/fwm-stb-data/refxml/SintecMedia.rpt_refxml.date_2015-09-27.2016-11-28.xml.gz</td><td>SintecMedia.rpt_refxml.date_2015-09-27.2016-11-28.xml.gz</td><td>5403395</td><td>1677512259000</td></tr><tr><td>dbfs:/mnt/ddscoursedatastorage/fwm-stb-data/refxml/SintecMedia.rpt_refxml.date_2015-09-28.2016-11-28.xml.gz</td><td>SintecMedia.rpt_refxml.date_2015-09-28.2016-11-28.xml.gz</td><td>5404779</td><td>1677512269000</td></tr><tr><td>dbfs:/mnt/ddscoursedatastorage/fwm-stb-data/refxml/SintecMedia.rpt_refxml.date_2015-09-29.2016-11-28.xml.gz</td><td>SintecMedia.rpt_refxml.date_2015-09-29.2016-11-28.xml.gz</td><td>5408895</td><td>1677512255000</td></tr><tr><td>dbfs:/mnt/ddscoursedatastorage/fwm-stb-data/refxml/SintecMedia.rpt_refxml.date_2015-09-30.2016-11-28.xml.gz</td><td>SintecMedia.rpt_refxml.date_2015-09-30.2016-11-28.xml.gz</td><td>5431742</td><td>1677512271000</td></tr><tr><td>dbfs:/mnt/ddscoursedatastorage/fwm-stb-data/refxml/SintecMedia.rpt_refxml.date_2015-10-01.2016-11-28.xml.gz</td><td>SintecMedia.rpt_refxml.date_2015-10-01.2016-11-28.xml.gz</td><td>5432396</td><td>1677512269000</td></tr><tr><td>dbfs:/mnt/ddscoursedatastorage/fwm-stb-data/refxml/SintecMedia.rpt_refxml.date_2015-10-02.2016-11-28.xml.gz</td><td>SintecMedia.rpt_refxml.date_2015-10-02.2016-11-28.xml.gz</td><td>5431586</td><td>1677512259000</td></tr><tr><td>dbfs:/mnt/ddscoursedatastorage/fwm-stb-data/refxml/SintecMedia.rpt_refxml.date_2015-10-03.2016-11-28.xml.gz</td><td>SintecMedia.rpt_refxml.date_2015-10-03.2016-11-28.xml.gz</td><td>5431546</td><td>1677512257000</td></tr><tr><td>dbfs:/mnt/ddscoursedatastorage/fwm-stb-data/refxml/SintecMedia.rpt_refxml.date_2015-10-04.2016-11-28.xml.gz</td><td>SintecMedia.rpt_refxml.date_2015-10-04.2016-11-28.xml.gz</td><td>5431568</td><td>1677512264000</td></tr><tr><td>dbfs:/mnt/ddscoursedatastorage/fwm-stb-data/refxml/SintecMedia.rpt_refxml.date_2015-10-05.2016-11-28.xml.gz</td><td>SintecMedia.rpt_refxml.date_2015-10-05.2016-11-28.xml.gz</td><td>5426314</td><td>1677512270000</td></tr><tr><td>dbfs:/mnt/ddscoursedatastorage/fwm-stb-data/refxml/SintecMedia.rpt_refxml.date_2015-10-06.2016-11-28.xml.gz</td><td>SintecMedia.rpt_refxml.date_2015-10-06.2016-11-28.xml.gz</td><td>5425714</td><td>1677512269000</td></tr><tr><td>dbfs:/mnt/ddscoursedatastorage/fwm-stb-data/refxml/SintecMedia.rpt_refxml.date_2015-10-07.2016-11-28.xml.gz</td><td>SintecMedia.rpt_refxml.date_2015-10-07.2016-11-28.xml.gz</td><td>5425143</td><td>1677512258000</td></tr><tr><td>dbfs:/mnt/ddscoursedatastorage/fwm-stb-data/refxml/SintecMedia.rpt_refxml.date_2015-10-08.2016-11-28.xml.gz</td><td>SintecMedia.rpt_refxml.date_2015-10-08.2016-11-28.xml.gz</td><td>5424908</td><td>1677512261000</td></tr><tr><td>dbfs:/mnt/ddscoursedatastorage/fwm-stb-data/refxml/SintecMedia.rpt_refxml.date_2015-10-09.2016-11-28.xml.gz</td><td>SintecMedia.rpt_refxml.date_2015-10-09.2016-11-28.xml.gz</td><td>5424314</td><td>1677512261000</td></tr><tr><td>dbfs:/mnt/ddscoursedatastorage/fwm-stb-data/refxml/SintecMedia.rpt_refxml.date_2015-10-10.2016-11-28.xml.gz</td><td>SintecMedia.rpt_refxml.date_2015-10-10.2016-11-28.xml.gz</td><td>5409388</td><td>1677512264000</td></tr><tr><td>dbfs:/mnt/ddscoursedatastorage/fwm-stb-data/refxml/SintecMedia.rpt_refxml.date_2015-10-11.2016-11-28.xml.gz</td><td>SintecMedia.rpt_refxml.date_2015-10-11.2016-11-28.xml.gz</td><td>5409258</td><td>1677512258000</td></tr><tr><td>dbfs:/mnt/ddscoursedatastorage/fwm-stb-data/refxml/SintecMedia.rpt_refxml.date_2015-10-12.2016-11-28.xml.gz</td><td>SintecMedia.rpt_refxml.date_2015-10-12.2016-11-28.xml.gz</td><td>5406519</td><td>1677512257000</td></tr><tr><td>dbfs:/mnt/ddscoursedatastorage/fwm-stb-data/refxml/SintecMedia.rpt_refxml.date_2015-10-13.2016-11-28.xml.gz</td><td>SintecMedia.rpt_refxml.date_2015-10-13.2016-11-28.xml.gz</td><td>5404707</td><td>1677512262000</td></tr><tr><td>dbfs:/mnt/ddscoursedatastorage/fwm-stb-data/refxml/SintecMedia.rpt_refxml.date_2015-10-14.2016-11-28.xml.gz</td><td>SintecMedia.rpt_refxml.date_2015-10-14.2016-11-28.xml.gz</td><td>5387864</td><td>1677512264000</td></tr><tr><td>dbfs:/mnt/ddscoursedatastorage/fwm-stb-data/refxml/SintecMedia.rpt_refxml.date_2015-10-15.2016-11-28.xml.gz</td><td>SintecMedia.rpt_refxml.date_2015-10-15.2016-11-28.xml.gz</td><td>5387314</td><td>1677512265000</td></tr><tr><td>dbfs:/mnt/ddscoursedatastorage/fwm-stb-data/refxml/SintecMedia.rpt_refxml.date_2015-10-16.2016-11-28.xml.gz</td><td>SintecMedia.rpt_refxml.date_2015-10-16.2016-11-28.xml.gz</td><td>5386356</td><td>1677512264000</td></tr><tr><td>dbfs:/mnt/ddscoursedatastorage/fwm-stb-data/refxml/SintecMedia.rpt_refxml.date_2015-10-17.2016-11-28.xml.gz</td><td>SintecMedia.rpt_refxml.date_2015-10-17.2016-11-28.xml.gz</td><td>5386053</td><td>1677512261000</td></tr><tr><td>dbfs:/mnt/ddscoursedatastorage/fwm-stb-data/refxml/SintecMedia.rpt_refxml.date_2015-10-18.2016-11-28.xml.gz</td><td>SintecMedia.rpt_refxml.date_2015-10-18.2016-11-28.xml.gz</td><td>5385820</td><td>1677512266000</td></tr><tr><td>dbfs:/mnt/ddscoursedatastorage/fwm-stb-data/refxml/SintecMedia.rpt_refxml.date_2015-10-19.2016-11-28.xml.gz</td><td>SintecMedia.rpt_refxml.date_2015-10-19.2016-11-28.xml.gz</td><td>5383197</td><td>1677512258000</td></tr><tr><td>dbfs:/mnt/ddscoursedatastorage/fwm-stb-data/refxml/SintecMedia.rpt_refxml.date_2015-10-20.2016-11-28.xml.gz</td><td>SintecMedia.rpt_refxml.date_2015-10-20.2016-11-28.xml.gz</td><td>5381371</td><td>1677512252000</td></tr><tr><td>dbfs:/mnt/ddscoursedatastorage/fwm-stb-data/refxml/SintecMedia.rpt_refxml.date_2015-10-21.2016-11-28.xml.gz</td><td>SintecMedia.rpt_refxml.date_2015-10-21.2016-11-28.xml.gz</td><td>5379047</td><td>1677512259000</td></tr><tr><td>dbfs:/mnt/ddscoursedatastorage/fwm-stb-data/refxml/SintecMedia.rpt_refxml.date_2015-10-22.2016-11-28.xml.gz</td><td>SintecMedia.rpt_refxml.date_2015-10-22.2016-11-28.xml.gz</td><td>5371639</td><td>1677512261000</td></tr><tr><td>dbfs:/mnt/ddscoursedatastorage/fwm-stb-data/refxml/SintecMedia.rpt_refxml.date_2015-10-23.2016-11-28.xml.gz</td><td>SintecMedia.rpt_refxml.date_2015-10-23.2016-11-28.xml.gz</td><td>5371476</td><td>1677512259000</td></tr><tr><td>dbfs:/mnt/ddscoursedatastorage/fwm-stb-data/refxml/SintecMedia.rpt_refxml.date_2015-10-24.2016-11-28.xml.gz</td><td>SintecMedia.rpt_refxml.date_2015-10-24.2016-11-28.xml.gz</td><td>5371192</td><td>1677512257000</td></tr><tr><td>dbfs:/mnt/ddscoursedatastorage/fwm-stb-data/refxml/SintecMedia.rpt_refxml.date_2015-10-25.2016-11-28.xml.gz</td><td>SintecMedia.rpt_refxml.date_2015-10-25.2016-11-28.xml.gz</td><td>5371009</td><td>1677512248000</td></tr><tr><td>dbfs:/mnt/ddscoursedatastorage/fwm-stb-data/refxml/SintecMedia.rpt_refxml.date_2015-10-26.2016-11-28.xml.gz</td><td>SintecMedia.rpt_refxml.date_2015-10-26.2016-11-28.xml.gz</td><td>5368956</td><td>1677512263000</td></tr><tr><td>dbfs:/mnt/ddscoursedatastorage/fwm-stb-data/refxml/SintecMedia.rpt_refxml.date_2015-10-27.2016-11-28.xml.gz</td><td>SintecMedia.rpt_refxml.date_2015-10-27.2016-11-28.xml.gz</td><td>5368487</td><td>1677512268000</td></tr><tr><td>dbfs:/mnt/ddscoursedatastorage/fwm-stb-data/refxml/SintecMedia.rpt_refxml.date_2015-10-28.2016-11-28.xml.gz</td><td>SintecMedia.rpt_refxml.date_2015-10-28.2016-11-28.xml.gz</td><td>5362451</td><td>1677512258000</td></tr><tr><td>dbfs:/mnt/ddscoursedatastorage/fwm-stb-data/refxml/SintecMedia.rpt_refxml.date_2015-10-29.2016-11-28.xml.gz</td><td>SintecMedia.rpt_refxml.date_2015-10-29.2016-11-28.xml.gz</td><td>5362007</td><td>1677512259000</td></tr><tr><td>dbfs:/mnt/ddscoursedatastorage/fwm-stb-data/refxml/SintecMedia.rpt_refxml.date_2015-10-30.2016-11-28.xml.gz</td><td>SintecMedia.rpt_refxml.date_2015-10-30.2016-11-28.xml.gz</td><td>5360896</td><td>1677512266000</td></tr><tr><td>dbfs:/mnt/ddscoursedatastorage/fwm-stb-data/refxml/SintecMedia.rpt_refxml.date_2015-10-31.2016-11-28.xml.gz</td><td>SintecMedia.rpt_refxml.date_2015-10-31.2016-11-28.xml.gz</td><td>5360296</td><td>1677512269000</td></tr><tr><td>dbfs:/mnt/ddscoursedatastorage/fwm-stb-data/refxml/SintecMedia.rpt_refxml.date_2015-11-01.2016-11-28.xml.gz</td><td>SintecMedia.rpt_refxml.date_2015-11-01.2016-11-28.xml.gz</td><td>5359881</td><td>1677512260000</td></tr><tr><td>dbfs:/mnt/ddscoursedatastorage/fwm-stb-data/refxml/SintecMedia.rpt_refxml.date_2015-11-02.2016-11-28.xml.gz</td><td>SintecMedia.rpt_refxml.date_2015-11-02.2016-11-28.xml.gz</td><td>5451304</td><td>1677512260000</td></tr><tr><td>dbfs:/mnt/ddscoursedatastorage/fwm-stb-data/refxml/SintecMedia.rpt_refxml.date_2015-11-03.2016-11-28.xml.gz</td><td>SintecMedia.rpt_refxml.date_2015-11-03.2016-11-28.xml.gz</td><td>5450717</td><td>1677512256000</td></tr><tr><td>dbfs:/mnt/ddscoursedatastorage/fwm-stb-data/refxml/SintecMedia.rpt_refxml.date_2015-11-04.2016-11-28.xml.gz</td><td>SintecMedia.rpt_refxml.date_2015-11-04.2016-11-28.xml.gz</td><td>5450652</td><td>1677512265000</td></tr><tr><td>dbfs:/mnt/ddscoursedatastorage/fwm-stb-data/refxml/SintecMedia.rpt_refxml.date_2015-11-05.2016-11-28.xml.gz</td><td>SintecMedia.rpt_refxml.date_2015-11-05.2016-11-28.xml.gz</td><td>5447257</td><td>1677512257000</td></tr><tr><td>dbfs:/mnt/ddscoursedatastorage/fwm-stb-data/refxml/SintecMedia.rpt_refxml.date_2015-11-06.2016-11-28.xml.gz</td><td>SintecMedia.rpt_refxml.date_2015-11-06.2016-11-28.xml.gz</td><td>5446582</td><td>1677512271000</td></tr><tr><td>dbfs:/mnt/ddscoursedatastorage/fwm-stb-data/refxml/SintecMedia.rpt_refxml.date_2015-11-07.2016-11-28.xml.gz</td><td>SintecMedia.rpt_refxml.date_2015-11-07.2016-11-28.xml.gz</td><td>5446260</td><td>1677512264000</td></tr><tr><td>dbfs:/mnt/ddscoursedatastorage/fwm-stb-data/refxml/SintecMedia.rpt_refxml.date_2015-11-08.2016-11-29.xml.gz</td><td>SintecMedia.rpt_refxml.date_2015-11-08.2016-11-29.xml.gz</td><td>5446240</td><td>1677512257000</td></tr><tr><td>dbfs:/mnt/ddscoursedatastorage/fwm-stb-data/refxml/SintecMedia.rpt_refxml.date_2015-11-09.2016-11-29.xml.gz</td><td>SintecMedia.rpt_refxml.date_2015-11-09.2016-11-29.xml.gz</td><td>5443310</td><td>1677512263000</td></tr><tr><td>dbfs:/mnt/ddscoursedatastorage/fwm-stb-data/refxml/SintecMedia.rpt_refxml.date_2015-11-10.2016-11-29.xml.gz</td><td>SintecMedia.rpt_refxml.date_2015-11-10.2016-11-29.xml.gz</td><td>5442681</td><td>1677512264000</td></tr><tr><td>dbfs:/mnt/ddscoursedatastorage/fwm-stb-data/refxml/SintecMedia.rpt_refxml.date_2015-11-11.2016-11-29.xml.gz</td><td>SintecMedia.rpt_refxml.date_2015-11-11.2016-11-29.xml.gz</td><td>5438119</td><td>1677512263000</td></tr><tr><td>dbfs:/mnt/ddscoursedatastorage/fwm-stb-data/refxml/SintecMedia.rpt_refxml.date_2015-11-12.2016-11-29.xml.gz</td><td>SintecMedia.rpt_refxml.date_2015-11-12.2016-11-29.xml.gz</td><td>5437883</td><td>1677512264000</td></tr><tr><td>dbfs:/mnt/ddscoursedatastorage/fwm-stb-data/refxml/SintecMedia.rpt_refxml.date_2015-11-13.2016-11-29.xml.gz</td><td>SintecMedia.rpt_refxml.date_2015-11-13.2016-11-29.xml.gz</td><td>5437494</td><td>1677512259000</td></tr><tr><td>dbfs:/mnt/ddscoursedatastorage/fwm-stb-data/refxml/SintecMedia.rpt_refxml.date_2015-11-14.2016-11-29.xml.gz</td><td>SintecMedia.rpt_refxml.date_2015-11-14.2016-11-29.xml.gz</td><td>5436932</td><td>1677512267000</td></tr><tr><td>dbfs:/mnt/ddscoursedatastorage/fwm-stb-data/refxml/SintecMedia.rpt_refxml.date_2015-11-15.2016-11-29.xml.gz</td><td>SintecMedia.rpt_refxml.date_2015-11-15.2016-11-29.xml.gz</td><td>5426600</td><td>1677512268000</td></tr><tr><td>dbfs:/mnt/ddscoursedatastorage/fwm-stb-data/refxml/SintecMedia.rpt_refxml.date_2015-11-16.2016-11-29.xml.gz</td><td>SintecMedia.rpt_refxml.date_2015-11-16.2016-11-29.xml.gz</td><td>5423497</td><td>1677512260000</td></tr><tr><td>dbfs:/mnt/ddscoursedatastorage/fwm-stb-data/refxml/SintecMedia.rpt_refxml.date_2015-11-17.2016-11-29.xml.gz</td><td>SintecMedia.rpt_refxml.date_2015-11-17.2016-11-29.xml.gz</td><td>5423221</td><td>1677512259000</td></tr><tr><td>dbfs:/mnt/ddscoursedatastorage/fwm-stb-data/refxml/SintecMedia.rpt_refxml.date_2015-11-18.2016-11-29.xml.gz</td><td>SintecMedia.rpt_refxml.date_2015-11-18.2016-11-29.xml.gz</td><td>5417167</td><td>1677512249000</td></tr><tr><td>dbfs:/mnt/ddscoursedatastorage/fwm-stb-data/refxml/SintecMedia.rpt_refxml.date_2015-11-19.2016-11-29.xml.gz</td><td>SintecMedia.rpt_refxml.date_2015-11-19.2016-11-29.xml.gz</td><td>5416670</td><td>1677512255000</td></tr><tr><td>dbfs:/mnt/ddscoursedatastorage/fwm-stb-data/refxml/SintecMedia.rpt_refxml.date_2015-11-20.2016-11-29.xml.gz</td><td>SintecMedia.rpt_refxml.date_2015-11-20.2016-11-29.xml.gz</td><td>5416175</td><td>1677512267000</td></tr><tr><td>dbfs:/mnt/ddscoursedatastorage/fwm-stb-data/refxml/SintecMedia.rpt_refxml.date_2015-11-21.2016-11-29.xml.gz</td><td>SintecMedia.rpt_refxml.date_2015-11-21.2016-11-29.xml.gz</td><td>5415829</td><td>1677512271000</td></tr><tr><td>dbfs:/mnt/ddscoursedatastorage/fwm-stb-data/refxml/SintecMedia.rpt_refxml.date_2015-11-22.2016-11-29.xml.gz</td><td>SintecMedia.rpt_refxml.date_2015-11-22.2016-11-29.xml.gz</td><td>5415504</td><td>1677512258000</td></tr><tr><td>dbfs:/mnt/ddscoursedatastorage/fwm-stb-data/refxml/SintecMedia.rpt_refxml.date_2015-11-23.2016-11-29.xml.gz</td><td>SintecMedia.rpt_refxml.date_2015-11-23.2016-11-29.xml.gz</td><td>5413471</td><td>1677512266000</td></tr><tr><td>dbfs:/mnt/ddscoursedatastorage/fwm-stb-data/refxml/SintecMedia.rpt_refxml.date_2015-11-24.2016-11-29.xml.gz</td><td>SintecMedia.rpt_refxml.date_2015-11-24.2016-11-29.xml.gz</td><td>5412166</td><td>1677512264000</td></tr><tr><td>dbfs:/mnt/ddscoursedatastorage/fwm-stb-data/refxml/SintecMedia.rpt_refxml.date_2015-11-25.2016-11-29.xml.gz</td><td>SintecMedia.rpt_refxml.date_2015-11-25.2016-11-29.xml.gz</td><td>5406853</td><td>1677512267000</td></tr><tr><td>dbfs:/mnt/ddscoursedatastorage/fwm-stb-data/refxml/SintecMedia.rpt_refxml.date_2015-11-26.2016-11-29.xml.gz</td><td>SintecMedia.rpt_refxml.date_2015-11-26.2016-11-29.xml.gz</td><td>5406788</td><td>1677512262000</td></tr><tr><td>dbfs:/mnt/ddscoursedatastorage/fwm-stb-data/refxml/SintecMedia.rpt_refxml.date_2015-11-27.2016-11-29.xml.gz</td><td>SintecMedia.rpt_refxml.date_2015-11-27.2016-11-29.xml.gz</td><td>5406754</td><td>1677512258000</td></tr><tr><td>dbfs:/mnt/ddscoursedatastorage/fwm-stb-data/refxml/SintecMedia.rpt_refxml.date_2015-11-28.2016-11-29.xml.gz</td><td>SintecMedia.rpt_refxml.date_2015-11-28.2016-11-29.xml.gz</td><td>5406570</td><td>1677512262000</td></tr><tr><td>dbfs:/mnt/ddscoursedatastorage/fwm-stb-data/refxml/SintecMedia.rpt_refxml.date_2015-11-29.2016-11-29.xml.gz</td><td>SintecMedia.rpt_refxml.date_2015-11-29.2016-11-29.xml.gz</td><td>5406384</td><td>1677512260000</td></tr><tr><td>dbfs:/mnt/ddscoursedatastorage/fwm-stb-data/refxml/SintecMedia.rpt_refxml.date_2015-11-30.2016-11-29.xml.gz</td><td>SintecMedia.rpt_refxml.date_2015-11-30.2016-11-29.xml.gz</td><td>5404958</td><td>1677512264000</td></tr><tr><td>dbfs:/mnt/ddscoursedatastorage/fwm-stb-data/refxml/SintecMedia.rpt_refxml.date_2015-12-01.2016-11-29.xml.gz</td><td>SintecMedia.rpt_refxml.date_2015-12-01.2016-11-29.xml.gz</td><td>5403539</td><td>1677512253000</td></tr><tr><td>dbfs:/mnt/ddscoursedatastorage/fwm-stb-data/refxml/SintecMedia.rpt_refxml.date_2015-12-02.2016-11-29.xml.gz</td><td>SintecMedia.rpt_refxml.date_2015-12-02.2016-11-29.xml.gz</td><td>5403399</td><td>1677512260000</td></tr><tr><td>dbfs:/mnt/ddscoursedatastorage/fwm-stb-data/refxml/SintecMedia.rpt_refxml.date_2015-12-03.2016-11-29.xml.gz</td><td>SintecMedia.rpt_refxml.date_2015-12-03.2016-11-29.xml.gz</td><td>5402929</td><td>1677512248000</td></tr><tr><td>dbfs:/mnt/ddscoursedatastorage/fwm-stb-data/refxml/SintecMedia.rpt_refxml.date_2015-12-04.2016-11-29.xml.gz</td><td>SintecMedia.rpt_refxml.date_2015-12-04.2016-11-29.xml.gz</td><td>5401753</td><td>1677512232000</td></tr><tr><td>dbfs:/mnt/ddscoursedatastorage/fwm-stb-data/refxml/SintecMedia.rpt_refxml.date_2015-12-05.2016-11-29.xml.gz</td><td>SintecMedia.rpt_refxml.date_2015-12-05.2016-11-29.xml.gz</td><td>5401431</td><td>1677512266000</td></tr><tr><td>dbfs:/mnt/ddscoursedatastorage/fwm-stb-data/refxml/SintecMedia.rpt_refxml.date_2015-12-06.2016-11-29.xml.gz</td><td>SintecMedia.rpt_refxml.date_2015-12-06.2016-11-29.xml.gz</td><td>5401253</td><td>1677512263000</td></tr><tr><td>dbfs:/mnt/ddscoursedatastorage/fwm-stb-data/refxml/SintecMedia.rpt_refxml.date_2015-12-07.2016-11-29.xml.gz</td><td>SintecMedia.rpt_refxml.date_2015-12-07.2016-11-29.xml.gz</td><td>5398380</td><td>1677512267000</td></tr><tr><td>dbfs:/mnt/ddscoursedatastorage/fwm-stb-data/refxml/SintecMedia.rpt_refxml.date_2015-12-08.2016-11-29.xml.gz</td><td>SintecMedia.rpt_refxml.date_2015-12-08.2016-11-29.xml.gz</td><td>5397867</td><td>1677512268000</td></tr><tr><td>dbfs:/mnt/ddscoursedatastorage/fwm-stb-data/refxml/SintecMedia.rpt_refxml.date_2015-12-09.2016-11-29.xml.gz</td><td>SintecMedia.rpt_refxml.date_2015-12-09.2016-11-29.xml.gz</td><td>5389860</td><td>1677512263000</td></tr><tr><td>dbfs:/mnt/ddscoursedatastorage/fwm-stb-data/refxml/SintecMedia.rpt_refxml.date_2015-12-10.2016-11-29.xml.gz</td><td>SintecMedia.rpt_refxml.date_2015-12-10.2016-11-29.xml.gz</td><td>5389687</td><td>1677512263000</td></tr><tr><td>dbfs:/mnt/ddscoursedatastorage/fwm-stb-data/refxml/SintecMedia.rpt_refxml.date_2015-12-11.2016-11-29.xml.gz</td><td>SintecMedia.rpt_refxml.date_2015-12-11.2016-11-29.xml.gz</td><td>5389403</td><td>1677512270000</td></tr><tr><td>dbfs:/mnt/ddscoursedatastorage/fwm-stb-data/refxml/SintecMedia.rpt_refxml.date_2015-12-12.2016-11-29.xml.gz</td><td>SintecMedia.rpt_refxml.date_2015-12-12.2016-11-29.xml.gz</td><td>5389324</td><td>1677512265000</td></tr><tr><td>dbfs:/mnt/ddscoursedatastorage/fwm-stb-data/refxml/SintecMedia.rpt_refxml.date_2015-12-13.2016-11-29.xml.gz</td><td>SintecMedia.rpt_refxml.date_2015-12-13.2016-11-29.xml.gz</td><td>5389222</td><td>1677512257000</td></tr><tr><td>dbfs:/mnt/ddscoursedatastorage/fwm-stb-data/refxml/SintecMedia.rpt_refxml.date_2015-12-14.2016-11-29.xml.gz</td><td>SintecMedia.rpt_refxml.date_2015-12-14.2016-11-29.xml.gz</td><td>5386410</td><td>1677512267000</td></tr><tr><td>dbfs:/mnt/ddscoursedatastorage/fwm-stb-data/refxml/SintecMedia.rpt_refxml.date_2015-12-15.2016-11-29.xml.gz</td><td>SintecMedia.rpt_refxml.date_2015-12-15.2016-11-29.xml.gz</td><td>5385847</td><td>1677512266000</td></tr><tr><td>dbfs:/mnt/ddscoursedatastorage/fwm-stb-data/refxml/SintecMedia.rpt_refxml.date_2015-12-16.2016-11-29.xml.gz</td><td>SintecMedia.rpt_refxml.date_2015-12-16.2016-11-29.xml.gz</td><td>5383262</td><td>1677512267000</td></tr><tr><td>dbfs:/mnt/ddscoursedatastorage/fwm-stb-data/refxml/SintecMedia.rpt_refxml.date_2015-12-17.2016-11-29.xml.gz</td><td>SintecMedia.rpt_refxml.date_2015-12-17.2016-11-29.xml.gz</td><td>5382250</td><td>1677512262000</td></tr><tr><td>dbfs:/mnt/ddscoursedatastorage/fwm-stb-data/refxml/SintecMedia.rpt_refxml.date_2015-12-18.2016-11-29.xml.gz</td><td>SintecMedia.rpt_refxml.date_2015-12-18.2016-11-29.xml.gz</td><td>5382194</td><td>1677512266000</td></tr><tr><td>dbfs:/mnt/ddscoursedatastorage/fwm-stb-data/refxml/SintecMedia.rpt_refxml.date_2015-12-19.2016-11-29.xml.gz</td><td>SintecMedia.rpt_refxml.date_2015-12-19.2016-11-29.xml.gz</td><td>5381874</td><td>1677512262000</td></tr><tr><td>dbfs:/mnt/ddscoursedatastorage/fwm-stb-data/refxml/SintecMedia.rpt_refxml.date_2015-12-20.2016-11-29.xml.gz</td><td>SintecMedia.rpt_refxml.date_2015-12-20.2016-11-29.xml.gz</td><td>5381892</td><td>1677512253000</td></tr><tr><td>dbfs:/mnt/ddscoursedatastorage/fwm-stb-data/refxml/SintecMedia.rpt_refxml.date_2015-12-21.2016-11-29.xml.gz</td><td>SintecMedia.rpt_refxml.date_2015-12-21.2016-11-29.xml.gz</td><td>5378761</td><td>1677512266000</td></tr><tr><td>dbfs:/mnt/ddscoursedatastorage/fwm-stb-data/refxml/SintecMedia.rpt_refxml.date_2015-12-22.2016-11-29.xml.gz</td><td>SintecMedia.rpt_refxml.date_2015-12-22.2016-11-29.xml.gz</td><td>5378424</td><td>1677512266000</td></tr><tr><td>dbfs:/mnt/ddscoursedatastorage/fwm-stb-data/refxml/SintecMedia.rpt_refxml.date_2015-12-23.2016-11-29.xml.gz</td><td>SintecMedia.rpt_refxml.date_2015-12-23.2016-11-29.xml.gz</td><td>5375358</td><td>1677512267000</td></tr><tr><td>dbfs:/mnt/ddscoursedatastorage/fwm-stb-data/refxml/SintecMedia.rpt_refxml.date_2015-12-24.2016-11-29.xml.gz</td><td>SintecMedia.rpt_refxml.date_2015-12-24.2016-11-29.xml.gz</td><td>5374935</td><td>1677512258000</td></tr><tr><td>dbfs:/mnt/ddscoursedatastorage/fwm-stb-data/refxml/SintecMedia.rpt_refxml.date_2015-12-25.2016-11-29.xml.gz</td><td>SintecMedia.rpt_refxml.date_2015-12-25.2016-11-29.xml.gz</td><td>5374974</td><td>1677512267000</td></tr><tr><td>dbfs:/mnt/ddscoursedatastorage/fwm-stb-data/refxml/SintecMedia.rpt_refxml.date_2015-12-26.2016-11-29.xml.gz</td><td>SintecMedia.rpt_refxml.date_2015-12-26.2016-11-29.xml.gz</td><td>5374990</td><td>1677512253000</td></tr><tr><td>dbfs:/mnt/ddscoursedatastorage/fwm-stb-data/refxml/SintecMedia.rpt_refxml.date_2015-12-27.2016-11-29.xml.gz</td><td>SintecMedia.rpt_refxml.date_2015-12-27.2016-11-29.xml.gz</td><td>5374910</td><td>1677512266000</td></tr><tr><td>dbfs:/mnt/ddscoursedatastorage/fwm-stb-data/refxml/SintecMedia.rpt_refxml.date_2015-12-28.2016-11-29.xml.gz</td><td>SintecMedia.rpt_refxml.date_2015-12-28.2016-11-29.xml.gz</td><td>5372775</td><td>1677512268000</td></tr><tr><td>dbfs:/mnt/ddscoursedatastorage/fwm-stb-data/refxml/SintecMedia.rpt_refxml.date_2015-12-29.2016-11-29.xml.gz</td><td>SintecMedia.rpt_refxml.date_2015-12-29.2016-11-29.xml.gz</td><td>5372182</td><td>1677512268000</td></tr><tr><td>dbfs:/mnt/ddscoursedatastorage/fwm-stb-data/refxml/SintecMedia.rpt_refxml.date_2015-12-30.2016-11-29.xml.gz</td><td>SintecMedia.rpt_refxml.date_2015-12-30.2016-11-29.xml.gz</td><td>5369749</td><td>1677512250000</td></tr><tr><td>dbfs:/mnt/ddscoursedatastorage/fwm-stb-data/refxml/SintecMedia.rpt_refxml.date_2015-12-31.2016-11-29.xml.gz</td><td>SintecMedia.rpt_refxml.date_2015-12-31.2016-11-29.xml.gz</td><td>5369064</td><td>1677512268000</td></tr></tbody></table></div>"
      ]
     },
     "metadata": {
      "application/vnd.databricks.v1+output": {
       "addedWidgets": {},
       "aggData": [],
       "aggError": "",
       "aggOverflow": false,
       "aggSchema": [],
       "aggSeriesLimitReached": false,
       "aggType": "",
       "arguments": {},
       "columnCustomDisplayInfos": {},
       "data": [
        [
         "dbfs:/mnt/ddscoursedatastorage/fwm-stb-data/refxml/.listing",
         ".listing",
         41729,
         1677512270000
        ],
        [
         "dbfs:/mnt/ddscoursedatastorage/fwm-stb-data/refxml/SintecMedia.rpt_refxml.date_2015-01-01.2016-11-21.xml.gz",
         "SintecMedia.rpt_refxml.date_2015-01-01.2016-11-21.xml.gz",
         5465767,
         1677512265000
        ],
        [
         "dbfs:/mnt/ddscoursedatastorage/fwm-stb-data/refxml/SintecMedia.rpt_refxml.date_2015-01-02.2016-11-21.xml.gz",
         "SintecMedia.rpt_refxml.date_2015-01-02.2016-11-21.xml.gz",
         5465767,
         1677512266000
        ],
        [
         "dbfs:/mnt/ddscoursedatastorage/fwm-stb-data/refxml/SintecMedia.rpt_refxml.date_2015-01-03.2016-11-21.xml.gz",
         "SintecMedia.rpt_refxml.date_2015-01-03.2016-11-21.xml.gz",
         5465767,
         1677512264000
        ],
        [
         "dbfs:/mnt/ddscoursedatastorage/fwm-stb-data/refxml/SintecMedia.rpt_refxml.date_2015-01-04.2016-11-21.xml.gz",
         "SintecMedia.rpt_refxml.date_2015-01-04.2016-11-21.xml.gz",
         5465767,
         1677512260000
        ],
        [
         "dbfs:/mnt/ddscoursedatastorage/fwm-stb-data/refxml/SintecMedia.rpt_refxml.date_2015-01-05.2016-11-21.xml.gz",
         "SintecMedia.rpt_refxml.date_2015-01-05.2016-11-21.xml.gz",
         5465767,
         1677512253000
        ],
        [
         "dbfs:/mnt/ddscoursedatastorage/fwm-stb-data/refxml/SintecMedia.rpt_refxml.date_2015-01-06.2016-11-21.xml.gz",
         "SintecMedia.rpt_refxml.date_2015-01-06.2016-11-21.xml.gz",
         5465767,
         1677512260000
        ],
        [
         "dbfs:/mnt/ddscoursedatastorage/fwm-stb-data/refxml/SintecMedia.rpt_refxml.date_2015-01-07.2016-11-21.xml.gz",
         "SintecMedia.rpt_refxml.date_2015-01-07.2016-11-21.xml.gz",
         5465767,
         1677512266000
        ],
        [
         "dbfs:/mnt/ddscoursedatastorage/fwm-stb-data/refxml/SintecMedia.rpt_refxml.date_2015-01-08.2016-11-21.xml.gz",
         "SintecMedia.rpt_refxml.date_2015-01-08.2016-11-21.xml.gz",
         5465767,
         1677512264000
        ],
        [
         "dbfs:/mnt/ddscoursedatastorage/fwm-stb-data/refxml/SintecMedia.rpt_refxml.date_2015-01-09.2016-11-21.xml.gz",
         "SintecMedia.rpt_refxml.date_2015-01-09.2016-11-21.xml.gz",
         5465767,
         1677512260000
        ],
        [
         "dbfs:/mnt/ddscoursedatastorage/fwm-stb-data/refxml/SintecMedia.rpt_refxml.date_2015-01-10.2016-11-21.xml.gz",
         "SintecMedia.rpt_refxml.date_2015-01-10.2016-11-21.xml.gz",
         5465767,
         1677512260000
        ],
        [
         "dbfs:/mnt/ddscoursedatastorage/fwm-stb-data/refxml/SintecMedia.rpt_refxml.date_2015-01-11.2016-11-21.xml.gz",
         "SintecMedia.rpt_refxml.date_2015-01-11.2016-11-21.xml.gz",
         5465767,
         1677512270000
        ],
        [
         "dbfs:/mnt/ddscoursedatastorage/fwm-stb-data/refxml/SintecMedia.rpt_refxml.date_2015-01-12.2016-11-21.xml.gz",
         "SintecMedia.rpt_refxml.date_2015-01-12.2016-11-21.xml.gz",
         5465767,
         1677512268000
        ],
        [
         "dbfs:/mnt/ddscoursedatastorage/fwm-stb-data/refxml/SintecMedia.rpt_refxml.date_2015-01-13.2016-11-21.xml.gz",
         "SintecMedia.rpt_refxml.date_2015-01-13.2016-11-21.xml.gz",
         5496249,
         1677512257000
        ],
        [
         "dbfs:/mnt/ddscoursedatastorage/fwm-stb-data/refxml/SintecMedia.rpt_refxml.date_2015-01-14.2016-11-21.xml.gz",
         "SintecMedia.rpt_refxml.date_2015-01-14.2016-11-21.xml.gz",
         5496249,
         1677512267000
        ],
        [
         "dbfs:/mnt/ddscoursedatastorage/fwm-stb-data/refxml/SintecMedia.rpt_refxml.date_2015-01-15.2016-11-21.xml.gz",
         "SintecMedia.rpt_refxml.date_2015-01-15.2016-11-21.xml.gz",
         5496249,
         1677512266000
        ],
        [
         "dbfs:/mnt/ddscoursedatastorage/fwm-stb-data/refxml/SintecMedia.rpt_refxml.date_2015-01-16.2016-11-21.xml.gz",
         "SintecMedia.rpt_refxml.date_2015-01-16.2016-11-21.xml.gz",
         5496249,
         1677512242000
        ],
        [
         "dbfs:/mnt/ddscoursedatastorage/fwm-stb-data/refxml/SintecMedia.rpt_refxml.date_2015-01-17.2016-11-21.xml.gz",
         "SintecMedia.rpt_refxml.date_2015-01-17.2016-11-21.xml.gz",
         5496249,
         1677512271000
        ],
        [
         "dbfs:/mnt/ddscoursedatastorage/fwm-stb-data/refxml/SintecMedia.rpt_refxml.date_2015-01-18.2016-11-22.xml.gz",
         "SintecMedia.rpt_refxml.date_2015-01-18.2016-11-22.xml.gz",
         5496249,
         1677512270000
        ],
        [
         "dbfs:/mnt/ddscoursedatastorage/fwm-stb-data/refxml/SintecMedia.rpt_refxml.date_2015-01-19.2016-11-22.xml.gz",
         "SintecMedia.rpt_refxml.date_2015-01-19.2016-11-22.xml.gz",
         5496249,
         1677512260000
        ],
        [
         "dbfs:/mnt/ddscoursedatastorage/fwm-stb-data/refxml/SintecMedia.rpt_refxml.date_2015-01-20.2016-11-22.xml.gz",
         "SintecMedia.rpt_refxml.date_2015-01-20.2016-11-22.xml.gz",
         5496249,
         1677512270000
        ],
        [
         "dbfs:/mnt/ddscoursedatastorage/fwm-stb-data/refxml/SintecMedia.rpt_refxml.date_2015-01-21.2016-11-22.xml.gz",
         "SintecMedia.rpt_refxml.date_2015-01-21.2016-11-22.xml.gz",
         5496249,
         1677512256000
        ],
        [
         "dbfs:/mnt/ddscoursedatastorage/fwm-stb-data/refxml/SintecMedia.rpt_refxml.date_2015-01-22.2016-11-22.xml.gz",
         "SintecMedia.rpt_refxml.date_2015-01-22.2016-11-22.xml.gz",
         5496249,
         1677512244000
        ],
        [
         "dbfs:/mnt/ddscoursedatastorage/fwm-stb-data/refxml/SintecMedia.rpt_refxml.date_2015-01-23.2016-11-22.xml.gz",
         "SintecMedia.rpt_refxml.date_2015-01-23.2016-11-22.xml.gz",
         5496249,
         1677512259000
        ],
        [
         "dbfs:/mnt/ddscoursedatastorage/fwm-stb-data/refxml/SintecMedia.rpt_refxml.date_2015-01-24.2016-11-22.xml.gz",
         "SintecMedia.rpt_refxml.date_2015-01-24.2016-11-22.xml.gz",
         5496249,
         1677512249000
        ],
        [
         "dbfs:/mnt/ddscoursedatastorage/fwm-stb-data/refxml/SintecMedia.rpt_refxml.date_2015-01-25.2016-11-22.xml.gz",
         "SintecMedia.rpt_refxml.date_2015-01-25.2016-11-22.xml.gz",
         5496249,
         1677512243000
        ],
        [
         "dbfs:/mnt/ddscoursedatastorage/fwm-stb-data/refxml/SintecMedia.rpt_refxml.date_2015-01-26.2016-11-22.xml.gz",
         "SintecMedia.rpt_refxml.date_2015-01-26.2016-11-22.xml.gz",
         5496249,
         1677512269000
        ],
        [
         "dbfs:/mnt/ddscoursedatastorage/fwm-stb-data/refxml/SintecMedia.rpt_refxml.date_2015-01-27.2016-11-22.xml.gz",
         "SintecMedia.rpt_refxml.date_2015-01-27.2016-11-22.xml.gz",
         5496249,
         1677512268000
        ],
        [
         "dbfs:/mnt/ddscoursedatastorage/fwm-stb-data/refxml/SintecMedia.rpt_refxml.date_2015-01-28.2016-11-22.xml.gz",
         "SintecMedia.rpt_refxml.date_2015-01-28.2016-11-22.xml.gz",
         5496249,
         1677512258000
        ],
        [
         "dbfs:/mnt/ddscoursedatastorage/fwm-stb-data/refxml/SintecMedia.rpt_refxml.date_2015-01-29.2016-11-22.xml.gz",
         "SintecMedia.rpt_refxml.date_2015-01-29.2016-11-22.xml.gz",
         5496249,
         1677512263000
        ],
        [
         "dbfs:/mnt/ddscoursedatastorage/fwm-stb-data/refxml/SintecMedia.rpt_refxml.date_2015-01-30.2016-11-22.xml.gz",
         "SintecMedia.rpt_refxml.date_2015-01-30.2016-11-22.xml.gz",
         5496249,
         1677512251000
        ],
        [
         "dbfs:/mnt/ddscoursedatastorage/fwm-stb-data/refxml/SintecMedia.rpt_refxml.date_2015-01-31.2016-11-22.xml.gz",
         "SintecMedia.rpt_refxml.date_2015-01-31.2016-11-22.xml.gz",
         5496249,
         1677512251000
        ],
        [
         "dbfs:/mnt/ddscoursedatastorage/fwm-stb-data/refxml/SintecMedia.rpt_refxml.date_2015-02-01.2016-11-24.xml.gz",
         "SintecMedia.rpt_refxml.date_2015-02-01.2016-11-24.xml.gz",
         5496249,
         1677512259000
        ],
        [
         "dbfs:/mnt/ddscoursedatastorage/fwm-stb-data/refxml/SintecMedia.rpt_refxml.date_2015-02-02.2016-11-24.xml.gz",
         "SintecMedia.rpt_refxml.date_2015-02-02.2016-11-24.xml.gz",
         5496249,
         1677512271000
        ],
        [
         "dbfs:/mnt/ddscoursedatastorage/fwm-stb-data/refxml/SintecMedia.rpt_refxml.date_2015-02-03.2016-11-24.xml.gz",
         "SintecMedia.rpt_refxml.date_2015-02-03.2016-11-24.xml.gz",
         5496249,
         1677512271000
        ],
        [
         "dbfs:/mnt/ddscoursedatastorage/fwm-stb-data/refxml/SintecMedia.rpt_refxml.date_2015-02-04.2016-11-24.xml.gz",
         "SintecMedia.rpt_refxml.date_2015-02-04.2016-11-24.xml.gz",
         5507705,
         1677512264000
        ],
        [
         "dbfs:/mnt/ddscoursedatastorage/fwm-stb-data/refxml/SintecMedia.rpt_refxml.date_2015-02-05.2016-11-24.xml.gz",
         "SintecMedia.rpt_refxml.date_2015-02-05.2016-11-24.xml.gz",
         5507705,
         1677512257000
        ],
        [
         "dbfs:/mnt/ddscoursedatastorage/fwm-stb-data/refxml/SintecMedia.rpt_refxml.date_2015-02-06.2016-11-24.xml.gz",
         "SintecMedia.rpt_refxml.date_2015-02-06.2016-11-24.xml.gz",
         5507705,
         1677512262000
        ],
        [
         "dbfs:/mnt/ddscoursedatastorage/fwm-stb-data/refxml/SintecMedia.rpt_refxml.date_2015-02-07.2016-11-24.xml.gz",
         "SintecMedia.rpt_refxml.date_2015-02-07.2016-11-24.xml.gz",
         5507705,
         1677512271000
        ],
        [
         "dbfs:/mnt/ddscoursedatastorage/fwm-stb-data/refxml/SintecMedia.rpt_refxml.date_2015-02-08.2016-11-24.xml.gz",
         "SintecMedia.rpt_refxml.date_2015-02-08.2016-11-24.xml.gz",
         5507705,
         1677512264000
        ],
        [
         "dbfs:/mnt/ddscoursedatastorage/fwm-stb-data/refxml/SintecMedia.rpt_refxml.date_2015-02-09.2016-11-24.xml.gz",
         "SintecMedia.rpt_refxml.date_2015-02-09.2016-11-24.xml.gz",
         5507705,
         1677512266000
        ],
        [
         "dbfs:/mnt/ddscoursedatastorage/fwm-stb-data/refxml/SintecMedia.rpt_refxml.date_2015-02-10.2016-11-24.xml.gz",
         "SintecMedia.rpt_refxml.date_2015-02-10.2016-11-24.xml.gz",
         5507705,
         1677512261000
        ],
        [
         "dbfs:/mnt/ddscoursedatastorage/fwm-stb-data/refxml/SintecMedia.rpt_refxml.date_2015-02-11.2016-11-24.xml.gz",
         "SintecMedia.rpt_refxml.date_2015-02-11.2016-11-24.xml.gz",
         5507705,
         1677512243000
        ],
        [
         "dbfs:/mnt/ddscoursedatastorage/fwm-stb-data/refxml/SintecMedia.rpt_refxml.date_2015-02-12.2016-11-24.xml.gz",
         "SintecMedia.rpt_refxml.date_2015-02-12.2016-11-24.xml.gz",
         5507705,
         1677512259000
        ],
        [
         "dbfs:/mnt/ddscoursedatastorage/fwm-stb-data/refxml/SintecMedia.rpt_refxml.date_2015-02-13.2016-11-24.xml.gz",
         "SintecMedia.rpt_refxml.date_2015-02-13.2016-11-24.xml.gz",
         5696056,
         1677512256000
        ],
        [
         "dbfs:/mnt/ddscoursedatastorage/fwm-stb-data/refxml/SintecMedia.rpt_refxml.date_2015-02-14.2016-11-24.xml.gz",
         "SintecMedia.rpt_refxml.date_2015-02-14.2016-11-24.xml.gz",
         5696056,
         1677512265000
        ],
        [
         "dbfs:/mnt/ddscoursedatastorage/fwm-stb-data/refxml/SintecMedia.rpt_refxml.date_2015-02-15.2016-11-24.xml.gz",
         "SintecMedia.rpt_refxml.date_2015-02-15.2016-11-24.xml.gz",
         5696056,
         1677512254000
        ],
        [
         "dbfs:/mnt/ddscoursedatastorage/fwm-stb-data/refxml/SintecMedia.rpt_refxml.date_2015-02-16.2016-11-24.xml.gz",
         "SintecMedia.rpt_refxml.date_2015-02-16.2016-11-24.xml.gz",
         5696056,
         1677512264000
        ],
        [
         "dbfs:/mnt/ddscoursedatastorage/fwm-stb-data/refxml/SintecMedia.rpt_refxml.date_2015-02-17.2016-11-24.xml.gz",
         "SintecMedia.rpt_refxml.date_2015-02-17.2016-11-24.xml.gz",
         5696056,
         1677512267000
        ],
        [
         "dbfs:/mnt/ddscoursedatastorage/fwm-stb-data/refxml/SintecMedia.rpt_refxml.date_2015-02-18.2016-11-24.xml.gz",
         "SintecMedia.rpt_refxml.date_2015-02-18.2016-11-24.xml.gz",
         5099327,
         1677512271000
        ],
        [
         "dbfs:/mnt/ddscoursedatastorage/fwm-stb-data/refxml/SintecMedia.rpt_refxml.date_2015-02-19.2016-11-24.xml.gz",
         "SintecMedia.rpt_refxml.date_2015-02-19.2016-11-24.xml.gz",
         5099327,
         1677512267000
        ],
        [
         "dbfs:/mnt/ddscoursedatastorage/fwm-stb-data/refxml/SintecMedia.rpt_refxml.date_2015-02-20.2016-11-24.xml.gz",
         "SintecMedia.rpt_refxml.date_2015-02-20.2016-11-24.xml.gz",
         5102556,
         1677512271000
        ],
        [
         "dbfs:/mnt/ddscoursedatastorage/fwm-stb-data/refxml/SintecMedia.rpt_refxml.date_2015-02-21.2016-11-24.xml.gz",
         "SintecMedia.rpt_refxml.date_2015-02-21.2016-11-24.xml.gz",
         5102870,
         1677512266000
        ],
        [
         "dbfs:/mnt/ddscoursedatastorage/fwm-stb-data/refxml/SintecMedia.rpt_refxml.date_2015-02-22.2016-11-24.xml.gz",
         "SintecMedia.rpt_refxml.date_2015-02-22.2016-11-24.xml.gz",
         5102903,
         1677512259000
        ],
        [
         "dbfs:/mnt/ddscoursedatastorage/fwm-stb-data/refxml/SintecMedia.rpt_refxml.date_2015-02-23.2016-11-24.xml.gz",
         "SintecMedia.rpt_refxml.date_2015-02-23.2016-11-24.xml.gz",
         5103194,
         1677512256000
        ],
        [
         "dbfs:/mnt/ddscoursedatastorage/fwm-stb-data/refxml/SintecMedia.rpt_refxml.date_2015-02-24.2016-11-24.xml.gz",
         "SintecMedia.rpt_refxml.date_2015-02-24.2016-11-24.xml.gz",
         5103335,
         1677512269000
        ],
        [
         "dbfs:/mnt/ddscoursedatastorage/fwm-stb-data/refxml/SintecMedia.rpt_refxml.date_2015-02-25.2016-11-24.xml.gz",
         "SintecMedia.rpt_refxml.date_2015-02-25.2016-11-24.xml.gz",
         5178287,
         1677512248000
        ],
        [
         "dbfs:/mnt/ddscoursedatastorage/fwm-stb-data/refxml/SintecMedia.rpt_refxml.date_2015-02-26.2016-11-24.xml.gz",
         "SintecMedia.rpt_refxml.date_2015-02-26.2016-11-24.xml.gz",
         5178374,
         1677512264000
        ],
        [
         "dbfs:/mnt/ddscoursedatastorage/fwm-stb-data/refxml/SintecMedia.rpt_refxml.date_2015-02-27.2016-11-24.xml.gz",
         "SintecMedia.rpt_refxml.date_2015-02-27.2016-11-24.xml.gz",
         5178273,
         1677512257000
        ],
        [
         "dbfs:/mnt/ddscoursedatastorage/fwm-stb-data/refxml/SintecMedia.rpt_refxml.date_2015-02-28.2016-11-24.xml.gz",
         "SintecMedia.rpt_refxml.date_2015-02-28.2016-11-24.xml.gz",
         5178654,
         1677512263000
        ],
        [
         "dbfs:/mnt/ddscoursedatastorage/fwm-stb-data/refxml/SintecMedia.rpt_refxml.date_2015-03-01.2016-11-25.xml.gz",
         "SintecMedia.rpt_refxml.date_2015-03-01.2016-11-25.xml.gz",
         5178738,
         1677512269000
        ],
        [
         "dbfs:/mnt/ddscoursedatastorage/fwm-stb-data/refxml/SintecMedia.rpt_refxml.date_2015-03-02.2016-11-25.xml.gz",
         "SintecMedia.rpt_refxml.date_2015-03-02.2016-11-25.xml.gz",
         5179735,
         1677512268000
        ],
        [
         "dbfs:/mnt/ddscoursedatastorage/fwm-stb-data/refxml/SintecMedia.rpt_refxml.date_2015-03-03.2016-11-25.xml.gz",
         "SintecMedia.rpt_refxml.date_2015-03-03.2016-11-25.xml.gz",
         5179999,
         1677512248000
        ],
        [
         "dbfs:/mnt/ddscoursedatastorage/fwm-stb-data/refxml/SintecMedia.rpt_refxml.date_2015-03-04.2016-11-25.xml.gz",
         "SintecMedia.rpt_refxml.date_2015-03-04.2016-11-25.xml.gz",
         5180023,
         1677512271000
        ],
        [
         "dbfs:/mnt/ddscoursedatastorage/fwm-stb-data/refxml/SintecMedia.rpt_refxml.date_2015-03-05.2016-11-25.xml.gz",
         "SintecMedia.rpt_refxml.date_2015-03-05.2016-11-25.xml.gz",
         5179895,
         1677512266000
        ],
        [
         "dbfs:/mnt/ddscoursedatastorage/fwm-stb-data/refxml/SintecMedia.rpt_refxml.date_2015-03-06.2016-11-25.xml.gz",
         "SintecMedia.rpt_refxml.date_2015-03-06.2016-11-25.xml.gz",
         5180493,
         1677512269000
        ],
        [
         "dbfs:/mnt/ddscoursedatastorage/fwm-stb-data/refxml/SintecMedia.rpt_refxml.date_2015-03-07.2016-11-25.xml.gz",
         "SintecMedia.rpt_refxml.date_2015-03-07.2016-11-25.xml.gz",
         5180708,
         1677512234000
        ],
        [
         "dbfs:/mnt/ddscoursedatastorage/fwm-stb-data/refxml/SintecMedia.rpt_refxml.date_2015-03-08.2016-11-25.xml.gz",
         "SintecMedia.rpt_refxml.date_2015-03-08.2016-11-25.xml.gz",
         5180937,
         1677512269000
        ],
        [
         "dbfs:/mnt/ddscoursedatastorage/fwm-stb-data/refxml/SintecMedia.rpt_refxml.date_2015-03-09.2016-11-25.xml.gz",
         "SintecMedia.rpt_refxml.date_2015-03-09.2016-11-25.xml.gz",
         5182419,
         1677512263000
        ],
        [
         "dbfs:/mnt/ddscoursedatastorage/fwm-stb-data/refxml/SintecMedia.rpt_refxml.date_2015-03-10.2016-11-25.xml.gz",
         "SintecMedia.rpt_refxml.date_2015-03-10.2016-11-25.xml.gz",
         5182580,
         1677512252000
        ],
        [
         "dbfs:/mnt/ddscoursedatastorage/fwm-stb-data/refxml/SintecMedia.rpt_refxml.date_2015-03-11.2016-11-25.xml.gz",
         "SintecMedia.rpt_refxml.date_2015-03-11.2016-11-25.xml.gz",
         5182623,
         1677512268000
        ],
        [
         "dbfs:/mnt/ddscoursedatastorage/fwm-stb-data/refxml/SintecMedia.rpt_refxml.date_2015-03-12.2016-11-25.xml.gz",
         "SintecMedia.rpt_refxml.date_2015-03-12.2016-11-25.xml.gz",
         5282333,
         1677512261000
        ],
        [
         "dbfs:/mnt/ddscoursedatastorage/fwm-stb-data/refxml/SintecMedia.rpt_refxml.date_2015-03-13.2016-11-25.xml.gz",
         "SintecMedia.rpt_refxml.date_2015-03-13.2016-11-25.xml.gz",
         5256949,
         1677512271000
        ],
        [
         "dbfs:/mnt/ddscoursedatastorage/fwm-stb-data/refxml/SintecMedia.rpt_refxml.date_2015-03-14.2016-11-25.xml.gz",
         "SintecMedia.rpt_refxml.date_2015-03-14.2016-11-25.xml.gz",
         5257416,
         1677512257000
        ],
        [
         "dbfs:/mnt/ddscoursedatastorage/fwm-stb-data/refxml/SintecMedia.rpt_refxml.date_2015-03-15.2016-11-25.xml.gz",
         "SintecMedia.rpt_refxml.date_2015-03-15.2016-11-25.xml.gz",
         5257507,
         1677512234000
        ],
        [
         "dbfs:/mnt/ddscoursedatastorage/fwm-stb-data/refxml/SintecMedia.rpt_refxml.date_2015-03-16.2016-11-25.xml.gz",
         "SintecMedia.rpt_refxml.date_2015-03-16.2016-11-25.xml.gz",
         5258507,
         1677512268000
        ],
        [
         "dbfs:/mnt/ddscoursedatastorage/fwm-stb-data/refxml/SintecMedia.rpt_refxml.date_2015-03-17.2016-11-25.xml.gz",
         "SintecMedia.rpt_refxml.date_2015-03-17.2016-11-25.xml.gz",
         5258551,
         1677512267000
        ],
        [
         "dbfs:/mnt/ddscoursedatastorage/fwm-stb-data/refxml/SintecMedia.rpt_refxml.date_2015-03-18.2016-11-25.xml.gz",
         "SintecMedia.rpt_refxml.date_2015-03-18.2016-11-25.xml.gz",
         5258765,
         1677512269000
        ],
        [
         "dbfs:/mnt/ddscoursedatastorage/fwm-stb-data/refxml/SintecMedia.rpt_refxml.date_2015-03-19.2016-11-25.xml.gz",
         "SintecMedia.rpt_refxml.date_2015-03-19.2016-11-25.xml.gz",
         5259911,
         1677512263000
        ],
        [
         "dbfs:/mnt/ddscoursedatastorage/fwm-stb-data/refxml/SintecMedia.rpt_refxml.date_2015-03-20.2016-11-25.xml.gz",
         "SintecMedia.rpt_refxml.date_2015-03-20.2016-11-25.xml.gz",
         5259997,
         1677512258000
        ],
        [
         "dbfs:/mnt/ddscoursedatastorage/fwm-stb-data/refxml/SintecMedia.rpt_refxml.date_2015-03-21.2016-11-25.xml.gz",
         "SintecMedia.rpt_refxml.date_2015-03-21.2016-11-25.xml.gz",
         5260193,
         1677512258000
        ],
        [
         "dbfs:/mnt/ddscoursedatastorage/fwm-stb-data/refxml/SintecMedia.rpt_refxml.date_2015-03-22.2016-11-25.xml.gz",
         "SintecMedia.rpt_refxml.date_2015-03-22.2016-11-25.xml.gz",
         5260492,
         1677512260000
        ],
        [
         "dbfs:/mnt/ddscoursedatastorage/fwm-stb-data/refxml/SintecMedia.rpt_refxml.date_2015-03-23.2016-11-25.xml.gz",
         "SintecMedia.rpt_refxml.date_2015-03-23.2016-11-25.xml.gz",
         5261418,
         1677512271000
        ],
        [
         "dbfs:/mnt/ddscoursedatastorage/fwm-stb-data/refxml/SintecMedia.rpt_refxml.date_2015-03-24.2016-11-25.xml.gz",
         "SintecMedia.rpt_refxml.date_2015-03-24.2016-11-25.xml.gz",
         5196686,
         1677512236000
        ],
        [
         "dbfs:/mnt/ddscoursedatastorage/fwm-stb-data/refxml/SintecMedia.rpt_refxml.date_2015-03-25.2016-11-25.xml.gz",
         "SintecMedia.rpt_refxml.date_2015-03-25.2016-11-25.xml.gz",
         5262016,
         1677512252000
        ],
        [
         "dbfs:/mnt/ddscoursedatastorage/fwm-stb-data/refxml/SintecMedia.rpt_refxml.date_2015-03-26.2016-11-25.xml.gz",
         "SintecMedia.rpt_refxml.date_2015-03-26.2016-11-25.xml.gz",
         5262490,
         1677512267000
        ],
        [
         "dbfs:/mnt/ddscoursedatastorage/fwm-stb-data/refxml/SintecMedia.rpt_refxml.date_2015-03-27.2016-11-25.xml.gz",
         "SintecMedia.rpt_refxml.date_2015-03-27.2016-11-25.xml.gz",
         5262959,
         1677512262000
        ],
        [
         "dbfs:/mnt/ddscoursedatastorage/fwm-stb-data/refxml/SintecMedia.rpt_refxml.date_2015-03-28.2016-11-25.xml.gz",
         "SintecMedia.rpt_refxml.date_2015-03-28.2016-11-25.xml.gz",
         5263719,
         1677512254000
        ],
        [
         "dbfs:/mnt/ddscoursedatastorage/fwm-stb-data/refxml/SintecMedia.rpt_refxml.date_2015-03-29.2016-11-25.xml.gz",
         "SintecMedia.rpt_refxml.date_2015-03-29.2016-11-25.xml.gz",
         5263988,
         1677512260000
        ],
        [
         "dbfs:/mnt/ddscoursedatastorage/fwm-stb-data/refxml/SintecMedia.rpt_refxml.date_2015-03-30.2016-11-25.xml.gz",
         "SintecMedia.rpt_refxml.date_2015-03-30.2016-11-25.xml.gz",
         5262457,
         1677512255000
        ],
        [
         "dbfs:/mnt/ddscoursedatastorage/fwm-stb-data/refxml/SintecMedia.rpt_refxml.date_2015-03-31.2016-11-25.xml.gz",
         "SintecMedia.rpt_refxml.date_2015-03-31.2016-11-25.xml.gz",
         5262606,
         1677512271000
        ],
        [
         "dbfs:/mnt/ddscoursedatastorage/fwm-stb-data/refxml/SintecMedia.rpt_refxml.date_2015-04-01.2016-11-25.xml.gz",
         "SintecMedia.rpt_refxml.date_2015-04-01.2016-11-25.xml.gz",
         5262996,
         1677512264000
        ],
        [
         "dbfs:/mnt/ddscoursedatastorage/fwm-stb-data/refxml/SintecMedia.rpt_refxml.date_2015-04-02.2016-11-25.xml.gz",
         "SintecMedia.rpt_refxml.date_2015-04-02.2016-11-25.xml.gz",
         5263696,
         1677512250000
        ],
        [
         "dbfs:/mnt/ddscoursedatastorage/fwm-stb-data/refxml/SintecMedia.rpt_refxml.date_2015-04-03.2016-11-25.xml.gz",
         "SintecMedia.rpt_refxml.date_2015-04-03.2016-11-25.xml.gz",
         5264161,
         1677512268000
        ],
        [
         "dbfs:/mnt/ddscoursedatastorage/fwm-stb-data/refxml/SintecMedia.rpt_refxml.date_2015-04-04.2016-11-25.xml.gz",
         "SintecMedia.rpt_refxml.date_2015-04-04.2016-11-25.xml.gz",
         5264383,
         1677512267000
        ],
        [
         "dbfs:/mnt/ddscoursedatastorage/fwm-stb-data/refxml/SintecMedia.rpt_refxml.date_2015-04-05.2016-11-25.xml.gz",
         "SintecMedia.rpt_refxml.date_2015-04-05.2016-11-25.xml.gz",
         5264361,
         1677512243000
        ],
        [
         "dbfs:/mnt/ddscoursedatastorage/fwm-stb-data/refxml/SintecMedia.rpt_refxml.date_2015-04-06.2016-11-25.xml.gz",
         "SintecMedia.rpt_refxml.date_2015-04-06.2016-11-25.xml.gz",
         5269473,
         1677512255000
        ],
        [
         "dbfs:/mnt/ddscoursedatastorage/fwm-stb-data/refxml/SintecMedia.rpt_refxml.date_2015-04-07.2016-11-25.xml.gz",
         "SintecMedia.rpt_refxml.date_2015-04-07.2016-11-25.xml.gz",
         5269728,
         1677512261000
        ],
        [
         "dbfs:/mnt/ddscoursedatastorage/fwm-stb-data/refxml/SintecMedia.rpt_refxml.date_2015-04-08.2016-11-25.xml.gz",
         "SintecMedia.rpt_refxml.date_2015-04-08.2016-11-25.xml.gz",
         5270725,
         1677512247000
        ],
        [
         "dbfs:/mnt/ddscoursedatastorage/fwm-stb-data/refxml/SintecMedia.rpt_refxml.date_2015-04-09.2016-11-25.xml.gz",
         "SintecMedia.rpt_refxml.date_2015-04-09.2016-11-25.xml.gz",
         5271107,
         1677512267000
        ],
        [
         "dbfs:/mnt/ddscoursedatastorage/fwm-stb-data/refxml/SintecMedia.rpt_refxml.date_2015-04-10.2016-11-25.xml.gz",
         "SintecMedia.rpt_refxml.date_2015-04-10.2016-11-25.xml.gz",
         5271424,
         1677512250000
        ],
        [
         "dbfs:/mnt/ddscoursedatastorage/fwm-stb-data/refxml/SintecMedia.rpt_refxml.date_2015-04-11.2016-11-25.xml.gz",
         "SintecMedia.rpt_refxml.date_2015-04-11.2016-11-25.xml.gz",
         5271564,
         1677512254000
        ],
        [
         "dbfs:/mnt/ddscoursedatastorage/fwm-stb-data/refxml/SintecMedia.rpt_refxml.date_2015-04-12.2016-11-25.xml.gz",
         "SintecMedia.rpt_refxml.date_2015-04-12.2016-11-25.xml.gz",
         5271480,
         1677512269000
        ],
        [
         "dbfs:/mnt/ddscoursedatastorage/fwm-stb-data/refxml/SintecMedia.rpt_refxml.date_2015-04-13.2016-11-25.xml.gz",
         "SintecMedia.rpt_refxml.date_2015-04-13.2016-11-25.xml.gz",
         5272923,
         1677512265000
        ],
        [
         "dbfs:/mnt/ddscoursedatastorage/fwm-stb-data/refxml/SintecMedia.rpt_refxml.date_2015-04-14.2016-11-25.xml.gz",
         "SintecMedia.rpt_refxml.date_2015-04-14.2016-11-25.xml.gz",
         5269464,
         1677512249000
        ],
        [
         "dbfs:/mnt/ddscoursedatastorage/fwm-stb-data/refxml/SintecMedia.rpt_refxml.date_2015-04-15.2016-11-25.xml.gz",
         "SintecMedia.rpt_refxml.date_2015-04-15.2016-11-25.xml.gz",
         5273804,
         1677512240000
        ],
        [
         "dbfs:/mnt/ddscoursedatastorage/fwm-stb-data/refxml/SintecMedia.rpt_refxml.date_2015-04-16.2016-11-25.xml.gz",
         "SintecMedia.rpt_refxml.date_2015-04-16.2016-11-25.xml.gz",
         5285593,
         1677512264000
        ],
        [
         "dbfs:/mnt/ddscoursedatastorage/fwm-stb-data/refxml/SintecMedia.rpt_refxml.date_2015-04-17.2016-11-25.xml.gz",
         "SintecMedia.rpt_refxml.date_2015-04-17.2016-11-25.xml.gz",
         5286056,
         1677512258000
        ],
        [
         "dbfs:/mnt/ddscoursedatastorage/fwm-stb-data/refxml/SintecMedia.rpt_refxml.date_2015-04-18.2016-11-25.xml.gz",
         "SintecMedia.rpt_refxml.date_2015-04-18.2016-11-25.xml.gz",
         5286449,
         1677512250000
        ],
        [
         "dbfs:/mnt/ddscoursedatastorage/fwm-stb-data/refxml/SintecMedia.rpt_refxml.date_2015-04-19.2016-11-25.xml.gz",
         "SintecMedia.rpt_refxml.date_2015-04-19.2016-11-25.xml.gz",
         5286616,
         1677512267000
        ],
        [
         "dbfs:/mnt/ddscoursedatastorage/fwm-stb-data/refxml/SintecMedia.rpt_refxml.date_2015-04-20.2016-11-25.xml.gz",
         "SintecMedia.rpt_refxml.date_2015-04-20.2016-11-25.xml.gz",
         5289224,
         1677512271000
        ],
        [
         "dbfs:/mnt/ddscoursedatastorage/fwm-stb-data/refxml/SintecMedia.rpt_refxml.date_2015-04-21.2016-11-25.xml.gz",
         "SintecMedia.rpt_refxml.date_2015-04-21.2016-11-25.xml.gz",
         5289393,
         1677512262000
        ],
        [
         "dbfs:/mnt/ddscoursedatastorage/fwm-stb-data/refxml/SintecMedia.rpt_refxml.date_2015-04-22.2016-11-25.xml.gz",
         "SintecMedia.rpt_refxml.date_2015-04-22.2016-11-25.xml.gz",
         5289758,
         1677512267000
        ],
        [
         "dbfs:/mnt/ddscoursedatastorage/fwm-stb-data/refxml/SintecMedia.rpt_refxml.date_2015-04-23.2016-11-25.xml.gz",
         "SintecMedia.rpt_refxml.date_2015-04-23.2016-11-25.xml.gz",
         5290448,
         1677512271000
        ],
        [
         "dbfs:/mnt/ddscoursedatastorage/fwm-stb-data/refxml/SintecMedia.rpt_refxml.date_2015-04-24.2016-11-25.xml.gz",
         "SintecMedia.rpt_refxml.date_2015-04-24.2016-11-25.xml.gz",
         5290728,
         1677512257000
        ],
        [
         "dbfs:/mnt/ddscoursedatastorage/fwm-stb-data/refxml/SintecMedia.rpt_refxml.date_2015-04-25.2016-11-25.xml.gz",
         "SintecMedia.rpt_refxml.date_2015-04-25.2016-11-25.xml.gz",
         5290996,
         1677512267000
        ],
        [
         "dbfs:/mnt/ddscoursedatastorage/fwm-stb-data/refxml/SintecMedia.rpt_refxml.date_2015-04-26.2016-11-25.xml.gz",
         "SintecMedia.rpt_refxml.date_2015-04-26.2016-11-25.xml.gz",
         5291145,
         1677512262000
        ],
        [
         "dbfs:/mnt/ddscoursedatastorage/fwm-stb-data/refxml/SintecMedia.rpt_refxml.date_2015-04-27.2016-11-25.xml.gz",
         "SintecMedia.rpt_refxml.date_2015-04-27.2016-11-25.xml.gz",
         5292358,
         1677512271000
        ],
        [
         "dbfs:/mnt/ddscoursedatastorage/fwm-stb-data/refxml/SintecMedia.rpt_refxml.date_2015-04-28.2016-11-25.xml.gz",
         "SintecMedia.rpt_refxml.date_2015-04-28.2016-11-25.xml.gz",
         5293683,
         1677512258000
        ],
        [
         "dbfs:/mnt/ddscoursedatastorage/fwm-stb-data/refxml/SintecMedia.rpt_refxml.date_2015-04-29.2016-11-25.xml.gz",
         "SintecMedia.rpt_refxml.date_2015-04-29.2016-11-25.xml.gz",
         5293908,
         1677512270000
        ],
        [
         "dbfs:/mnt/ddscoursedatastorage/fwm-stb-data/refxml/SintecMedia.rpt_refxml.date_2015-04-30.2016-11-25.xml.gz",
         "SintecMedia.rpt_refxml.date_2015-04-30.2016-11-25.xml.gz",
         5294522,
         1677512253000
        ],
        [
         "dbfs:/mnt/ddscoursedatastorage/fwm-stb-data/refxml/SintecMedia.rpt_refxml.date_2015-05-01.2016-11-25.xml.gz",
         "SintecMedia.rpt_refxml.date_2015-05-01.2016-11-25.xml.gz",
         5295020,
         1677512266000
        ],
        [
         "dbfs:/mnt/ddscoursedatastorage/fwm-stb-data/refxml/SintecMedia.rpt_refxml.date_2015-05-02.2016-11-25.xml.gz",
         "SintecMedia.rpt_refxml.date_2015-05-02.2016-11-25.xml.gz",
         5295273,
         1677512263000
        ],
        [
         "dbfs:/mnt/ddscoursedatastorage/fwm-stb-data/refxml/SintecMedia.rpt_refxml.date_2015-05-03.2016-11-26.xml.gz",
         "SintecMedia.rpt_refxml.date_2015-05-03.2016-11-26.xml.gz",
         5295662,
         1677512264000
        ],
        [
         "dbfs:/mnt/ddscoursedatastorage/fwm-stb-data/refxml/SintecMedia.rpt_refxml.date_2015-05-04.2016-11-26.xml.gz",
         "SintecMedia.rpt_refxml.date_2015-05-04.2016-11-26.xml.gz",
         5298414,
         1677512255000
        ],
        [
         "dbfs:/mnt/ddscoursedatastorage/fwm-stb-data/refxml/SintecMedia.rpt_refxml.date_2015-05-05.2016-11-26.xml.gz",
         "SintecMedia.rpt_refxml.date_2015-05-05.2016-11-26.xml.gz",
         5299566,
         1677512264000
        ],
        [
         "dbfs:/mnt/ddscoursedatastorage/fwm-stb-data/refxml/SintecMedia.rpt_refxml.date_2015-05-06.2016-11-26.xml.gz",
         "SintecMedia.rpt_refxml.date_2015-05-06.2016-11-26.xml.gz",
         5300075,
         1677512253000
        ],
        [
         "dbfs:/mnt/ddscoursedatastorage/fwm-stb-data/refxml/SintecMedia.rpt_refxml.date_2015-05-07.2016-11-26.xml.gz",
         "SintecMedia.rpt_refxml.date_2015-05-07.2016-11-26.xml.gz",
         5300236,
         1677512261000
        ],
        [
         "dbfs:/mnt/ddscoursedatastorage/fwm-stb-data/refxml/SintecMedia.rpt_refxml.date_2015-05-08.2016-11-26.xml.gz",
         "SintecMedia.rpt_refxml.date_2015-05-08.2016-11-26.xml.gz",
         5362249,
         1677512259000
        ],
        [
         "dbfs:/mnt/ddscoursedatastorage/fwm-stb-data/refxml/SintecMedia.rpt_refxml.date_2015-05-09.2016-11-26.xml.gz",
         "SintecMedia.rpt_refxml.date_2015-05-09.2016-11-26.xml.gz",
         5362522,
         1677512271000
        ],
        [
         "dbfs:/mnt/ddscoursedatastorage/fwm-stb-data/refxml/SintecMedia.rpt_refxml.date_2015-05-10.2016-11-26.xml.gz",
         "SintecMedia.rpt_refxml.date_2015-05-10.2016-11-26.xml.gz",
         5362551,
         1677512262000
        ],
        [
         "dbfs:/mnt/ddscoursedatastorage/fwm-stb-data/refxml/SintecMedia.rpt_refxml.date_2015-05-11.2016-11-26.xml.gz",
         "SintecMedia.rpt_refxml.date_2015-05-11.2016-11-26.xml.gz",
         5364977,
         1677512261000
        ],
        [
         "dbfs:/mnt/ddscoursedatastorage/fwm-stb-data/refxml/SintecMedia.rpt_refxml.date_2015-05-12.2016-11-26.xml.gz",
         "SintecMedia.rpt_refxml.date_2015-05-12.2016-11-26.xml.gz",
         5365264,
         1677512268000
        ],
        [
         "dbfs:/mnt/ddscoursedatastorage/fwm-stb-data/refxml/SintecMedia.rpt_refxml.date_2015-05-13.2016-11-26.xml.gz",
         "SintecMedia.rpt_refxml.date_2015-05-13.2016-11-26.xml.gz",
         5348950,
         1677512259000
        ],
        [
         "dbfs:/mnt/ddscoursedatastorage/fwm-stb-data/refxml/SintecMedia.rpt_refxml.date_2015-05-14.2016-11-26.xml.gz",
         "SintecMedia.rpt_refxml.date_2015-05-14.2016-11-26.xml.gz",
         5347921,
         1677512257000
        ],
        [
         "dbfs:/mnt/ddscoursedatastorage/fwm-stb-data/refxml/SintecMedia.rpt_refxml.date_2015-05-15.2016-11-26.xml.gz",
         "SintecMedia.rpt_refxml.date_2015-05-15.2016-11-26.xml.gz",
         5348397,
         1677512264000
        ],
        [
         "dbfs:/mnt/ddscoursedatastorage/fwm-stb-data/refxml/SintecMedia.rpt_refxml.date_2015-05-16.2016-11-26.xml.gz",
         "SintecMedia.rpt_refxml.date_2015-05-16.2016-11-26.xml.gz",
         5348867,
         1677512270000
        ],
        [
         "dbfs:/mnt/ddscoursedatastorage/fwm-stb-data/refxml/SintecMedia.rpt_refxml.date_2015-05-17.2016-11-26.xml.gz",
         "SintecMedia.rpt_refxml.date_2015-05-17.2016-11-26.xml.gz",
         5349055,
         1677512253000
        ],
        [
         "dbfs:/mnt/ddscoursedatastorage/fwm-stb-data/refxml/SintecMedia.rpt_refxml.date_2015-05-18.2016-11-26.xml.gz",
         "SintecMedia.rpt_refxml.date_2015-05-18.2016-11-26.xml.gz",
         5351291,
         1677512271000
        ],
        [
         "dbfs:/mnt/ddscoursedatastorage/fwm-stb-data/refxml/SintecMedia.rpt_refxml.date_2015-05-19.2016-11-26.xml.gz",
         "SintecMedia.rpt_refxml.date_2015-05-19.2016-11-26.xml.gz",
         5351391,
         1677512260000
        ],
        [
         "dbfs:/mnt/ddscoursedatastorage/fwm-stb-data/refxml/SintecMedia.rpt_refxml.date_2015-05-20.2016-11-26.xml.gz",
         "SintecMedia.rpt_refxml.date_2015-05-20.2016-11-26.xml.gz",
         5351684,
         1677512264000
        ],
        [
         "dbfs:/mnt/ddscoursedatastorage/fwm-stb-data/refxml/SintecMedia.rpt_refxml.date_2015-05-21.2016-11-26.xml.gz",
         "SintecMedia.rpt_refxml.date_2015-05-21.2016-11-26.xml.gz",
         5352321,
         1677512256000
        ],
        [
         "dbfs:/mnt/ddscoursedatastorage/fwm-stb-data/refxml/SintecMedia.rpt_refxml.date_2015-05-22.2016-11-26.xml.gz",
         "SintecMedia.rpt_refxml.date_2015-05-22.2016-11-26.xml.gz",
         5352374,
         1677512270000
        ],
        [
         "dbfs:/mnt/ddscoursedatastorage/fwm-stb-data/refxml/SintecMedia.rpt_refxml.date_2015-05-23.2016-11-26.xml.gz",
         "SintecMedia.rpt_refxml.date_2015-05-23.2016-11-26.xml.gz",
         5352525,
         1677512267000
        ],
        [
         "dbfs:/mnt/ddscoursedatastorage/fwm-stb-data/refxml/SintecMedia.rpt_refxml.date_2015-05-24.2016-11-26.xml.gz",
         "SintecMedia.rpt_refxml.date_2015-05-24.2016-11-26.xml.gz",
         5352502,
         1677512268000
        ],
        [
         "dbfs:/mnt/ddscoursedatastorage/fwm-stb-data/refxml/SintecMedia.rpt_refxml.date_2015-05-25.2016-11-26.xml.gz",
         "SintecMedia.rpt_refxml.date_2015-05-25.2016-11-26.xml.gz",
         5354090,
         1677512250000
        ],
        [
         "dbfs:/mnt/ddscoursedatastorage/fwm-stb-data/refxml/SintecMedia.rpt_refxml.date_2015-05-26.2016-11-26.xml.gz",
         "SintecMedia.rpt_refxml.date_2015-05-26.2016-11-26.xml.gz",
         5354958,
         1677512258000
        ],
        [
         "dbfs:/mnt/ddscoursedatastorage/fwm-stb-data/refxml/SintecMedia.rpt_refxml.date_2015-05-27.2016-11-26.xml.gz",
         "SintecMedia.rpt_refxml.date_2015-05-27.2016-11-26.xml.gz",
         5355776,
         1677512258000
        ],
        [
         "dbfs:/mnt/ddscoursedatastorage/fwm-stb-data/refxml/SintecMedia.rpt_refxml.date_2015-05-28.2016-11-26.xml.gz",
         "SintecMedia.rpt_refxml.date_2015-05-28.2016-11-26.xml.gz",
         5356011,
         1677512259000
        ],
        [
         "dbfs:/mnt/ddscoursedatastorage/fwm-stb-data/refxml/SintecMedia.rpt_refxml.date_2015-05-29.2016-11-26.xml.gz",
         "SintecMedia.rpt_refxml.date_2015-05-29.2016-11-26.xml.gz",
         5355506,
         1677512265000
        ],
        [
         "dbfs:/mnt/ddscoursedatastorage/fwm-stb-data/refxml/SintecMedia.rpt_refxml.date_2015-05-30.2016-11-26.xml.gz",
         "SintecMedia.rpt_refxml.date_2015-05-30.2016-11-26.xml.gz",
         5355607,
         1677512262000
        ],
        [
         "dbfs:/mnt/ddscoursedatastorage/fwm-stb-data/refxml/SintecMedia.rpt_refxml.date_2015-05-31.2016-11-26.xml.gz",
         "SintecMedia.rpt_refxml.date_2015-05-31.2016-11-26.xml.gz",
         5355867,
         1677512263000
        ],
        [
         "dbfs:/mnt/ddscoursedatastorage/fwm-stb-data/refxml/SintecMedia.rpt_refxml.date_2015-06-01.2016-11-26.xml.gz",
         "SintecMedia.rpt_refxml.date_2015-06-01.2016-11-26.xml.gz",
         5356803,
         1677512262000
        ],
        [
         "dbfs:/mnt/ddscoursedatastorage/fwm-stb-data/refxml/SintecMedia.rpt_refxml.date_2015-06-02.2016-11-26.xml.gz",
         "SintecMedia.rpt_refxml.date_2015-06-02.2016-11-26.xml.gz",
         5357593,
         1677512262000
        ],
        [
         "dbfs:/mnt/ddscoursedatastorage/fwm-stb-data/refxml/SintecMedia.rpt_refxml.date_2015-06-03.2016-11-26.xml.gz",
         "SintecMedia.rpt_refxml.date_2015-06-03.2016-11-26.xml.gz",
         5357952,
         1677512266000
        ],
        [
         "dbfs:/mnt/ddscoursedatastorage/fwm-stb-data/refxml/SintecMedia.rpt_refxml.date_2015-06-04.2016-11-26.xml.gz",
         "SintecMedia.rpt_refxml.date_2015-06-04.2016-11-26.xml.gz",
         5358577,
         1677512269000
        ],
        [
         "dbfs:/mnt/ddscoursedatastorage/fwm-stb-data/refxml/SintecMedia.rpt_refxml.date_2015-06-05.2016-11-26.xml.gz",
         "SintecMedia.rpt_refxml.date_2015-06-05.2016-11-26.xml.gz",
         5358715,
         1677512266000
        ],
        [
         "dbfs:/mnt/ddscoursedatastorage/fwm-stb-data/refxml/SintecMedia.rpt_refxml.date_2015-06-06.2016-11-26.xml.gz",
         "SintecMedia.rpt_refxml.date_2015-06-06.2016-11-26.xml.gz",
         5358748,
         1677512263000
        ],
        [
         "dbfs:/mnt/ddscoursedatastorage/fwm-stb-data/refxml/SintecMedia.rpt_refxml.date_2015-06-07.2016-11-26.xml.gz",
         "SintecMedia.rpt_refxml.date_2015-06-07.2016-11-26.xml.gz",
         5358231,
         1677512270000
        ],
        [
         "dbfs:/mnt/ddscoursedatastorage/fwm-stb-data/refxml/SintecMedia.rpt_refxml.date_2015-06-08.2016-11-26.xml.gz",
         "SintecMedia.rpt_refxml.date_2015-06-08.2016-11-26.xml.gz",
         5359927,
         1677512258000
        ],
        [
         "dbfs:/mnt/ddscoursedatastorage/fwm-stb-data/refxml/SintecMedia.rpt_refxml.date_2015-06-09.2016-11-26.xml.gz",
         "SintecMedia.rpt_refxml.date_2015-06-09.2016-11-26.xml.gz",
         5360243,
         1677512264000
        ],
        [
         "dbfs:/mnt/ddscoursedatastorage/fwm-stb-data/refxml/SintecMedia.rpt_refxml.date_2015-06-10.2016-11-26.xml.gz",
         "SintecMedia.rpt_refxml.date_2015-06-10.2016-11-26.xml.gz",
         5360756,
         1677512259000
        ],
        [
         "dbfs:/mnt/ddscoursedatastorage/fwm-stb-data/refxml/SintecMedia.rpt_refxml.date_2015-06-11.2016-11-26.xml.gz",
         "SintecMedia.rpt_refxml.date_2015-06-11.2016-11-26.xml.gz",
         5360667,
         1677512264000
        ],
        [
         "dbfs:/mnt/ddscoursedatastorage/fwm-stb-data/refxml/SintecMedia.rpt_refxml.date_2015-06-12.2016-11-26.xml.gz",
         "SintecMedia.rpt_refxml.date_2015-06-12.2016-11-26.xml.gz",
         5361134,
         1677512246000
        ],
        [
         "dbfs:/mnt/ddscoursedatastorage/fwm-stb-data/refxml/SintecMedia.rpt_refxml.date_2015-06-13.2016-11-26.xml.gz",
         "SintecMedia.rpt_refxml.date_2015-06-13.2016-11-26.xml.gz",
         5361238,
         1677512268000
        ],
        [
         "dbfs:/mnt/ddscoursedatastorage/fwm-stb-data/refxml/SintecMedia.rpt_refxml.date_2015-06-14.2016-11-26.xml.gz",
         "SintecMedia.rpt_refxml.date_2015-06-14.2016-11-26.xml.gz",
         5361078,
         1677512258000
        ],
        [
         "dbfs:/mnt/ddscoursedatastorage/fwm-stb-data/refxml/SintecMedia.rpt_refxml.date_2015-06-15.2016-11-26.xml.gz",
         "SintecMedia.rpt_refxml.date_2015-06-15.2016-11-26.xml.gz",
         5362357,
         1677512265000
        ],
        [
         "dbfs:/mnt/ddscoursedatastorage/fwm-stb-data/refxml/SintecMedia.rpt_refxml.date_2015-06-16.2016-11-26.xml.gz",
         "SintecMedia.rpt_refxml.date_2015-06-16.2016-11-26.xml.gz",
         5363115,
         1677512242000
        ],
        [
         "dbfs:/mnt/ddscoursedatastorage/fwm-stb-data/refxml/SintecMedia.rpt_refxml.date_2015-06-17.2016-11-26.xml.gz",
         "SintecMedia.rpt_refxml.date_2015-06-17.2016-11-26.xml.gz",
         5363184,
         1677512251000
        ],
        [
         "dbfs:/mnt/ddscoursedatastorage/fwm-stb-data/refxml/SintecMedia.rpt_refxml.date_2015-06-18.2016-11-26.xml.gz",
         "SintecMedia.rpt_refxml.date_2015-06-18.2016-11-26.xml.gz",
         5363442,
         1677512266000
        ],
        [
         "dbfs:/mnt/ddscoursedatastorage/fwm-stb-data/refxml/SintecMedia.rpt_refxml.date_2015-06-19.2016-11-26.xml.gz",
         "SintecMedia.rpt_refxml.date_2015-06-19.2016-11-26.xml.gz",
         5363582,
         1677512266000
        ],
        [
         "dbfs:/mnt/ddscoursedatastorage/fwm-stb-data/refxml/SintecMedia.rpt_refxml.date_2015-06-20.2016-11-26.xml.gz",
         "SintecMedia.rpt_refxml.date_2015-06-20.2016-11-26.xml.gz",
         5363670,
         1677512263000
        ],
        [
         "dbfs:/mnt/ddscoursedatastorage/fwm-stb-data/refxml/SintecMedia.rpt_refxml.date_2015-06-21.2016-11-26.xml.gz",
         "SintecMedia.rpt_refxml.date_2015-06-21.2016-11-26.xml.gz",
         5363812,
         1677512248000
        ],
        [
         "dbfs:/mnt/ddscoursedatastorage/fwm-stb-data/refxml/SintecMedia.rpt_refxml.date_2015-06-22.2016-11-26.xml.gz",
         "SintecMedia.rpt_refxml.date_2015-06-22.2016-11-26.xml.gz",
         5364872,
         1677512261000
        ],
        [
         "dbfs:/mnt/ddscoursedatastorage/fwm-stb-data/refxml/SintecMedia.rpt_refxml.date_2015-06-23.2016-11-26.xml.gz",
         "SintecMedia.rpt_refxml.date_2015-06-23.2016-11-26.xml.gz",
         5365930,
         1677512262000
        ],
        [
         "dbfs:/mnt/ddscoursedatastorage/fwm-stb-data/refxml/SintecMedia.rpt_refxml.date_2015-06-24.2016-11-26.xml.gz",
         "SintecMedia.rpt_refxml.date_2015-06-24.2016-11-26.xml.gz",
         5365905,
         1677512256000
        ],
        [
         "dbfs:/mnt/ddscoursedatastorage/fwm-stb-data/refxml/SintecMedia.rpt_refxml.date_2015-06-25.2016-11-26.xml.gz",
         "SintecMedia.rpt_refxml.date_2015-06-25.2016-11-26.xml.gz",
         5367314,
         1677512267000
        ],
        [
         "dbfs:/mnt/ddscoursedatastorage/fwm-stb-data/refxml/SintecMedia.rpt_refxml.date_2015-06-26.2016-11-26.xml.gz",
         "SintecMedia.rpt_refxml.date_2015-06-26.2016-11-26.xml.gz",
         5367566,
         1677512250000
        ],
        [
         "dbfs:/mnt/ddscoursedatastorage/fwm-stb-data/refxml/SintecMedia.rpt_refxml.date_2015-06-27.2016-11-26.xml.gz",
         "SintecMedia.rpt_refxml.date_2015-06-27.2016-11-26.xml.gz",
         5367715,
         1677512257000
        ],
        [
         "dbfs:/mnt/ddscoursedatastorage/fwm-stb-data/refxml/SintecMedia.rpt_refxml.date_2015-06-28.2016-11-26.xml.gz",
         "SintecMedia.rpt_refxml.date_2015-06-28.2016-11-26.xml.gz",
         5367697,
         1677512268000
        ],
        [
         "dbfs:/mnt/ddscoursedatastorage/fwm-stb-data/refxml/SintecMedia.rpt_refxml.date_2015-06-29.2016-11-26.xml.gz",
         "SintecMedia.rpt_refxml.date_2015-06-29.2016-11-26.xml.gz",
         5369306,
         1677512259000
        ],
        [
         "dbfs:/mnt/ddscoursedatastorage/fwm-stb-data/refxml/SintecMedia.rpt_refxml.date_2015-06-30.2016-11-26.xml.gz",
         "SintecMedia.rpt_refxml.date_2015-06-30.2016-11-26.xml.gz",
         5369246,
         1677512263000
        ],
        [
         "dbfs:/mnt/ddscoursedatastorage/fwm-stb-data/refxml/SintecMedia.rpt_refxml.date_2015-07-01.2016-11-26.xml.gz",
         "SintecMedia.rpt_refxml.date_2015-07-01.2016-11-26.xml.gz",
         5369833,
         1677512254000
        ],
        [
         "dbfs:/mnt/ddscoursedatastorage/fwm-stb-data/refxml/SintecMedia.rpt_refxml.date_2015-07-02.2016-11-26.xml.gz",
         "SintecMedia.rpt_refxml.date_2015-07-02.2016-11-26.xml.gz",
         5369821,
         1677512264000
        ],
        [
         "dbfs:/mnt/ddscoursedatastorage/fwm-stb-data/refxml/SintecMedia.rpt_refxml.date_2015-07-03.2016-11-26.xml.gz",
         "SintecMedia.rpt_refxml.date_2015-07-03.2016-11-26.xml.gz",
         5369934,
         1677512265000
        ],
        [
         "dbfs:/mnt/ddscoursedatastorage/fwm-stb-data/refxml/SintecMedia.rpt_refxml.date_2015-07-04.2016-11-26.xml.gz",
         "SintecMedia.rpt_refxml.date_2015-07-04.2016-11-26.xml.gz",
         5369868,
         1677512269000
        ],
        [
         "dbfs:/mnt/ddscoursedatastorage/fwm-stb-data/refxml/SintecMedia.rpt_refxml.date_2015-07-05.2016-11-27.xml.gz",
         "SintecMedia.rpt_refxml.date_2015-07-05.2016-11-27.xml.gz",
         5370034,
         1677512257000
        ],
        [
         "dbfs:/mnt/ddscoursedatastorage/fwm-stb-data/refxml/SintecMedia.rpt_refxml.date_2015-07-06.2016-11-27.xml.gz",
         "SintecMedia.rpt_refxml.date_2015-07-06.2016-11-27.xml.gz",
         5371753,
         1677512266000
        ],
        [
         "dbfs:/mnt/ddscoursedatastorage/fwm-stb-data/refxml/SintecMedia.rpt_refxml.date_2015-07-07.2016-11-27.xml.gz",
         "SintecMedia.rpt_refxml.date_2015-07-07.2016-11-27.xml.gz",
         5371733,
         1677512267000
        ],
        [
         "dbfs:/mnt/ddscoursedatastorage/fwm-stb-data/refxml/SintecMedia.rpt_refxml.date_2015-07-08.2016-11-27.xml.gz",
         "SintecMedia.rpt_refxml.date_2015-07-08.2016-11-27.xml.gz",
         5371625,
         1677512257000
        ],
        [
         "dbfs:/mnt/ddscoursedatastorage/fwm-stb-data/refxml/SintecMedia.rpt_refxml.date_2015-07-09.2016-11-27.xml.gz",
         "SintecMedia.rpt_refxml.date_2015-07-09.2016-11-27.xml.gz",
         5372088,
         1677512260000
        ],
        [
         "dbfs:/mnt/ddscoursedatastorage/fwm-stb-data/refxml/SintecMedia.rpt_refxml.date_2015-07-10.2016-11-27.xml.gz",
         "SintecMedia.rpt_refxml.date_2015-07-10.2016-11-27.xml.gz",
         5372442,
         1677512245000
        ],
        [
         "dbfs:/mnt/ddscoursedatastorage/fwm-stb-data/refxml/SintecMedia.rpt_refxml.date_2015-07-11.2016-11-27.xml.gz",
         "SintecMedia.rpt_refxml.date_2015-07-11.2016-11-27.xml.gz",
         5372455,
         1677512263000
        ],
        [
         "dbfs:/mnt/ddscoursedatastorage/fwm-stb-data/refxml/SintecMedia.rpt_refxml.date_2015-07-12.2016-11-27.xml.gz",
         "SintecMedia.rpt_refxml.date_2015-07-12.2016-11-27.xml.gz",
         5291392,
         1677512257000
        ],
        [
         "dbfs:/mnt/ddscoursedatastorage/fwm-stb-data/refxml/SintecMedia.rpt_refxml.date_2015-07-13.2016-11-27.xml.gz",
         "SintecMedia.rpt_refxml.date_2015-07-13.2016-11-27.xml.gz",
         5374501,
         1677512250000
        ],
        [
         "dbfs:/mnt/ddscoursedatastorage/fwm-stb-data/refxml/SintecMedia.rpt_refxml.date_2015-07-14.2016-11-27.xml.gz",
         "SintecMedia.rpt_refxml.date_2015-07-14.2016-11-27.xml.gz",
         5374502,
         1677512265000
        ],
        [
         "dbfs:/mnt/ddscoursedatastorage/fwm-stb-data/refxml/SintecMedia.rpt_refxml.date_2015-07-15.2016-11-27.xml.gz",
         "SintecMedia.rpt_refxml.date_2015-07-15.2016-11-27.xml.gz",
         5374024,
         1677512247000
        ],
        [
         "dbfs:/mnt/ddscoursedatastorage/fwm-stb-data/refxml/SintecMedia.rpt_refxml.date_2015-07-16.2016-11-27.xml.gz",
         "SintecMedia.rpt_refxml.date_2015-07-16.2016-11-27.xml.gz",
         5374400,
         1677512260000
        ],
        [
         "dbfs:/mnt/ddscoursedatastorage/fwm-stb-data/refxml/SintecMedia.rpt_refxml.date_2015-07-17.2016-11-27.xml.gz",
         "SintecMedia.rpt_refxml.date_2015-07-17.2016-11-27.xml.gz",
         5374615,
         1677512252000
        ],
        [
         "dbfs:/mnt/ddscoursedatastorage/fwm-stb-data/refxml/SintecMedia.rpt_refxml.date_2015-07-18.2016-11-27.xml.gz",
         "SintecMedia.rpt_refxml.date_2015-07-18.2016-11-27.xml.gz",
         5374685,
         1677512249000
        ],
        [
         "dbfs:/mnt/ddscoursedatastorage/fwm-stb-data/refxml/SintecMedia.rpt_refxml.date_2015-07-19.2016-11-27.xml.gz",
         "SintecMedia.rpt_refxml.date_2015-07-19.2016-11-27.xml.gz",
         5375172,
         1677512252000
        ],
        [
         "dbfs:/mnt/ddscoursedatastorage/fwm-stb-data/refxml/SintecMedia.rpt_refxml.date_2015-07-20.2016-11-27.xml.gz",
         "SintecMedia.rpt_refxml.date_2015-07-20.2016-11-27.xml.gz",
         5375925,
         1677512257000
        ],
        [
         "dbfs:/mnt/ddscoursedatastorage/fwm-stb-data/refxml/SintecMedia.rpt_refxml.date_2015-07-21.2016-11-27.xml.gz",
         "SintecMedia.rpt_refxml.date_2015-07-21.2016-11-27.xml.gz",
         5376066,
         1677512266000
        ],
        [
         "dbfs:/mnt/ddscoursedatastorage/fwm-stb-data/refxml/SintecMedia.rpt_refxml.date_2015-07-22.2016-11-27.xml.gz",
         "SintecMedia.rpt_refxml.date_2015-07-22.2016-11-27.xml.gz",
         5376499,
         1677512267000
        ],
        [
         "dbfs:/mnt/ddscoursedatastorage/fwm-stb-data/refxml/SintecMedia.rpt_refxml.date_2015-07-23.2016-11-27.xml.gz",
         "SintecMedia.rpt_refxml.date_2015-07-23.2016-11-27.xml.gz",
         5376833,
         1677512267000
        ],
        [
         "dbfs:/mnt/ddscoursedatastorage/fwm-stb-data/refxml/SintecMedia.rpt_refxml.date_2015-07-24.2016-11-27.xml.gz",
         "SintecMedia.rpt_refxml.date_2015-07-24.2016-11-27.xml.gz",
         5376898,
         1677512264000
        ],
        [
         "dbfs:/mnt/ddscoursedatastorage/fwm-stb-data/refxml/SintecMedia.rpt_refxml.date_2015-07-25.2016-11-27.xml.gz",
         "SintecMedia.rpt_refxml.date_2015-07-25.2016-11-27.xml.gz",
         5377151,
         1677512260000
        ],
        [
         "dbfs:/mnt/ddscoursedatastorage/fwm-stb-data/refxml/SintecMedia.rpt_refxml.date_2015-07-26.2016-11-27.xml.gz",
         "SintecMedia.rpt_refxml.date_2015-07-26.2016-11-27.xml.gz",
         5377224,
         1677512271000
        ],
        [
         "dbfs:/mnt/ddscoursedatastorage/fwm-stb-data/refxml/SintecMedia.rpt_refxml.date_2015-07-27.2016-11-27.xml.gz",
         "SintecMedia.rpt_refxml.date_2015-07-27.2016-11-27.xml.gz",
         5378813,
         1677512262000
        ],
        [
         "dbfs:/mnt/ddscoursedatastorage/fwm-stb-data/refxml/SintecMedia.rpt_refxml.date_2015-07-28.2016-11-27.xml.gz",
         "SintecMedia.rpt_refxml.date_2015-07-28.2016-11-27.xml.gz",
         5378944,
         1677512264000
        ],
        [
         "dbfs:/mnt/ddscoursedatastorage/fwm-stb-data/refxml/SintecMedia.rpt_refxml.date_2015-07-29.2016-11-27.xml.gz",
         "SintecMedia.rpt_refxml.date_2015-07-29.2016-11-27.xml.gz",
         5377983,
         1677512260000
        ],
        [
         "dbfs:/mnt/ddscoursedatastorage/fwm-stb-data/refxml/SintecMedia.rpt_refxml.date_2015-07-30.2016-11-27.xml.gz",
         "SintecMedia.rpt_refxml.date_2015-07-30.2016-11-27.xml.gz",
         5378850,
         1677512259000
        ],
        [
         "dbfs:/mnt/ddscoursedatastorage/fwm-stb-data/refxml/SintecMedia.rpt_refxml.date_2015-07-31.2016-11-27.xml.gz",
         "SintecMedia.rpt_refxml.date_2015-07-31.2016-11-27.xml.gz",
         5379161,
         1677512264000
        ],
        [
         "dbfs:/mnt/ddscoursedatastorage/fwm-stb-data/refxml/SintecMedia.rpt_refxml.date_2015-08-01.2016-11-27.xml.gz",
         "SintecMedia.rpt_refxml.date_2015-08-01.2016-11-27.xml.gz",
         5379714,
         1677512271000
        ],
        [
         "dbfs:/mnt/ddscoursedatastorage/fwm-stb-data/refxml/SintecMedia.rpt_refxml.date_2015-08-02.2016-11-27.xml.gz",
         "SintecMedia.rpt_refxml.date_2015-08-02.2016-11-27.xml.gz",
         5379901,
         1677512259000
        ],
        [
         "dbfs:/mnt/ddscoursedatastorage/fwm-stb-data/refxml/SintecMedia.rpt_refxml.date_2015-08-03.2016-11-27.xml.gz",
         "SintecMedia.rpt_refxml.date_2015-08-03.2016-11-27.xml.gz",
         5380785,
         1677512248000
        ],
        [
         "dbfs:/mnt/ddscoursedatastorage/fwm-stb-data/refxml/SintecMedia.rpt_refxml.date_2015-08-04.2016-11-27.xml.gz",
         "SintecMedia.rpt_refxml.date_2015-08-04.2016-11-27.xml.gz",
         5381021,
         1677512254000
        ],
        [
         "dbfs:/mnt/ddscoursedatastorage/fwm-stb-data/refxml/SintecMedia.rpt_refxml.date_2015-08-05.2016-11-27.xml.gz",
         "SintecMedia.rpt_refxml.date_2015-08-05.2016-11-27.xml.gz",
         5381312,
         1677512267000
        ],
        [
         "dbfs:/mnt/ddscoursedatastorage/fwm-stb-data/refxml/SintecMedia.rpt_refxml.date_2015-08-06.2016-11-27.xml.gz",
         "SintecMedia.rpt_refxml.date_2015-08-06.2016-11-27.xml.gz",
         5340799,
         1677512266000
        ],
        [
         "dbfs:/mnt/ddscoursedatastorage/fwm-stb-data/refxml/SintecMedia.rpt_refxml.date_2015-08-07.2016-11-27.xml.gz",
         "SintecMedia.rpt_refxml.date_2015-08-07.2016-11-27.xml.gz",
         5341070,
         1677512270000
        ],
        [
         "dbfs:/mnt/ddscoursedatastorage/fwm-stb-data/refxml/SintecMedia.rpt_refxml.date_2015-08-08.2016-11-27.xml.gz",
         "SintecMedia.rpt_refxml.date_2015-08-08.2016-11-27.xml.gz",
         5213794,
         1677512259000
        ],
        [
         "dbfs:/mnt/ddscoursedatastorage/fwm-stb-data/refxml/SintecMedia.rpt_refxml.date_2015-08-09.2016-11-27.xml.gz",
         "SintecMedia.rpt_refxml.date_2015-08-09.2016-11-27.xml.gz",
         5341159,
         1677512267000
        ],
        [
         "dbfs:/mnt/ddscoursedatastorage/fwm-stb-data/refxml/SintecMedia.rpt_refxml.date_2015-08-10.2016-11-27.xml.gz",
         "SintecMedia.rpt_refxml.date_2015-08-10.2016-11-27.xml.gz",
         5343206,
         1677512251000
        ],
        [
         "dbfs:/mnt/ddscoursedatastorage/fwm-stb-data/refxml/SintecMedia.rpt_refxml.date_2015-08-11.2016-11-27.xml.gz",
         "SintecMedia.rpt_refxml.date_2015-08-11.2016-11-27.xml.gz",
         5343243,
         1677512256000
        ],
        [
         "dbfs:/mnt/ddscoursedatastorage/fwm-stb-data/refxml/SintecMedia.rpt_refxml.date_2015-08-12.2016-11-27.xml.gz",
         "SintecMedia.rpt_refxml.date_2015-08-12.2016-11-27.xml.gz",
         5344009,
         1677512270000
        ],
        [
         "dbfs:/mnt/ddscoursedatastorage/fwm-stb-data/refxml/SintecMedia.rpt_refxml.date_2015-08-13.2016-11-27.xml.gz",
         "SintecMedia.rpt_refxml.date_2015-08-13.2016-11-27.xml.gz",
         5343921,
         1677512255000
        ],
        [
         "dbfs:/mnt/ddscoursedatastorage/fwm-stb-data/refxml/SintecMedia.rpt_refxml.date_2015-08-14.2016-11-27.xml.gz",
         "SintecMedia.rpt_refxml.date_2015-08-14.2016-11-27.xml.gz",
         5343858,
         1677512266000
        ],
        [
         "dbfs:/mnt/ddscoursedatastorage/fwm-stb-data/refxml/SintecMedia.rpt_refxml.date_2015-08-15.2016-11-27.xml.gz",
         "SintecMedia.rpt_refxml.date_2015-08-15.2016-11-27.xml.gz",
         5343972,
         1677512257000
        ],
        [
         "dbfs:/mnt/ddscoursedatastorage/fwm-stb-data/refxml/SintecMedia.rpt_refxml.date_2015-08-16.2016-11-27.xml.gz",
         "SintecMedia.rpt_refxml.date_2015-08-16.2016-11-27.xml.gz",
         5343940,
         1677512266000
        ],
        [
         "dbfs:/mnt/ddscoursedatastorage/fwm-stb-data/refxml/SintecMedia.rpt_refxml.date_2015-08-17.2016-11-27.xml.gz",
         "SintecMedia.rpt_refxml.date_2015-08-17.2016-11-27.xml.gz",
         5345101,
         1677512260000
        ],
        [
         "dbfs:/mnt/ddscoursedatastorage/fwm-stb-data/refxml/SintecMedia.rpt_refxml.date_2015-08-18.2016-11-27.xml.gz",
         "SintecMedia.rpt_refxml.date_2015-08-18.2016-11-27.xml.gz",
         5346467,
         1677512264000
        ],
        [
         "dbfs:/mnt/ddscoursedatastorage/fwm-stb-data/refxml/SintecMedia.rpt_refxml.date_2015-08-19.2016-11-27.xml.gz",
         "SintecMedia.rpt_refxml.date_2015-08-19.2016-11-27.xml.gz",
         5346605,
         1677512259000
        ],
        [
         "dbfs:/mnt/ddscoursedatastorage/fwm-stb-data/refxml/SintecMedia.rpt_refxml.date_2015-08-20.2016-11-27.xml.gz",
         "SintecMedia.rpt_refxml.date_2015-08-20.2016-11-27.xml.gz",
         5347265,
         1677512260000
        ],
        [
         "dbfs:/mnt/ddscoursedatastorage/fwm-stb-data/refxml/SintecMedia.rpt_refxml.date_2015-08-21.2016-11-27.xml.gz",
         "SintecMedia.rpt_refxml.date_2015-08-21.2016-11-27.xml.gz",
         5347420,
         1677512261000
        ],
        [
         "dbfs:/mnt/ddscoursedatastorage/fwm-stb-data/refxml/SintecMedia.rpt_refxml.date_2015-08-22.2016-11-27.xml.gz",
         "SintecMedia.rpt_refxml.date_2015-08-22.2016-11-27.xml.gz",
         5347603,
         1677512266000
        ],
        [
         "dbfs:/mnt/ddscoursedatastorage/fwm-stb-data/refxml/SintecMedia.rpt_refxml.date_2015-08-23.2016-11-27.xml.gz",
         "SintecMedia.rpt_refxml.date_2015-08-23.2016-11-27.xml.gz",
         5347475,
         1677512257000
        ],
        [
         "dbfs:/mnt/ddscoursedatastorage/fwm-stb-data/refxml/SintecMedia.rpt_refxml.date_2015-08-24.2016-11-27.xml.gz",
         "SintecMedia.rpt_refxml.date_2015-08-24.2016-11-27.xml.gz",
         5348169,
         1677512253000
        ],
        [
         "dbfs:/mnt/ddscoursedatastorage/fwm-stb-data/refxml/SintecMedia.rpt_refxml.date_2015-08-25.2016-11-27.xml.gz",
         "SintecMedia.rpt_refxml.date_2015-08-25.2016-11-27.xml.gz",
         5348311,
         1677512249000
        ],
        [
         "dbfs:/mnt/ddscoursedatastorage/fwm-stb-data/refxml/SintecMedia.rpt_refxml.date_2015-08-26.2016-11-27.xml.gz",
         "SintecMedia.rpt_refxml.date_2015-08-26.2016-11-27.xml.gz",
         5349508,
         1677512271000
        ],
        [
         "dbfs:/mnt/ddscoursedatastorage/fwm-stb-data/refxml/SintecMedia.rpt_refxml.date_2015-08-27.2016-11-27.xml.gz",
         "SintecMedia.rpt_refxml.date_2015-08-27.2016-11-27.xml.gz",
         5349924,
         1677512254000
        ],
        [
         "dbfs:/mnt/ddscoursedatastorage/fwm-stb-data/refxml/SintecMedia.rpt_refxml.date_2015-08-28.2016-11-27.xml.gz",
         "SintecMedia.rpt_refxml.date_2015-08-28.2016-11-27.xml.gz",
         5350273,
         1677512258000
        ],
        [
         "dbfs:/mnt/ddscoursedatastorage/fwm-stb-data/refxml/SintecMedia.rpt_refxml.date_2015-08-29.2016-11-27.xml.gz",
         "SintecMedia.rpt_refxml.date_2015-08-29.2016-11-27.xml.gz",
         5350293,
         1677512264000
        ],
        [
         "dbfs:/mnt/ddscoursedatastorage/fwm-stb-data/refxml/SintecMedia.rpt_refxml.date_2015-08-30.2016-11-27.xml.gz",
         "SintecMedia.rpt_refxml.date_2015-08-30.2016-11-27.xml.gz",
         5350466,
         1677512267000
        ],
        [
         "dbfs:/mnt/ddscoursedatastorage/fwm-stb-data/refxml/SintecMedia.rpt_refxml.date_2015-08-31.2016-11-27.xml.gz",
         "SintecMedia.rpt_refxml.date_2015-08-31.2016-11-27.xml.gz",
         5392402,
         1677512267000
        ],
        [
         "dbfs:/mnt/ddscoursedatastorage/fwm-stb-data/refxml/SintecMedia.rpt_refxml.date_2015-09-01.2016-11-27.xml.gz",
         "SintecMedia.rpt_refxml.date_2015-09-01.2016-11-27.xml.gz",
         5392734,
         1677512267000
        ],
        [
         "dbfs:/mnt/ddscoursedatastorage/fwm-stb-data/refxml/SintecMedia.rpt_refxml.date_2015-09-02.2016-11-27.xml.gz",
         "SintecMedia.rpt_refxml.date_2015-09-02.2016-11-27.xml.gz",
         5393508,
         1677512271000
        ],
        [
         "dbfs:/mnt/ddscoursedatastorage/fwm-stb-data/refxml/SintecMedia.rpt_refxml.date_2015-09-03.2016-11-27.xml.gz",
         "SintecMedia.rpt_refxml.date_2015-09-03.2016-11-27.xml.gz",
         5393692,
         1677512262000
        ],
        [
         "dbfs:/mnt/ddscoursedatastorage/fwm-stb-data/refxml/SintecMedia.rpt_refxml.date_2015-09-04.2016-11-27.xml.gz",
         "SintecMedia.rpt_refxml.date_2015-09-04.2016-11-27.xml.gz",
         5393724,
         1677512251000
        ],
        [
         "dbfs:/mnt/ddscoursedatastorage/fwm-stb-data/refxml/SintecMedia.rpt_refxml.date_2015-09-05.2016-11-27.xml.gz",
         "SintecMedia.rpt_refxml.date_2015-09-05.2016-11-27.xml.gz",
         5393828,
         1677512254000
        ],
        [
         "dbfs:/mnt/ddscoursedatastorage/fwm-stb-data/refxml/SintecMedia.rpt_refxml.date_2015-09-06.2016-11-28.xml.gz",
         "SintecMedia.rpt_refxml.date_2015-09-06.2016-11-28.xml.gz",
         5393853,
         1677512267000
        ],
        [
         "dbfs:/mnt/ddscoursedatastorage/fwm-stb-data/refxml/SintecMedia.rpt_refxml.date_2015-09-07.2016-11-28.xml.gz",
         "SintecMedia.rpt_refxml.date_2015-09-07.2016-11-28.xml.gz",
         5394407,
         1677512271000
        ],
        [
         "dbfs:/mnt/ddscoursedatastorage/fwm-stb-data/refxml/SintecMedia.rpt_refxml.date_2015-09-08.2016-11-28.xml.gz",
         "SintecMedia.rpt_refxml.date_2015-09-08.2016-11-28.xml.gz",
         5395920,
         1677512256000
        ],
        [
         "dbfs:/mnt/ddscoursedatastorage/fwm-stb-data/refxml/SintecMedia.rpt_refxml.date_2015-09-09.2016-11-28.xml.gz",
         "SintecMedia.rpt_refxml.date_2015-09-09.2016-11-28.xml.gz",
         5396275,
         1677512265000
        ],
        [
         "dbfs:/mnt/ddscoursedatastorage/fwm-stb-data/refxml/SintecMedia.rpt_refxml.date_2015-09-10.2016-11-28.xml.gz",
         "SintecMedia.rpt_refxml.date_2015-09-10.2016-11-28.xml.gz",
         5396351,
         1677512253000
        ],
        [
         "dbfs:/mnt/ddscoursedatastorage/fwm-stb-data/refxml/SintecMedia.rpt_refxml.date_2015-09-11.2016-11-28.xml.gz",
         "SintecMedia.rpt_refxml.date_2015-09-11.2016-11-28.xml.gz",
         5396492,
         1677512265000
        ],
        [
         "dbfs:/mnt/ddscoursedatastorage/fwm-stb-data/refxml/SintecMedia.rpt_refxml.date_2015-09-12.2016-11-28.xml.gz",
         "SintecMedia.rpt_refxml.date_2015-09-12.2016-11-28.xml.gz",
         5397024,
         1677512264000
        ],
        [
         "dbfs:/mnt/ddscoursedatastorage/fwm-stb-data/refxml/SintecMedia.rpt_refxml.date_2015-09-13.2016-11-28.xml.gz",
         "SintecMedia.rpt_refxml.date_2015-09-13.2016-11-28.xml.gz",
         5396917,
         1677512268000
        ],
        [
         "dbfs:/mnt/ddscoursedatastorage/fwm-stb-data/refxml/SintecMedia.rpt_refxml.date_2015-09-14.2016-11-28.xml.gz",
         "SintecMedia.rpt_refxml.date_2015-09-14.2016-11-28.xml.gz",
         5396917,
         1677512259000
        ],
        [
         "dbfs:/mnt/ddscoursedatastorage/fwm-stb-data/refxml/SintecMedia.rpt_refxml.date_2015-09-15.2016-11-28.xml.gz",
         "SintecMedia.rpt_refxml.date_2015-09-15.2016-11-28.xml.gz",
         5396917,
         1677512265000
        ],
        [
         "dbfs:/mnt/ddscoursedatastorage/fwm-stb-data/refxml/SintecMedia.rpt_refxml.date_2015-09-16.2016-11-28.xml.gz",
         "SintecMedia.rpt_refxml.date_2015-09-16.2016-11-28.xml.gz",
         5396917,
         1677512245000
        ],
        [
         "dbfs:/mnt/ddscoursedatastorage/fwm-stb-data/refxml/SintecMedia.rpt_refxml.date_2015-09-17.2016-11-28.xml.gz",
         "SintecMedia.rpt_refxml.date_2015-09-17.2016-11-28.xml.gz",
         5396917,
         1677512264000
        ],
        [
         "dbfs:/mnt/ddscoursedatastorage/fwm-stb-data/refxml/SintecMedia.rpt_refxml.date_2015-09-18.2016-11-28.xml.gz",
         "SintecMedia.rpt_refxml.date_2015-09-18.2016-11-28.xml.gz",
         5396917,
         1677512249000
        ],
        [
         "dbfs:/mnt/ddscoursedatastorage/fwm-stb-data/refxml/SintecMedia.rpt_refxml.date_2015-09-19.2016-11-28.xml.gz",
         "SintecMedia.rpt_refxml.date_2015-09-19.2016-11-28.xml.gz",
         5396917,
         1677512270000
        ],
        [
         "dbfs:/mnt/ddscoursedatastorage/fwm-stb-data/refxml/SintecMedia.rpt_refxml.date_2015-09-20.2016-11-28.xml.gz",
         "SintecMedia.rpt_refxml.date_2015-09-20.2016-11-28.xml.gz",
         5396917,
         1677512264000
        ],
        [
         "dbfs:/mnt/ddscoursedatastorage/fwm-stb-data/refxml/SintecMedia.rpt_refxml.date_2015-09-21.2016-11-28.xml.gz",
         "SintecMedia.rpt_refxml.date_2015-09-21.2016-11-28.xml.gz",
         5396917,
         1677512253000
        ],
        [
         "dbfs:/mnt/ddscoursedatastorage/fwm-stb-data/refxml/SintecMedia.rpt_refxml.date_2015-09-22.2016-11-28.xml.gz",
         "SintecMedia.rpt_refxml.date_2015-09-22.2016-11-28.xml.gz",
         5401585,
         1677512265000
        ],
        [
         "dbfs:/mnt/ddscoursedatastorage/fwm-stb-data/refxml/SintecMedia.rpt_refxml.date_2015-09-23.2016-11-28.xml.gz",
         "SintecMedia.rpt_refxml.date_2015-09-23.2016-11-28.xml.gz",
         5401705,
         1677512265000
        ],
        [
         "dbfs:/mnt/ddscoursedatastorage/fwm-stb-data/refxml/SintecMedia.rpt_refxml.date_2015-09-24.2016-11-28.xml.gz",
         "SintecMedia.rpt_refxml.date_2015-09-24.2016-11-28.xml.gz",
         5402738,
         1677512267000
        ],
        [
         "dbfs:/mnt/ddscoursedatastorage/fwm-stb-data/refxml/SintecMedia.rpt_refxml.date_2015-09-25.2016-11-28.xml.gz",
         "SintecMedia.rpt_refxml.date_2015-09-25.2016-11-28.xml.gz",
         5403054,
         1677512267000
        ],
        [
         "dbfs:/mnt/ddscoursedatastorage/fwm-stb-data/refxml/SintecMedia.rpt_refxml.date_2015-09-26.2016-11-28.xml.gz",
         "SintecMedia.rpt_refxml.date_2015-09-26.2016-11-28.xml.gz",
         5403397,
         1677512264000
        ],
        [
         "dbfs:/mnt/ddscoursedatastorage/fwm-stb-data/refxml/SintecMedia.rpt_refxml.date_2015-09-27.2016-11-28.xml.gz",
         "SintecMedia.rpt_refxml.date_2015-09-27.2016-11-28.xml.gz",
         5403395,
         1677512259000
        ],
        [
         "dbfs:/mnt/ddscoursedatastorage/fwm-stb-data/refxml/SintecMedia.rpt_refxml.date_2015-09-28.2016-11-28.xml.gz",
         "SintecMedia.rpt_refxml.date_2015-09-28.2016-11-28.xml.gz",
         5404779,
         1677512269000
        ],
        [
         "dbfs:/mnt/ddscoursedatastorage/fwm-stb-data/refxml/SintecMedia.rpt_refxml.date_2015-09-29.2016-11-28.xml.gz",
         "SintecMedia.rpt_refxml.date_2015-09-29.2016-11-28.xml.gz",
         5408895,
         1677512255000
        ],
        [
         "dbfs:/mnt/ddscoursedatastorage/fwm-stb-data/refxml/SintecMedia.rpt_refxml.date_2015-09-30.2016-11-28.xml.gz",
         "SintecMedia.rpt_refxml.date_2015-09-30.2016-11-28.xml.gz",
         5431742,
         1677512271000
        ],
        [
         "dbfs:/mnt/ddscoursedatastorage/fwm-stb-data/refxml/SintecMedia.rpt_refxml.date_2015-10-01.2016-11-28.xml.gz",
         "SintecMedia.rpt_refxml.date_2015-10-01.2016-11-28.xml.gz",
         5432396,
         1677512269000
        ],
        [
         "dbfs:/mnt/ddscoursedatastorage/fwm-stb-data/refxml/SintecMedia.rpt_refxml.date_2015-10-02.2016-11-28.xml.gz",
         "SintecMedia.rpt_refxml.date_2015-10-02.2016-11-28.xml.gz",
         5431586,
         1677512259000
        ],
        [
         "dbfs:/mnt/ddscoursedatastorage/fwm-stb-data/refxml/SintecMedia.rpt_refxml.date_2015-10-03.2016-11-28.xml.gz",
         "SintecMedia.rpt_refxml.date_2015-10-03.2016-11-28.xml.gz",
         5431546,
         1677512257000
        ],
        [
         "dbfs:/mnt/ddscoursedatastorage/fwm-stb-data/refxml/SintecMedia.rpt_refxml.date_2015-10-04.2016-11-28.xml.gz",
         "SintecMedia.rpt_refxml.date_2015-10-04.2016-11-28.xml.gz",
         5431568,
         1677512264000
        ],
        [
         "dbfs:/mnt/ddscoursedatastorage/fwm-stb-data/refxml/SintecMedia.rpt_refxml.date_2015-10-05.2016-11-28.xml.gz",
         "SintecMedia.rpt_refxml.date_2015-10-05.2016-11-28.xml.gz",
         5426314,
         1677512270000
        ],
        [
         "dbfs:/mnt/ddscoursedatastorage/fwm-stb-data/refxml/SintecMedia.rpt_refxml.date_2015-10-06.2016-11-28.xml.gz",
         "SintecMedia.rpt_refxml.date_2015-10-06.2016-11-28.xml.gz",
         5425714,
         1677512269000
        ],
        [
         "dbfs:/mnt/ddscoursedatastorage/fwm-stb-data/refxml/SintecMedia.rpt_refxml.date_2015-10-07.2016-11-28.xml.gz",
         "SintecMedia.rpt_refxml.date_2015-10-07.2016-11-28.xml.gz",
         5425143,
         1677512258000
        ],
        [
         "dbfs:/mnt/ddscoursedatastorage/fwm-stb-data/refxml/SintecMedia.rpt_refxml.date_2015-10-08.2016-11-28.xml.gz",
         "SintecMedia.rpt_refxml.date_2015-10-08.2016-11-28.xml.gz",
         5424908,
         1677512261000
        ],
        [
         "dbfs:/mnt/ddscoursedatastorage/fwm-stb-data/refxml/SintecMedia.rpt_refxml.date_2015-10-09.2016-11-28.xml.gz",
         "SintecMedia.rpt_refxml.date_2015-10-09.2016-11-28.xml.gz",
         5424314,
         1677512261000
        ],
        [
         "dbfs:/mnt/ddscoursedatastorage/fwm-stb-data/refxml/SintecMedia.rpt_refxml.date_2015-10-10.2016-11-28.xml.gz",
         "SintecMedia.rpt_refxml.date_2015-10-10.2016-11-28.xml.gz",
         5409388,
         1677512264000
        ],
        [
         "dbfs:/mnt/ddscoursedatastorage/fwm-stb-data/refxml/SintecMedia.rpt_refxml.date_2015-10-11.2016-11-28.xml.gz",
         "SintecMedia.rpt_refxml.date_2015-10-11.2016-11-28.xml.gz",
         5409258,
         1677512258000
        ],
        [
         "dbfs:/mnt/ddscoursedatastorage/fwm-stb-data/refxml/SintecMedia.rpt_refxml.date_2015-10-12.2016-11-28.xml.gz",
         "SintecMedia.rpt_refxml.date_2015-10-12.2016-11-28.xml.gz",
         5406519,
         1677512257000
        ],
        [
         "dbfs:/mnt/ddscoursedatastorage/fwm-stb-data/refxml/SintecMedia.rpt_refxml.date_2015-10-13.2016-11-28.xml.gz",
         "SintecMedia.rpt_refxml.date_2015-10-13.2016-11-28.xml.gz",
         5404707,
         1677512262000
        ],
        [
         "dbfs:/mnt/ddscoursedatastorage/fwm-stb-data/refxml/SintecMedia.rpt_refxml.date_2015-10-14.2016-11-28.xml.gz",
         "SintecMedia.rpt_refxml.date_2015-10-14.2016-11-28.xml.gz",
         5387864,
         1677512264000
        ],
        [
         "dbfs:/mnt/ddscoursedatastorage/fwm-stb-data/refxml/SintecMedia.rpt_refxml.date_2015-10-15.2016-11-28.xml.gz",
         "SintecMedia.rpt_refxml.date_2015-10-15.2016-11-28.xml.gz",
         5387314,
         1677512265000
        ],
        [
         "dbfs:/mnt/ddscoursedatastorage/fwm-stb-data/refxml/SintecMedia.rpt_refxml.date_2015-10-16.2016-11-28.xml.gz",
         "SintecMedia.rpt_refxml.date_2015-10-16.2016-11-28.xml.gz",
         5386356,
         1677512264000
        ],
        [
         "dbfs:/mnt/ddscoursedatastorage/fwm-stb-data/refxml/SintecMedia.rpt_refxml.date_2015-10-17.2016-11-28.xml.gz",
         "SintecMedia.rpt_refxml.date_2015-10-17.2016-11-28.xml.gz",
         5386053,
         1677512261000
        ],
        [
         "dbfs:/mnt/ddscoursedatastorage/fwm-stb-data/refxml/SintecMedia.rpt_refxml.date_2015-10-18.2016-11-28.xml.gz",
         "SintecMedia.rpt_refxml.date_2015-10-18.2016-11-28.xml.gz",
         5385820,
         1677512266000
        ],
        [
         "dbfs:/mnt/ddscoursedatastorage/fwm-stb-data/refxml/SintecMedia.rpt_refxml.date_2015-10-19.2016-11-28.xml.gz",
         "SintecMedia.rpt_refxml.date_2015-10-19.2016-11-28.xml.gz",
         5383197,
         1677512258000
        ],
        [
         "dbfs:/mnt/ddscoursedatastorage/fwm-stb-data/refxml/SintecMedia.rpt_refxml.date_2015-10-20.2016-11-28.xml.gz",
         "SintecMedia.rpt_refxml.date_2015-10-20.2016-11-28.xml.gz",
         5381371,
         1677512252000
        ],
        [
         "dbfs:/mnt/ddscoursedatastorage/fwm-stb-data/refxml/SintecMedia.rpt_refxml.date_2015-10-21.2016-11-28.xml.gz",
         "SintecMedia.rpt_refxml.date_2015-10-21.2016-11-28.xml.gz",
         5379047,
         1677512259000
        ],
        [
         "dbfs:/mnt/ddscoursedatastorage/fwm-stb-data/refxml/SintecMedia.rpt_refxml.date_2015-10-22.2016-11-28.xml.gz",
         "SintecMedia.rpt_refxml.date_2015-10-22.2016-11-28.xml.gz",
         5371639,
         1677512261000
        ],
        [
         "dbfs:/mnt/ddscoursedatastorage/fwm-stb-data/refxml/SintecMedia.rpt_refxml.date_2015-10-23.2016-11-28.xml.gz",
         "SintecMedia.rpt_refxml.date_2015-10-23.2016-11-28.xml.gz",
         5371476,
         1677512259000
        ],
        [
         "dbfs:/mnt/ddscoursedatastorage/fwm-stb-data/refxml/SintecMedia.rpt_refxml.date_2015-10-24.2016-11-28.xml.gz",
         "SintecMedia.rpt_refxml.date_2015-10-24.2016-11-28.xml.gz",
         5371192,
         1677512257000
        ],
        [
         "dbfs:/mnt/ddscoursedatastorage/fwm-stb-data/refxml/SintecMedia.rpt_refxml.date_2015-10-25.2016-11-28.xml.gz",
         "SintecMedia.rpt_refxml.date_2015-10-25.2016-11-28.xml.gz",
         5371009,
         1677512248000
        ],
        [
         "dbfs:/mnt/ddscoursedatastorage/fwm-stb-data/refxml/SintecMedia.rpt_refxml.date_2015-10-26.2016-11-28.xml.gz",
         "SintecMedia.rpt_refxml.date_2015-10-26.2016-11-28.xml.gz",
         5368956,
         1677512263000
        ],
        [
         "dbfs:/mnt/ddscoursedatastorage/fwm-stb-data/refxml/SintecMedia.rpt_refxml.date_2015-10-27.2016-11-28.xml.gz",
         "SintecMedia.rpt_refxml.date_2015-10-27.2016-11-28.xml.gz",
         5368487,
         1677512268000
        ],
        [
         "dbfs:/mnt/ddscoursedatastorage/fwm-stb-data/refxml/SintecMedia.rpt_refxml.date_2015-10-28.2016-11-28.xml.gz",
         "SintecMedia.rpt_refxml.date_2015-10-28.2016-11-28.xml.gz",
         5362451,
         1677512258000
        ],
        [
         "dbfs:/mnt/ddscoursedatastorage/fwm-stb-data/refxml/SintecMedia.rpt_refxml.date_2015-10-29.2016-11-28.xml.gz",
         "SintecMedia.rpt_refxml.date_2015-10-29.2016-11-28.xml.gz",
         5362007,
         1677512259000
        ],
        [
         "dbfs:/mnt/ddscoursedatastorage/fwm-stb-data/refxml/SintecMedia.rpt_refxml.date_2015-10-30.2016-11-28.xml.gz",
         "SintecMedia.rpt_refxml.date_2015-10-30.2016-11-28.xml.gz",
         5360896,
         1677512266000
        ],
        [
         "dbfs:/mnt/ddscoursedatastorage/fwm-stb-data/refxml/SintecMedia.rpt_refxml.date_2015-10-31.2016-11-28.xml.gz",
         "SintecMedia.rpt_refxml.date_2015-10-31.2016-11-28.xml.gz",
         5360296,
         1677512269000
        ],
        [
         "dbfs:/mnt/ddscoursedatastorage/fwm-stb-data/refxml/SintecMedia.rpt_refxml.date_2015-11-01.2016-11-28.xml.gz",
         "SintecMedia.rpt_refxml.date_2015-11-01.2016-11-28.xml.gz",
         5359881,
         1677512260000
        ],
        [
         "dbfs:/mnt/ddscoursedatastorage/fwm-stb-data/refxml/SintecMedia.rpt_refxml.date_2015-11-02.2016-11-28.xml.gz",
         "SintecMedia.rpt_refxml.date_2015-11-02.2016-11-28.xml.gz",
         5451304,
         1677512260000
        ],
        [
         "dbfs:/mnt/ddscoursedatastorage/fwm-stb-data/refxml/SintecMedia.rpt_refxml.date_2015-11-03.2016-11-28.xml.gz",
         "SintecMedia.rpt_refxml.date_2015-11-03.2016-11-28.xml.gz",
         5450717,
         1677512256000
        ],
        [
         "dbfs:/mnt/ddscoursedatastorage/fwm-stb-data/refxml/SintecMedia.rpt_refxml.date_2015-11-04.2016-11-28.xml.gz",
         "SintecMedia.rpt_refxml.date_2015-11-04.2016-11-28.xml.gz",
         5450652,
         1677512265000
        ],
        [
         "dbfs:/mnt/ddscoursedatastorage/fwm-stb-data/refxml/SintecMedia.rpt_refxml.date_2015-11-05.2016-11-28.xml.gz",
         "SintecMedia.rpt_refxml.date_2015-11-05.2016-11-28.xml.gz",
         5447257,
         1677512257000
        ],
        [
         "dbfs:/mnt/ddscoursedatastorage/fwm-stb-data/refxml/SintecMedia.rpt_refxml.date_2015-11-06.2016-11-28.xml.gz",
         "SintecMedia.rpt_refxml.date_2015-11-06.2016-11-28.xml.gz",
         5446582,
         1677512271000
        ],
        [
         "dbfs:/mnt/ddscoursedatastorage/fwm-stb-data/refxml/SintecMedia.rpt_refxml.date_2015-11-07.2016-11-28.xml.gz",
         "SintecMedia.rpt_refxml.date_2015-11-07.2016-11-28.xml.gz",
         5446260,
         1677512264000
        ],
        [
         "dbfs:/mnt/ddscoursedatastorage/fwm-stb-data/refxml/SintecMedia.rpt_refxml.date_2015-11-08.2016-11-29.xml.gz",
         "SintecMedia.rpt_refxml.date_2015-11-08.2016-11-29.xml.gz",
         5446240,
         1677512257000
        ],
        [
         "dbfs:/mnt/ddscoursedatastorage/fwm-stb-data/refxml/SintecMedia.rpt_refxml.date_2015-11-09.2016-11-29.xml.gz",
         "SintecMedia.rpt_refxml.date_2015-11-09.2016-11-29.xml.gz",
         5443310,
         1677512263000
        ],
        [
         "dbfs:/mnt/ddscoursedatastorage/fwm-stb-data/refxml/SintecMedia.rpt_refxml.date_2015-11-10.2016-11-29.xml.gz",
         "SintecMedia.rpt_refxml.date_2015-11-10.2016-11-29.xml.gz",
         5442681,
         1677512264000
        ],
        [
         "dbfs:/mnt/ddscoursedatastorage/fwm-stb-data/refxml/SintecMedia.rpt_refxml.date_2015-11-11.2016-11-29.xml.gz",
         "SintecMedia.rpt_refxml.date_2015-11-11.2016-11-29.xml.gz",
         5438119,
         1677512263000
        ],
        [
         "dbfs:/mnt/ddscoursedatastorage/fwm-stb-data/refxml/SintecMedia.rpt_refxml.date_2015-11-12.2016-11-29.xml.gz",
         "SintecMedia.rpt_refxml.date_2015-11-12.2016-11-29.xml.gz",
         5437883,
         1677512264000
        ],
        [
         "dbfs:/mnt/ddscoursedatastorage/fwm-stb-data/refxml/SintecMedia.rpt_refxml.date_2015-11-13.2016-11-29.xml.gz",
         "SintecMedia.rpt_refxml.date_2015-11-13.2016-11-29.xml.gz",
         5437494,
         1677512259000
        ],
        [
         "dbfs:/mnt/ddscoursedatastorage/fwm-stb-data/refxml/SintecMedia.rpt_refxml.date_2015-11-14.2016-11-29.xml.gz",
         "SintecMedia.rpt_refxml.date_2015-11-14.2016-11-29.xml.gz",
         5436932,
         1677512267000
        ],
        [
         "dbfs:/mnt/ddscoursedatastorage/fwm-stb-data/refxml/SintecMedia.rpt_refxml.date_2015-11-15.2016-11-29.xml.gz",
         "SintecMedia.rpt_refxml.date_2015-11-15.2016-11-29.xml.gz",
         5426600,
         1677512268000
        ],
        [
         "dbfs:/mnt/ddscoursedatastorage/fwm-stb-data/refxml/SintecMedia.rpt_refxml.date_2015-11-16.2016-11-29.xml.gz",
         "SintecMedia.rpt_refxml.date_2015-11-16.2016-11-29.xml.gz",
         5423497,
         1677512260000
        ],
        [
         "dbfs:/mnt/ddscoursedatastorage/fwm-stb-data/refxml/SintecMedia.rpt_refxml.date_2015-11-17.2016-11-29.xml.gz",
         "SintecMedia.rpt_refxml.date_2015-11-17.2016-11-29.xml.gz",
         5423221,
         1677512259000
        ],
        [
         "dbfs:/mnt/ddscoursedatastorage/fwm-stb-data/refxml/SintecMedia.rpt_refxml.date_2015-11-18.2016-11-29.xml.gz",
         "SintecMedia.rpt_refxml.date_2015-11-18.2016-11-29.xml.gz",
         5417167,
         1677512249000
        ],
        [
         "dbfs:/mnt/ddscoursedatastorage/fwm-stb-data/refxml/SintecMedia.rpt_refxml.date_2015-11-19.2016-11-29.xml.gz",
         "SintecMedia.rpt_refxml.date_2015-11-19.2016-11-29.xml.gz",
         5416670,
         1677512255000
        ],
        [
         "dbfs:/mnt/ddscoursedatastorage/fwm-stb-data/refxml/SintecMedia.rpt_refxml.date_2015-11-20.2016-11-29.xml.gz",
         "SintecMedia.rpt_refxml.date_2015-11-20.2016-11-29.xml.gz",
         5416175,
         1677512267000
        ],
        [
         "dbfs:/mnt/ddscoursedatastorage/fwm-stb-data/refxml/SintecMedia.rpt_refxml.date_2015-11-21.2016-11-29.xml.gz",
         "SintecMedia.rpt_refxml.date_2015-11-21.2016-11-29.xml.gz",
         5415829,
         1677512271000
        ],
        [
         "dbfs:/mnt/ddscoursedatastorage/fwm-stb-data/refxml/SintecMedia.rpt_refxml.date_2015-11-22.2016-11-29.xml.gz",
         "SintecMedia.rpt_refxml.date_2015-11-22.2016-11-29.xml.gz",
         5415504,
         1677512258000
        ],
        [
         "dbfs:/mnt/ddscoursedatastorage/fwm-stb-data/refxml/SintecMedia.rpt_refxml.date_2015-11-23.2016-11-29.xml.gz",
         "SintecMedia.rpt_refxml.date_2015-11-23.2016-11-29.xml.gz",
         5413471,
         1677512266000
        ],
        [
         "dbfs:/mnt/ddscoursedatastorage/fwm-stb-data/refxml/SintecMedia.rpt_refxml.date_2015-11-24.2016-11-29.xml.gz",
         "SintecMedia.rpt_refxml.date_2015-11-24.2016-11-29.xml.gz",
         5412166,
         1677512264000
        ],
        [
         "dbfs:/mnt/ddscoursedatastorage/fwm-stb-data/refxml/SintecMedia.rpt_refxml.date_2015-11-25.2016-11-29.xml.gz",
         "SintecMedia.rpt_refxml.date_2015-11-25.2016-11-29.xml.gz",
         5406853,
         1677512267000
        ],
        [
         "dbfs:/mnt/ddscoursedatastorage/fwm-stb-data/refxml/SintecMedia.rpt_refxml.date_2015-11-26.2016-11-29.xml.gz",
         "SintecMedia.rpt_refxml.date_2015-11-26.2016-11-29.xml.gz",
         5406788,
         1677512262000
        ],
        [
         "dbfs:/mnt/ddscoursedatastorage/fwm-stb-data/refxml/SintecMedia.rpt_refxml.date_2015-11-27.2016-11-29.xml.gz",
         "SintecMedia.rpt_refxml.date_2015-11-27.2016-11-29.xml.gz",
         5406754,
         1677512258000
        ],
        [
         "dbfs:/mnt/ddscoursedatastorage/fwm-stb-data/refxml/SintecMedia.rpt_refxml.date_2015-11-28.2016-11-29.xml.gz",
         "SintecMedia.rpt_refxml.date_2015-11-28.2016-11-29.xml.gz",
         5406570,
         1677512262000
        ],
        [
         "dbfs:/mnt/ddscoursedatastorage/fwm-stb-data/refxml/SintecMedia.rpt_refxml.date_2015-11-29.2016-11-29.xml.gz",
         "SintecMedia.rpt_refxml.date_2015-11-29.2016-11-29.xml.gz",
         5406384,
         1677512260000
        ],
        [
         "dbfs:/mnt/ddscoursedatastorage/fwm-stb-data/refxml/SintecMedia.rpt_refxml.date_2015-11-30.2016-11-29.xml.gz",
         "SintecMedia.rpt_refxml.date_2015-11-30.2016-11-29.xml.gz",
         5404958,
         1677512264000
        ],
        [
         "dbfs:/mnt/ddscoursedatastorage/fwm-stb-data/refxml/SintecMedia.rpt_refxml.date_2015-12-01.2016-11-29.xml.gz",
         "SintecMedia.rpt_refxml.date_2015-12-01.2016-11-29.xml.gz",
         5403539,
         1677512253000
        ],
        [
         "dbfs:/mnt/ddscoursedatastorage/fwm-stb-data/refxml/SintecMedia.rpt_refxml.date_2015-12-02.2016-11-29.xml.gz",
         "SintecMedia.rpt_refxml.date_2015-12-02.2016-11-29.xml.gz",
         5403399,
         1677512260000
        ],
        [
         "dbfs:/mnt/ddscoursedatastorage/fwm-stb-data/refxml/SintecMedia.rpt_refxml.date_2015-12-03.2016-11-29.xml.gz",
         "SintecMedia.rpt_refxml.date_2015-12-03.2016-11-29.xml.gz",
         5402929,
         1677512248000
        ],
        [
         "dbfs:/mnt/ddscoursedatastorage/fwm-stb-data/refxml/SintecMedia.rpt_refxml.date_2015-12-04.2016-11-29.xml.gz",
         "SintecMedia.rpt_refxml.date_2015-12-04.2016-11-29.xml.gz",
         5401753,
         1677512232000
        ],
        [
         "dbfs:/mnt/ddscoursedatastorage/fwm-stb-data/refxml/SintecMedia.rpt_refxml.date_2015-12-05.2016-11-29.xml.gz",
         "SintecMedia.rpt_refxml.date_2015-12-05.2016-11-29.xml.gz",
         5401431,
         1677512266000
        ],
        [
         "dbfs:/mnt/ddscoursedatastorage/fwm-stb-data/refxml/SintecMedia.rpt_refxml.date_2015-12-06.2016-11-29.xml.gz",
         "SintecMedia.rpt_refxml.date_2015-12-06.2016-11-29.xml.gz",
         5401253,
         1677512263000
        ],
        [
         "dbfs:/mnt/ddscoursedatastorage/fwm-stb-data/refxml/SintecMedia.rpt_refxml.date_2015-12-07.2016-11-29.xml.gz",
         "SintecMedia.rpt_refxml.date_2015-12-07.2016-11-29.xml.gz",
         5398380,
         1677512267000
        ],
        [
         "dbfs:/mnt/ddscoursedatastorage/fwm-stb-data/refxml/SintecMedia.rpt_refxml.date_2015-12-08.2016-11-29.xml.gz",
         "SintecMedia.rpt_refxml.date_2015-12-08.2016-11-29.xml.gz",
         5397867,
         1677512268000
        ],
        [
         "dbfs:/mnt/ddscoursedatastorage/fwm-stb-data/refxml/SintecMedia.rpt_refxml.date_2015-12-09.2016-11-29.xml.gz",
         "SintecMedia.rpt_refxml.date_2015-12-09.2016-11-29.xml.gz",
         5389860,
         1677512263000
        ],
        [
         "dbfs:/mnt/ddscoursedatastorage/fwm-stb-data/refxml/SintecMedia.rpt_refxml.date_2015-12-10.2016-11-29.xml.gz",
         "SintecMedia.rpt_refxml.date_2015-12-10.2016-11-29.xml.gz",
         5389687,
         1677512263000
        ],
        [
         "dbfs:/mnt/ddscoursedatastorage/fwm-stb-data/refxml/SintecMedia.rpt_refxml.date_2015-12-11.2016-11-29.xml.gz",
         "SintecMedia.rpt_refxml.date_2015-12-11.2016-11-29.xml.gz",
         5389403,
         1677512270000
        ],
        [
         "dbfs:/mnt/ddscoursedatastorage/fwm-stb-data/refxml/SintecMedia.rpt_refxml.date_2015-12-12.2016-11-29.xml.gz",
         "SintecMedia.rpt_refxml.date_2015-12-12.2016-11-29.xml.gz",
         5389324,
         1677512265000
        ],
        [
         "dbfs:/mnt/ddscoursedatastorage/fwm-stb-data/refxml/SintecMedia.rpt_refxml.date_2015-12-13.2016-11-29.xml.gz",
         "SintecMedia.rpt_refxml.date_2015-12-13.2016-11-29.xml.gz",
         5389222,
         1677512257000
        ],
        [
         "dbfs:/mnt/ddscoursedatastorage/fwm-stb-data/refxml/SintecMedia.rpt_refxml.date_2015-12-14.2016-11-29.xml.gz",
         "SintecMedia.rpt_refxml.date_2015-12-14.2016-11-29.xml.gz",
         5386410,
         1677512267000
        ],
        [
         "dbfs:/mnt/ddscoursedatastorage/fwm-stb-data/refxml/SintecMedia.rpt_refxml.date_2015-12-15.2016-11-29.xml.gz",
         "SintecMedia.rpt_refxml.date_2015-12-15.2016-11-29.xml.gz",
         5385847,
         1677512266000
        ],
        [
         "dbfs:/mnt/ddscoursedatastorage/fwm-stb-data/refxml/SintecMedia.rpt_refxml.date_2015-12-16.2016-11-29.xml.gz",
         "SintecMedia.rpt_refxml.date_2015-12-16.2016-11-29.xml.gz",
         5383262,
         1677512267000
        ],
        [
         "dbfs:/mnt/ddscoursedatastorage/fwm-stb-data/refxml/SintecMedia.rpt_refxml.date_2015-12-17.2016-11-29.xml.gz",
         "SintecMedia.rpt_refxml.date_2015-12-17.2016-11-29.xml.gz",
         5382250,
         1677512262000
        ],
        [
         "dbfs:/mnt/ddscoursedatastorage/fwm-stb-data/refxml/SintecMedia.rpt_refxml.date_2015-12-18.2016-11-29.xml.gz",
         "SintecMedia.rpt_refxml.date_2015-12-18.2016-11-29.xml.gz",
         5382194,
         1677512266000
        ],
        [
         "dbfs:/mnt/ddscoursedatastorage/fwm-stb-data/refxml/SintecMedia.rpt_refxml.date_2015-12-19.2016-11-29.xml.gz",
         "SintecMedia.rpt_refxml.date_2015-12-19.2016-11-29.xml.gz",
         5381874,
         1677512262000
        ],
        [
         "dbfs:/mnt/ddscoursedatastorage/fwm-stb-data/refxml/SintecMedia.rpt_refxml.date_2015-12-20.2016-11-29.xml.gz",
         "SintecMedia.rpt_refxml.date_2015-12-20.2016-11-29.xml.gz",
         5381892,
         1677512253000
        ],
        [
         "dbfs:/mnt/ddscoursedatastorage/fwm-stb-data/refxml/SintecMedia.rpt_refxml.date_2015-12-21.2016-11-29.xml.gz",
         "SintecMedia.rpt_refxml.date_2015-12-21.2016-11-29.xml.gz",
         5378761,
         1677512266000
        ],
        [
         "dbfs:/mnt/ddscoursedatastorage/fwm-stb-data/refxml/SintecMedia.rpt_refxml.date_2015-12-22.2016-11-29.xml.gz",
         "SintecMedia.rpt_refxml.date_2015-12-22.2016-11-29.xml.gz",
         5378424,
         1677512266000
        ],
        [
         "dbfs:/mnt/ddscoursedatastorage/fwm-stb-data/refxml/SintecMedia.rpt_refxml.date_2015-12-23.2016-11-29.xml.gz",
         "SintecMedia.rpt_refxml.date_2015-12-23.2016-11-29.xml.gz",
         5375358,
         1677512267000
        ],
        [
         "dbfs:/mnt/ddscoursedatastorage/fwm-stb-data/refxml/SintecMedia.rpt_refxml.date_2015-12-24.2016-11-29.xml.gz",
         "SintecMedia.rpt_refxml.date_2015-12-24.2016-11-29.xml.gz",
         5374935,
         1677512258000
        ],
        [
         "dbfs:/mnt/ddscoursedatastorage/fwm-stb-data/refxml/SintecMedia.rpt_refxml.date_2015-12-25.2016-11-29.xml.gz",
         "SintecMedia.rpt_refxml.date_2015-12-25.2016-11-29.xml.gz",
         5374974,
         1677512267000
        ],
        [
         "dbfs:/mnt/ddscoursedatastorage/fwm-stb-data/refxml/SintecMedia.rpt_refxml.date_2015-12-26.2016-11-29.xml.gz",
         "SintecMedia.rpt_refxml.date_2015-12-26.2016-11-29.xml.gz",
         5374990,
         1677512253000
        ],
        [
         "dbfs:/mnt/ddscoursedatastorage/fwm-stb-data/refxml/SintecMedia.rpt_refxml.date_2015-12-27.2016-11-29.xml.gz",
         "SintecMedia.rpt_refxml.date_2015-12-27.2016-11-29.xml.gz",
         5374910,
         1677512266000
        ],
        [
         "dbfs:/mnt/ddscoursedatastorage/fwm-stb-data/refxml/SintecMedia.rpt_refxml.date_2015-12-28.2016-11-29.xml.gz",
         "SintecMedia.rpt_refxml.date_2015-12-28.2016-11-29.xml.gz",
         5372775,
         1677512268000
        ],
        [
         "dbfs:/mnt/ddscoursedatastorage/fwm-stb-data/refxml/SintecMedia.rpt_refxml.date_2015-12-29.2016-11-29.xml.gz",
         "SintecMedia.rpt_refxml.date_2015-12-29.2016-11-29.xml.gz",
         5372182,
         1677512268000
        ],
        [
         "dbfs:/mnt/ddscoursedatastorage/fwm-stb-data/refxml/SintecMedia.rpt_refxml.date_2015-12-30.2016-11-29.xml.gz",
         "SintecMedia.rpt_refxml.date_2015-12-30.2016-11-29.xml.gz",
         5369749,
         1677512250000
        ],
        [
         "dbfs:/mnt/ddscoursedatastorage/fwm-stb-data/refxml/SintecMedia.rpt_refxml.date_2015-12-31.2016-11-29.xml.gz",
         "SintecMedia.rpt_refxml.date_2015-12-31.2016-11-29.xml.gz",
         5369064,
         1677512268000
        ]
       ],
       "datasetInfos": [],
       "dbfsResultPath": null,
       "isJsonSchema": true,
       "metadata": {},
       "overflow": false,
       "plotOptions": {
        "customPlotOptions": {},
        "displayType": "table",
        "pivotAggregation": null,
        "pivotColumns": null,
        "xColumns": null,
        "yColumns": null
       },
       "removedWidgets": [],
       "schema": [
        {
         "metadata": "{}",
         "name": "path",
         "type": "\"string\""
        },
        {
         "metadata": "{}",
         "name": "name",
         "type": "\"string\""
        },
        {
         "metadata": "{}",
         "name": "size",
         "type": "\"long\""
        },
        {
         "metadata": "{}",
         "name": "modificationTime",
         "type": "\"long\""
        }
       ],
       "type": "table"
      }
     },
     "output_type": "display_data"
    }
   ],
   "source": [
    "%fs\n",
    "ls /mnt/ddscoursedatastorage/fwm-stb-data/refxml"
   ]
  },
  {
   "attachments": {},
   "cell_type": "markdown",
   "metadata": {
    "application/vnd.databricks.v1+cell": {
     "cellMetadata": {
      "byteLimit": 2048000,
      "rowLimit": 10000
     },
     "inputWidgets": {},
     "nuid": "e632e841-3ab1-4e8a-9385-6a216a65efb8",
     "showTitle": false,
     "title": ""
    }
   },
   "source": [
    "## Read XML file\n",
    "\n",
    "An external library is needed to be installed in the cluster.\n",
    "\n",
    "Follow the instructions in https://learn.microsoft.com/en-us/azure/databricks/libraries/cluster-libraries. <br>\n",
    "The library name is `com.databricks:spark-xml_2.12:0.16.0`\n",
    "\n",
    "and can be downloaded from `https://repo1.maven.org/maven2/com/databricks/spark-xml_2.12/0.16.0/spark-xml_2.12-0.16.0.jar`\n",
    "\n",
    "or installed directly using the Maven coordinates"
   ]
  },
  {
   "cell_type": "code",
   "execution_count": null,
   "metadata": {
    "application/vnd.databricks.v1+cell": {
     "cellMetadata": {
      "byteLimit": 2048000,
      "rowLimit": 10000
     },
     "inputWidgets": {},
     "nuid": "8ec9c17a-0578-42d8-83a3-3e010cccd259",
     "showTitle": false,
     "title": ""
    }
   },
   "outputs": [],
   "source": [
    "fname = \"dbfs:/mnt/ddscoursedatastorage/fwm-stb-data/refxml/SintecMedia.rpt_refxml.date_2015-01-01.2016-11-21.xml.gz\"\n",
    "df = spark.read.format(\"xml\").option(\"compression\",\"gzip\").option(\"rowTag\", \"mapping\").load(fname)"
   ]
  },
  {
   "cell_type": "code",
   "execution_count": null,
   "metadata": {
    "application/vnd.databricks.v1+cell": {
     "cellMetadata": {
      "byteLimit": 2048000,
      "rowLimit": 10000
     },
     "inputWidgets": {},
     "nuid": "b2072feb-4cd6-41a2-a4d8-f9fd6af65cee",
     "showTitle": false,
     "title": ""
    }
   },
   "outputs": [
    {
     "name": "stdout",
     "output_type": "stream",
     "text": [
      "+------------+------+---------+-------------+---------------+------------+--------+\n",
      "|  _device-id|  _dma|_dma-code|_household-id|_household-type|_system-type|_zipcode|\n",
      "+------------+------+---------+-------------+---------------+------------+--------+\n",
      "|00000008354e|Toledo|      547|      1522829|         FWM-ID|           H|   43434|\n",
      "|0000009ef08e|Toledo|      547|      1522829|         FWM-ID|           H|   43434|\n",
      "|0000037bb803|Toledo|      547|      1522829|         FWM-ID|           H|   43434|\n",
      "|0000006610c1|Toledo|      547|      1438798|         FWM-ID|           H|   43460|\n",
      "|00000066807b|Toledo|      547|      1438798|         FWM-ID|           H|   43460|\n",
      "+------------+------+---------+-------------+---------------+------------+--------+\n",
      "only showing top 5 rows\n",
      "\n"
     ]
    }
   ],
   "source": [
    "df.show(5)"
   ]
  },
  {
   "cell_type": "code",
   "execution_count": null,
   "metadata": {
    "application/vnd.databricks.v1+cell": {
     "cellMetadata": {
      "byteLimit": 2048000,
      "rowLimit": 10000
     },
     "inputWidgets": {},
     "nuid": "8debe556-5b68-40de-b32f-559728beb6b8",
     "showTitle": false,
     "title": ""
    }
   },
   "outputs": [
    {
     "name": "stdout",
     "output_type": "stream",
     "text": [
      "root\n",
      " |-- _device-id: string (nullable = true)\n",
      " |-- _dma: string (nullable = true)\n",
      " |-- _dma-code: long (nullable = true)\n",
      " |-- _household-id: long (nullable = true)\n",
      " |-- _household-type: string (nullable = true)\n",
      " |-- _system-type: string (nullable = true)\n",
      " |-- _zipcode: long (nullable = true)\n",
      "\n"
     ]
    }
   ],
   "source": [
    "df.printSchema()"
   ]
  },
  {
   "cell_type": "code",
   "execution_count": null,
   "metadata": {
    "application/vnd.databricks.v1+cell": {
     "cellMetadata": {
      "byteLimit": 2048000,
      "rowLimit": 10000
     },
     "inputWidgets": {},
     "nuid": "6ed6b4a3-3b0a-4c47-a0d6-04e1bc26f3a3",
     "showTitle": false,
     "title": ""
    }
   },
   "outputs": [
    {
     "name": "stdout",
     "output_type": "stream",
     "text": [
      "+------------+--------+---------+-------------+---------------+------------+--------+\n",
      "|  _device-id|    _dma|_dma-code|_household-id|_household-type|_system-type|_zipcode|\n",
      "+------------+--------+---------+-------------+---------------+------------+--------+\n",
      "|000001610ea7|Bend, OR|      821|       376958|         FWM-ID|           T|   97701|\n",
      "|000001e31e63|Bend, OR|      821|       376958|         FWM-ID|           T|   97701|\n",
      "|000004351013|Bend, OR|      821|       376958|         FWM-ID|           T|   97701|\n",
      "|000013fb006b|Bend, OR|      821|       376958|         FWM-ID|           T|   97701|\n",
      "+------------+--------+---------+-------------+---------------+------------+--------+\n",
      "only showing top 4 rows\n",
      "\n"
     ]
    }
   ],
   "source": [
    "from pyspark.sql.functions import window, column, desc, col\n",
    "df.filter(col('_system-type') != 'H').show(4)"
   ]
  },
  {
   "cell_type": "code",
   "execution_count": null,
   "metadata": {
    "application/vnd.databricks.v1+cell": {
     "cellMetadata": {
      "byteLimit": 2048000,
      "rowLimit": 10000
     },
     "inputWidgets": {},
     "nuid": "4ad0641b-90d4-4214-be4f-30954e01b636",
     "showTitle": false,
     "title": ""
    }
   },
   "outputs": [
    {
     "name": "stdout",
     "output_type": "stream",
     "text": [
      "Out[11]: 577186"
     ]
    }
   ],
   "source": [
    "df.count()"
   ]
  },
  {
   "cell_type": "code",
   "execution_count": null,
   "metadata": {
    "application/vnd.databricks.v1+cell": {
     "cellMetadata": {
      "byteLimit": 2048000,
      "rowLimit": 10000
     },
     "inputWidgets": {},
     "nuid": "2d30250b-d5c0-43c0-b218-05fedf8c66b0",
     "showTitle": false,
     "title": ""
    }
   },
   "outputs": [
    {
     "name": "stdout",
     "output_type": "stream",
     "text": [
      "+------------+------+\n",
      "|_system-type| count|\n",
      "+------------+------+\n",
      "|           T|113082|\n",
      "|       H,T,V|403803|\n",
      "|         H,T|  4218|\n",
      "|           H| 56083|\n",
      "+------------+------+\n",
      "\n"
     ]
    }
   ],
   "source": [
    "# how many records generated from each of the system types?\n",
    "df.groupBy(\"_system-type\").count().show()"
   ]
  }
 ],
 "metadata": {
  "application/vnd.databricks.v1+notebook": {
   "dashboards": [],
   "language": "python",
   "notebookMetadata": {
    "mostRecentlyExecutedCommandWithImplicitDF": {
     "commandId": 4073805042328562,
     "dataframes": [
      "_sqldf"
     ]
    },
    "pythonIndentUnit": 4
   },
   "notebookName": "mounting and reading",
   "widgets": {}
  },
  "language_info": {
   "name": "python"
  }
 },
 "nbformat": 4,
 "nbformat_minor": 0
}
